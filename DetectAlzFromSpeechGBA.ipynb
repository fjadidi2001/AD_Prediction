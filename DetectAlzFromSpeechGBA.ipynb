{
  "nbformat": 4,
  "nbformat_minor": 0,
  "metadata": {
    "colab": {
      "provenance": [],
      "authorship_tag": "ABX9TyP+fH609YUMIAcljZbJ5fG5",
      "include_colab_link": true
    },
    "kernelspec": {
      "name": "python3",
      "display_name": "Python 3"
    },
    "language_info": {
      "name": "python"
    }
  },
  "cells": [
    {
      "cell_type": "markdown",
      "metadata": {
        "id": "view-in-github",
        "colab_type": "text"
      },
      "source": [
        "<a href=\"https://colab.research.google.com/github/fjadidi2001/AD_Prediction/blob/main/DetectAlzFromSpeechGBA.ipynb\" target=\"_parent\"><img src=\"https://colab.research.google.com/assets/colab-badge.svg\" alt=\"Open In Colab\"/></a>"
      ]
    },
    {
      "cell_type": "code",
      "execution_count": null,
      "metadata": {
        "id": "WI-ChIc4Zgx-"
      },
      "outputs": [],
      "source": [
        "import os\n",
        "from google.colab import drive\n",
        "\n",
        "# Mount Google Drive\n",
        "try:\n",
        "    drive.mount('/content/drive', force_remount=False)\n",
        "except:\n",
        "    drive.mount('/content/drive')\n",
        "\n",
        "# Define the base directory\n",
        "base_directory = '/content/drive/MyDrive/Speech'\n",
        "\n",
        "# Check if the directory exists\n",
        "if os.path.exists(base_directory):\n",
        "    # Separate lists for files and directories\n",
        "    file_paths = []\n",
        "    directory_paths = []\n",
        "\n",
        "    for root, directories, files in os.walk(base_directory):\n",
        "        # Add directory paths\n",
        "        for directory in directories:\n",
        "            dir_path = os.path.join(root, directory)\n",
        "            directory_paths.append(dir_path)\n",
        "\n",
        "        # Add file paths\n",
        "        for file in files:\n",
        "            file_path = os.path.join(root, file)\n",
        "            file_paths.append(file_path)\n",
        "\n",
        "    print(\"Directories:\")\n",
        "    for directory in directory_paths:\n",
        "        print(f\"  {directory}\")\n",
        "\n",
        "    print(f\"\\nFiles:\")\n",
        "    for file in file_paths:\n",
        "        print(f\"  {file}\")\n",
        "\n",
        "    print(f\"\\nSummary:\")\n",
        "    print(f\"  Total directories: {len(directory_paths)}\")\n",
        "    print(f\"  Total files: {len(file_paths)}\")\n",
        "    print(f\"  Total paths: {len(file_paths) + len(directory_paths)}\")\n",
        "\n",
        "else:\n",
        "    print(f\"Directory {base_directory} does not exist!\")"
      ]
    }
  ]
}