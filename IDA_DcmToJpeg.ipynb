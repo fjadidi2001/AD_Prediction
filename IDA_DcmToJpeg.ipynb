{
  "nbformat": 4,
  "nbformat_minor": 0,
  "metadata": {
    "colab": {
      "provenance": [],
      "authorship_tag": "ABX9TyOOxSDOc3XPOD9Sa2NO9/g8",
      "include_colab_link": true
    },
    "kernelspec": {
      "name": "python3",
      "display_name": "Python 3"
    },
    "language_info": {
      "name": "python"
    }
  },
  "cells": [
    {
      "cell_type": "markdown",
      "metadata": {
        "id": "view-in-github",
        "colab_type": "text"
      },
      "source": [
        "<a href=\"https://colab.research.google.com/github/fjadidi2001/AD_Prediction/blob/main/IDA_DcmToJpeg.ipynb\" target=\"_parent\"><img src=\"https://colab.research.google.com/assets/colab-badge.svg\" alt=\"Open In Colab\"/></a>"
      ]
    },
    {
      "cell_type": "code",
      "execution_count": 1,
      "metadata": {
        "id": "1vuS2HF0WE_t",
        "colab": {
          "base_uri": "https://localhost:8080/"
        },
        "outputId": "c8db2aa6-5282-4763-b024-d8313853c05f"
      },
      "outputs": [
        {
          "output_type": "stream",
          "name": "stdout",
          "text": [
            "Collecting pydicom\n",
            "  Downloading pydicom-3.0.1-py3-none-any.whl.metadata (9.4 kB)\n",
            "Requirement already satisfied: pillow in /usr/local/lib/python3.11/dist-packages (11.1.0)\n",
            "Downloading pydicom-3.0.1-py3-none-any.whl (2.4 MB)\n",
            "\u001b[2K   \u001b[90m━━━━━━━━━━━━━━━━━━━━━━━━━━━━━━━━━━━━━━━━\u001b[0m \u001b[32m2.4/2.4 MB\u001b[0m \u001b[31m13.4 MB/s\u001b[0m eta \u001b[36m0:00:00\u001b[0m\n",
            "\u001b[?25hInstalling collected packages: pydicom\n",
            "Successfully installed pydicom-3.0.1\n"
          ]
        }
      ],
      "source": [
        "!pip install pydicom pillow"
      ]
    },
    {
      "cell_type": "code",
      "source": [
        "import pydicom\n",
        "from PIL import Image\n",
        "import numpy as np\n",
        "\n",
        "def dcm_to_jpg(dcm_path, jpg_path):\n",
        "    # Read the DICOM file\n",
        "    dicom_data = pydicom.dcmread(dcm_path)\n",
        "\n",
        "    # Extract the pixel array (image data)\n",
        "    pixel_array = dicom_data.pixel_array\n",
        "\n",
        "    # Normalize the pixel array to 0-255 (8-bit image)\n",
        "    pixel_array = ((pixel_array - np.min(pixel_array)) / (np.max(pixel_array) - np.min(pixel_array)) * 255.0)\n",
        "    pixel_array = pixel_array.astype(np.uint8)\n",
        "\n",
        "    # Convert the pixel array to a PIL Image\n",
        "    image = Image.fromarray(pixel_array)\n",
        "\n",
        "    # Save the image as a JPEG file\n",
        "    image.save(jpg_path, \"JPEG\")\n",
        "\n",
        "# Example usage\n",
        "dcm_file_path = \"/content/ADNI_127_S_4148_MR_Accelerated_Sagittal_IR-FSPGR__br_raw_20170719160428801_136_S585683_I876746.dcm\"  # Path to your DICOM file\n",
        "jpg_file_path = \"output.jpg\"  # Path to save the JPEG file\n",
        "dcm_to_jpg(dcm_file_path, jpg_file_path)"
      ],
      "metadata": {
        "id": "aZfxlQ3vaOjW"
      },
      "execution_count": 4,
      "outputs": []
    },
    {
      "cell_type": "code",
      "source": [
        "import pydicom\n",
        "\n",
        "# Path to your DICOM file\n",
        "dicom_path = \"your_file_path.dcm\"\n",
        "\n",
        "# Read the DICOM file\n",
        "ds = pydicom.dcmread(dicom_path)\n",
        "\n",
        "# Extract key metadata\n",
        "metadata = {\n",
        "    \"Patient ID\": ds.PatientID if \"PatientID\" in ds else \"N/A\",\n",
        "    \"Study Date\": ds.StudyDate if \"StudyDate\" in ds else \"N/A\",\n",
        "    \"Modality\": ds.Modality if \"Modality\" in ds else \"N/A\",\n",
        "    \"Series Description\": ds.SeriesDescription if \"SeriesDescription\" in ds else \"N/A\",\n",
        "    \"Protocol Name\": ds.ProtocolName if \"ProtocolName\" in ds else \"N/A\",\n",
        "    \"Image Type\": ds.ImageType if \"ImageType\" in ds else \"N/A\",\n",
        "    \"Manufacturer\": ds.Manufacturer if \"Manufacturer\" in ds else \"N/A\",\n",
        "    \"Magnetic Field Strength\": ds.MagneticFieldStrength if \"MagneticFieldStrength\" in ds else \"N/A\"\n",
        "}\n",
        "\n",
        "# Print metadata\n",
        "for key, value in metadata.items():\n",
        "    print(f\"{key}: {value}\")\n"
      ],
      "metadata": {
        "id": "8NVk28qwkEKd"
      },
      "execution_count": null,
      "outputs": []
    }
  ]
}