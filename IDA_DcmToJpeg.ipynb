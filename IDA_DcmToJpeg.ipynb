{
  "nbformat": 4,
  "nbformat_minor": 0,
  "metadata": {
    "colab": {
      "provenance": [],
      "authorship_tag": "ABX9TyNux0qDW8g1OtxCfw7YcZqL",
      "include_colab_link": true
    },
    "kernelspec": {
      "name": "python3",
      "display_name": "Python 3"
    },
    "language_info": {
      "name": "python"
    }
  },
  "cells": [
    {
      "cell_type": "markdown",
      "metadata": {
        "id": "view-in-github",
        "colab_type": "text"
      },
      "source": [
        "<a href=\"https://colab.research.google.com/github/fjadidi2001/AD_Prediction/blob/main/IDA_DcmToJpeg.ipynb\" target=\"_parent\"><img src=\"https://colab.research.google.com/assets/colab-badge.svg\" alt=\"Open In Colab\"/></a>"
      ]
    },
    {
      "cell_type": "code",
      "execution_count": 1,
      "metadata": {
        "id": "1vuS2HF0WE_t",
        "colab": {
          "base_uri": "https://localhost:8080/"
        },
        "outputId": "c8db2aa6-5282-4763-b024-d8313853c05f"
      },
      "outputs": [
        {
          "output_type": "stream",
          "name": "stdout",
          "text": [
            "Collecting pydicom\n",
            "  Downloading pydicom-3.0.1-py3-none-any.whl.metadata (9.4 kB)\n",
            "Requirement already satisfied: pillow in /usr/local/lib/python3.11/dist-packages (11.1.0)\n",
            "Downloading pydicom-3.0.1-py3-none-any.whl (2.4 MB)\n",
            "\u001b[2K   \u001b[90m━━━━━━━━━━━━━━━━━━━━━━━━━━━━━━━━━━━━━━━━\u001b[0m \u001b[32m2.4/2.4 MB\u001b[0m \u001b[31m13.4 MB/s\u001b[0m eta \u001b[36m0:00:00\u001b[0m\n",
            "\u001b[?25hInstalling collected packages: pydicom\n",
            "Successfully installed pydicom-3.0.1\n"
          ]
        }
      ],
      "source": [
        "!pip install pydicom pillow"
      ]
    },
    {
      "cell_type": "code",
      "source": [
        "import pydicom\n",
        "from PIL import Image\n",
        "import numpy as np\n",
        "\n",
        "def dcm_to_jpg(dcm_path, jpg_path):\n",
        "    # Read the DICOM file\n",
        "    dicom_data = pydicom.dcmread(dcm_path)\n",
        "\n",
        "    # Extract the pixel array (image data)\n",
        "    pixel_array = dicom_data.pixel_array\n",
        "\n",
        "    # Normalize the pixel array to 0-255 (8-bit image)\n",
        "    pixel_array = ((pixel_array - np.min(pixel_array)) / (np.max(pixel_array) - np.min(pixel_array)) * 255.0)\n",
        "    pixel_array = pixel_array.astype(np.uint8)\n",
        "\n",
        "    # Convert the pixel array to a PIL Image\n",
        "    image = Image.fromarray(pixel_array)\n",
        "\n",
        "    # Save the image as a JPEG file\n",
        "    image.save(jpg_path, \"JPEG\")\n",
        "\n",
        "# Example usage\n",
        "dcm_file_path = \"DCM/input.dcm\"  # Path to your DICOM file\n",
        "jpg_file_path = \"output.jpg\"  # Path to save the JPEG file\n",
        "dcm_to_jpg(dcm_file_path, jpg_file_path)"
      ],
      "metadata": {
        "id": "aZfxlQ3vaOjW",
        "outputId": "45ef4554-2921-47ac-8580-acb6291d0568",
        "colab": {
          "base_uri": "https://localhost:8080/",
          "height": 338
        }
      },
      "execution_count": 3,
      "outputs": [
        {
          "output_type": "error",
          "ename": "FileNotFoundError",
          "evalue": "[Errno 2] No such file or directory: 'input.dcm'",
          "traceback": [
            "\u001b[0;31m---------------------------------------------------------------------------\u001b[0m",
            "\u001b[0;31mFileNotFoundError\u001b[0m                         Traceback (most recent call last)",
            "\u001b[0;32m<ipython-input-3-4705e46bdee0>\u001b[0m in \u001b[0;36m<cell line: 0>\u001b[0;34m()\u001b[0m\n\u001b[1;32m     23\u001b[0m \u001b[0mdcm_file_path\u001b[0m \u001b[0;34m=\u001b[0m \u001b[0;34m\"input.dcm\"\u001b[0m  \u001b[0;31m# Path to your DICOM file\u001b[0m\u001b[0;34m\u001b[0m\u001b[0;34m\u001b[0m\u001b[0m\n\u001b[1;32m     24\u001b[0m \u001b[0mjpg_file_path\u001b[0m \u001b[0;34m=\u001b[0m \u001b[0;34m\"output.jpg\"\u001b[0m  \u001b[0;31m# Path to save the JPEG file\u001b[0m\u001b[0;34m\u001b[0m\u001b[0;34m\u001b[0m\u001b[0m\n\u001b[0;32m---> 25\u001b[0;31m \u001b[0mdcm_to_jpg\u001b[0m\u001b[0;34m(\u001b[0m\u001b[0mdcm_file_path\u001b[0m\u001b[0;34m,\u001b[0m \u001b[0mjpg_file_path\u001b[0m\u001b[0;34m)\u001b[0m\u001b[0;34m\u001b[0m\u001b[0;34m\u001b[0m\u001b[0m\n\u001b[0m",
            "\u001b[0;32m<ipython-input-3-4705e46bdee0>\u001b[0m in \u001b[0;36mdcm_to_jpg\u001b[0;34m(dcm_path, jpg_path)\u001b[0m\n\u001b[1;32m      5\u001b[0m \u001b[0;32mdef\u001b[0m \u001b[0mdcm_to_jpg\u001b[0m\u001b[0;34m(\u001b[0m\u001b[0mdcm_path\u001b[0m\u001b[0;34m,\u001b[0m \u001b[0mjpg_path\u001b[0m\u001b[0;34m)\u001b[0m\u001b[0;34m:\u001b[0m\u001b[0;34m\u001b[0m\u001b[0;34m\u001b[0m\u001b[0m\n\u001b[1;32m      6\u001b[0m     \u001b[0;31m# Read the DICOM file\u001b[0m\u001b[0;34m\u001b[0m\u001b[0;34m\u001b[0m\u001b[0m\n\u001b[0;32m----> 7\u001b[0;31m     \u001b[0mdicom_data\u001b[0m \u001b[0;34m=\u001b[0m \u001b[0mpydicom\u001b[0m\u001b[0;34m.\u001b[0m\u001b[0mdcmread\u001b[0m\u001b[0;34m(\u001b[0m\u001b[0mdcm_path\u001b[0m\u001b[0;34m)\u001b[0m\u001b[0;34m\u001b[0m\u001b[0;34m\u001b[0m\u001b[0m\n\u001b[0m\u001b[1;32m      8\u001b[0m \u001b[0;34m\u001b[0m\u001b[0m\n\u001b[1;32m      9\u001b[0m     \u001b[0;31m# Extract the pixel array (image data)\u001b[0m\u001b[0;34m\u001b[0m\u001b[0;34m\u001b[0m\u001b[0m\n",
            "\u001b[0;32m/usr/local/lib/python3.11/dist-packages/pydicom/filereader.py\u001b[0m in \u001b[0;36mdcmread\u001b[0;34m(fp, defer_size, stop_before_pixels, force, specific_tags)\u001b[0m\n\u001b[1;32m   1040\u001b[0m         \u001b[0mcaller_owns_file\u001b[0m \u001b[0;34m=\u001b[0m \u001b[0;32mFalse\u001b[0m\u001b[0;34m\u001b[0m\u001b[0;34m\u001b[0m\u001b[0m\n\u001b[1;32m   1041\u001b[0m         \u001b[0mlogger\u001b[0m\u001b[0;34m.\u001b[0m\u001b[0mdebug\u001b[0m\u001b[0;34m(\u001b[0m\u001b[0;34mf\"Reading file '{fp}'\"\u001b[0m\u001b[0;34m)\u001b[0m\u001b[0;34m\u001b[0m\u001b[0;34m\u001b[0m\u001b[0m\n\u001b[0;32m-> 1042\u001b[0;31m         \u001b[0mfp\u001b[0m \u001b[0;34m=\u001b[0m \u001b[0mopen\u001b[0m\u001b[0;34m(\u001b[0m\u001b[0mfp\u001b[0m\u001b[0;34m,\u001b[0m \u001b[0;34m\"rb\"\u001b[0m\u001b[0;34m)\u001b[0m\u001b[0;34m\u001b[0m\u001b[0;34m\u001b[0m\u001b[0m\n\u001b[0m\u001b[1;32m   1043\u001b[0m     elif (\n\u001b[1;32m   1044\u001b[0m         \u001b[0mfp\u001b[0m \u001b[0;32mis\u001b[0m \u001b[0;32mNone\u001b[0m\u001b[0;34m\u001b[0m\u001b[0;34m\u001b[0m\u001b[0m\n",
            "\u001b[0;31mFileNotFoundError\u001b[0m: [Errno 2] No such file or directory: 'input.dcm'"
          ]
        }
      ]
    }
  ]
}