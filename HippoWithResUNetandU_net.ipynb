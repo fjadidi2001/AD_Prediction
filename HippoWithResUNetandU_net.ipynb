{
  "nbformat": 4,
  "nbformat_minor": 0,
  "metadata": {
    "colab": {
      "provenance": [],
      "gpuType": "T4",
      "authorship_tag": "ABX9TyNh8eYDbwLs2HCSsZpowiDN",
      "include_colab_link": true
    },
    "kernelspec": {
      "name": "python3",
      "display_name": "Python 3"
    },
    "language_info": {
      "name": "python"
    },
    "accelerator": "GPU"
  },
  "cells": [
    {
      "cell_type": "markdown",
      "metadata": {
        "id": "view-in-github",
        "colab_type": "text"
      },
      "source": [
        "<a href=\"https://colab.research.google.com/github/fjadidi2001/AD_Prediction/blob/main/HippoWithResUNetandU_net.ipynb\" target=\"_parent\"><img src=\"https://colab.research.google.com/assets/colab-badge.svg\" alt=\"Open In Colab\"/></a>"
      ]
    },
    {
      "cell_type": "code",
      "execution_count": 3,
      "metadata": {
        "colab": {
          "base_uri": "https://localhost:8080/"
        },
        "id": "WCUmjTwnqVOk",
        "outputId": "e2282472-82cc-472f-fe11-1f2aefc52c4d"
      },
      "outputs": [
        {
          "output_type": "stream",
          "name": "stdout",
          "text": [
            "Mounted at /content/drive\n",
            "TensorFlow version: 2.18.0\n",
            "Environment setup complete.\n"
          ]
        }
      ],
      "source": [
        "# Cell 1: Setup and Imports\n",
        "# Purpose: Import libraries, mount Google Drive, and set random seed.\n",
        "import os\n",
        "import numpy as np\n",
        "import pandas as pd\n",
        "import matplotlib.pyplot as plt\n",
        "import seaborn as sns\n",
        "from sklearn.model_selection import train_test_split\n",
        "from sklearn.metrics import confusion_matrix\n",
        "from sklearn.utils import shuffle\n",
        "import tensorflow as tf\n",
        "from tensorflow import keras\n",
        "from tensorflow.keras import layers\n",
        "from tensorflow.keras.applications import ResNet50\n",
        "import cv2\n",
        "import zipfile\n",
        "from google.colab import drive\n",
        "drive.mount('/content/drive')\n",
        "seed = 42\n",
        "np.random.seed(seed)\n",
        "tf.random.set_seed(seed)\n",
        "print(f\"TensorFlow version: {tf.__version__}\")\n",
        "print(\"Environment setup complete.\")"
      ]
    },
    {
      "cell_type": "markdown",
      "source": [
        "# Define Metrics"
      ],
      "metadata": {
        "id": "_2aPo7SEzRAy"
      }
    },
    {
      "cell_type": "code",
      "source": [
        "# Purpose: Define custom metrics for segmentation evaluation (Dice, IoU, precision, recall).\n",
        "def dice_coef(y_true, y_pred, smooth=1e-6):\n",
        "    y_true_f = tf.keras.backend.flatten(y_true)\n",
        "    y_pred_f = tf.keras.backend.flatten(y_pred)\n",
        "    intersection = tf.keras.backend.sum(y_true_f * y_pred_f)\n",
        "    return (2. * intersection + smooth) / (tf.keras.backend.sum(y_true_f) + tf.keras.backend.sum(y_pred_f) + smooth)\n",
        "\n",
        "def iou(y_true, y_pred, smooth=1e-6):\n",
        "    y_true_f = tf.keras.backend.flatten(y_true)\n",
        "    y_pred_f = tf.keras.backend.flatten(y_pred)\n",
        "    intersection = tf.keras.backend.sum(y_true_f * y_pred_f)\n",
        "    union = tf.keras.backend.sum(y_true_f) + tf.keras.backend.sum(y_pred_f) - intersection\n",
        "    return (intersection + smooth) / (union + smooth)\n",
        "\n",
        "def compute_metrics(y_true, y_pred, threshold=0.5):\n",
        "    y_pred_bin = (y_pred > threshold).astype(np.float32)\n",
        "    dice = dice_coef(y_true, y_pred_bin).numpy()\n",
        "    iou_score = iou(y_true, y_pred_bin).numpy()\n",
        "    y_true_f = y_true.flatten()\n",
        "    y_pred_f = y_pred_bin.flatten()\n",
        "    precision = np.sum(y_true_f * y_pred_f) / (np.sum(y_pred_f) + 1e-6)\n",
        "    recall = np.sum(y_true_f * y_pred_f) / (np.sum(y_true_f) + 1e-6)\n",
        "    return dice, iou_score, precision, recall\n",
        "\n",
        "print(\"Metrics defined: Dice, IoU, Precision, Recall\")"
      ],
      "metadata": {
        "colab": {
          "base_uri": "https://localhost:8080/"
        },
        "id": "vhUhx3zMzIQK",
        "outputId": "9a1b968c-a7f3-4dee-b6bb-3783a5d1bd2e"
      },
      "execution_count": 4,
      "outputs": [
        {
          "output_type": "stream",
          "name": "stdout",
          "text": [
            "Metrics defined: Dice, IoU, Precision, Recall\n"
          ]
        }
      ]
    },
    {
      "cell_type": "markdown",
      "source": [
        "# Data Loading"
      ],
      "metadata": {
        "id": "JS6x8DFXzc-3"
      }
    },
    {
      "cell_type": "code",
      "source": [
        "# Cell 3: Data Loading\n",
        "# Purpose: Load and preprocess hippocampus MRI images and masks from zip file.\n",
        "def load_image(img_path, target_size=(128, 128)):\n",
        "    img = cv2.imread(img_path, cv2.IMREAD_COLOR)\n",
        "    if img is None:\n",
        "        raise ValueError(f\"Failed to load image: {img_path}\")\n",
        "    img = cv2.resize(img, target_size)\n",
        "    img = img / 255.0\n",
        "    return img.astype(np.float32)\n",
        "\n",
        "def load_mask(mask_path, target_size=(128, 128)):\n",
        "    mask = cv2.imread(mask_path, cv2.IMREAD_GRAYSCALE)\n",
        "    if mask is None:\n",
        "        raise ValueError(f\"Failed to load mask: {mask_path}\")\n",
        "    mask = cv2.resize(mask, target_size)\n",
        "    mask = (mask > 0).astype(np.float32)\n",
        "    mask = mask[:, :, np.newaxis]\n",
        "    return mask\n",
        "\n",
        "# Unzip dataset\n",
        "zip_path = '/content/hippocampus segmentation dataset.zip'\n",
        "extract_path = '/content/hippocampus_dataset'\n",
        "if not os.path.exists(zip_path):\n",
        "    raise FileNotFoundError(f\"Zip file not found: {zip_path}\")\n",
        "with zipfile.ZipFile(zip_path, 'r') as zip_ref:\n",
        "    zip_ref.extractall(extract_path)\n",
        "\n",
        "# Recursive file search\n",
        "def find_files(directory, extensions):\n",
        "    files = []\n",
        "    for root, _, filenames in os.walk(directory):\n",
        "        for f in filenames:\n",
        "            if any(f.lower().endswith(ext) for ext in extensions):\n",
        "                files.append(os.path.join(root, f))\n",
        "    return sorted(files)\n",
        "\n",
        "# Find images and masks\n",
        "image_extensions = ('.jpg', '.jpeg', '.png')\n",
        "mask_extensions = ('.jpg', '.jpeg', '.png')\n",
        "all_files = find_files(extract_path, image_extensions + mask_extensions)\n",
        "image_files = [f for f in all_files if not any(kw in os.path.basename(f).lower() for kw in ['mask', '_mask', 'seg', 'segmentation'])]\n",
        "mask_files = [f for f in all_files if any(kw in os.path.basename(f).lower() for kw in ['mask', '_mask', 'seg', 'segmentation'])]\n",
        "\n",
        "# Debug prints\n",
        "print(f\"Found {len(image_files)} image files, {len(mask_files)} mask files\")\n",
        "if image_files:\n",
        "    print(\"Sample images:\", image_files[:3])\n",
        "if mask_files:\n",
        "    print(\"Sample masks:\", mask_files[:3])\n",
        "\n",
        "# Pair images and masks\n",
        "train_data = []\n",
        "if len(image_files) == len(mask_files):\n",
        "    # Try index-based pairing if equal number of files\n",
        "    print(\"Attempting index-based pairing (sorted files)\")\n",
        "    train_data = list(zip(image_files, mask_files))\n",
        "else:\n",
        "    # Flexible name-based pairing\n",
        "    print(\"Attempting name-based pairing\")\n",
        "    for img in image_files:\n",
        "        img_name = os.path.basename(img).lower().split('.')[0]\n",
        "        for mask in mask_files:\n",
        "            mask_name = os.path.basename(mask).lower().split('.')[0]\n",
        "            # Match if names share a common identifier\n",
        "            if img_name.replace('img', '') in mask_name or mask_name.replace('mask', '').replace('seg', '') in img_name:\n",
        "                train_data.append((img, mask))\n",
        "                break\n",
        "            # Alternative: Replace 'img' with 'mask' or 'seg'\n",
        "            if img_name.replace('img', 'mask') == mask_name or img_name.replace('img', 'seg') == mask_name:\n",
        "                train_data.append((img, mask))\n",
        "                break\n",
        "\n",
        "print(f\"Paired {len(train_data)} image-mask pairs\")\n",
        "if not train_data:\n",
        "    # Debug unmatched files\n",
        "    print(\"Unmatched images:\", [os.path.basename(f) for f in image_files[:5]])\n",
        "    print(\"Unmatched masks:\", [os.path.basename(f) for f in mask_files[:5]])\n",
        "    raise ValueError(\"No image-mask pairs found. Check file names or directory structure. See unmatched files above.\")\n",
        "\n",
        "# Load data\n",
        "X = np.array([load_image(img_path) for img_path, _ in train_data])\n",
        "Y = np.array([load_mask(mask_path) for _, mask_path in train_data])\n",
        "\n",
        "# Split data\n",
        "if X.shape[0] == 0:\n",
        "    raise ValueError(\"No data loaded. Cannot proceed with empty dataset.\")\n",
        "X_train, X_test, Y_train, Y_test = train_test_split(X, Y, test_size=0.1, random_state=seed)\n",
        "print(f\"X_train shape: {X_train.shape}, X_test shape: {X_test.shape}\")\n",
        "print(f\"Y_train shape: {Y_train.shape}, Y_test shape: {Y_test.shape}\")"
      ],
      "metadata": {
        "colab": {
          "base_uri": "https://localhost:8080/"
        },
        "id": "qy9pP-L901Lw",
        "outputId": "dbdec6a1-ed09-4435-ce5a-8cb4d4d7a583"
      },
      "execution_count": 14,
      "outputs": [
        {
          "output_type": "stream",
          "name": "stdout",
          "text": [
            "Found 499 image files, 998 mask files\n",
            "Sample images: ['/content/hippocampus_dataset/aug/images/img_aug1.jpg', '/content/hippocampus_dataset/aug/images/img_aug10.jpg', '/content/hippocampus_dataset/aug/images/img_aug100.jpg']\n",
            "Sample masks: ['/content/hippocampus_dataset/aug/masks/left/maskleft_aug1.jpg', '/content/hippocampus_dataset/aug/masks/left/maskleft_aug10.jpg', '/content/hippocampus_dataset/aug/masks/left/maskleft_aug100.jpg']\n",
            "Attempting name-based pairing\n",
            "Paired 499 image-mask pairs\n",
            "X_train shape: (449, 128, 128, 3), X_test shape: (50, 128, 128, 3)\n",
            "Y_train shape: (449, 128, 128, 1), Y_test shape: (50, 128, 128, 1)\n"
          ]
        }
      ]
    },
    {
      "cell_type": "code",
      "source": [],
      "metadata": {
        "id": "u01z35uXzvtl"
      },
      "execution_count": null,
      "outputs": []
    }
  ]
}