{
  "nbformat": 4,
  "nbformat_minor": 0,
  "metadata": {
    "colab": {
      "provenance": [],
      "authorship_tag": "ABX9TyNqYw4Qw/vGAOv999Exibq5",
      "include_colab_link": true
    },
    "kernelspec": {
      "name": "python3",
      "display_name": "Python 3"
    },
    "language_info": {
      "name": "python"
    }
  },
  "cells": [
    {
      "cell_type": "markdown",
      "metadata": {
        "id": "view-in-github",
        "colab_type": "text"
      },
      "source": [
        "<a href=\"https://colab.research.google.com/github/fjadidi2001/AD_Prediction/blob/main/Voice.ipynb\" target=\"_parent\"><img src=\"https://colab.research.google.com/assets/colab-badge.svg\" alt=\"Open In Colab\"/></a>"
      ]
    },
    {
      "cell_type": "code",
      "execution_count": 2,
      "metadata": {
        "colab": {
          "base_uri": "https://localhost:8080/"
        },
        "id": "Gf3ZgTLAtmMy",
        "outputId": "c5963b89-2c82-4053-edda-895c08e84831"
      },
      "outputs": [
        {
          "output_type": "stream",
          "name": "stdout",
          "text": [
            "Mounted at /content/drive\n"
          ]
        }
      ],
      "source": [
        "from google.colab import drive\n",
        "drive.mount('/content/drive')"
      ]
    },
    {
      "cell_type": "markdown",
      "source": [
        "/content/drive/MyDrive/Voice/extracted/ADReSSo21/\n",
        "├── diagnosis/\n",
        "│   └── train/\n",
        "│       ├── audio/\n",
        "│       │   ├── ad/\n",
        "│       │   │   └── adrso024.wav\n",
        "│       │   └── cn/\n",
        "│       │       └── adrso002.wav\n",
        "│       └── segmentation/\n",
        "│           ├── ad/\n",
        "│           │   └── adrso024.csv\n",
        "│           └── cn/\n",
        "│               └── adrso002.csv\n",
        "├── progression/\n",
        "│   ├── train/\n",
        "│   │   ├── audio/\n",
        "│   │   │   ├── decline/\n",
        "│   │   │   └── no_decline/\n",
        "│   │   └── segmentation/\n",
        "│   │       ├── decline/\n",
        "│   │       └── no_decline/\n",
        "│   └── test-dist/\n",
        "│       ├── audio/\n",
        "│       │   └── adrspt1.wav\n",
        "│       └── segmentation/\n",
        "│           └── adrspt1.csv"
      ],
      "metadata": {
        "id": "esdcUIhSumtZ"
      }
    }
  ]
}