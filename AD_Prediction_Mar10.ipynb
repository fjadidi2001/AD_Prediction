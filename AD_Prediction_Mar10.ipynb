{
  "nbformat": 4,
  "nbformat_minor": 0,
  "metadata": {
    "colab": {
      "provenance": [],
      "authorship_tag": "ABX9TyMFMror+Hf7iMhUhGsQoiFT",
      "include_colab_link": true
    },
    "kernelspec": {
      "name": "python3",
      "display_name": "Python 3"
    },
    "language_info": {
      "name": "python"
    }
  },
  "cells": [
    {
      "cell_type": "markdown",
      "metadata": {
        "id": "view-in-github",
        "colab_type": "text"
      },
      "source": [
        "<a href=\"https://colab.research.google.com/github/fjadidi2001/AD_Prediction/blob/main/AD_Prediction_Mar10.ipynb\" target=\"_parent\"><img src=\"https://colab.research.google.com/assets/colab-badge.svg\" alt=\"Open In Colab\"/></a>"
      ]
    },
    {
      "cell_type": "code",
      "execution_count": 2,
      "metadata": {
        "id": "b3vNlrOLYPJX",
        "outputId": "cfda6e60-8b8d-4661-b5ce-6d067e0a514b",
        "colab": {
          "base_uri": "https://localhost:8080/",
          "height": 36
        }
      },
      "outputs": [
        {
          "output_type": "execute_result",
          "data": {
            "text/plain": [
              "'/content/data/alzheimer_prediction_flowchart.png'"
            ],
            "application/vnd.google.colaboratory.intrinsic+json": {
              "type": "string"
            }
          },
          "metadata": {},
          "execution_count": 2
        }
      ],
      "source": [
        "from graphviz import Digraph\n",
        "\n",
        "# Create a flowchart\n",
        "flowchart = Digraph(\"Alzheimer Prediction\", format=\"png\")\n",
        "\n",
        "# Start\n",
        "flowchart.node(\"Start\", \"Start\", shape=\"oval\", style=\"filled\", fillcolor=\"lightblue\")\n",
        "\n",
        "# Data Collection\n",
        "flowchart.node(\"Data\", \"Collect Voice Dataset\\n(ADReSS, ADReSSo, Pitt Corpus)\", shape=\"parallelogram\")\n",
        "\n",
        "# Preprocessing\n",
        "flowchart.node(\"Preprocessing\", \"Preprocessing\\n- Convert audio to text (ASR)\\n- Extract Acoustic & Linguistic Features\", shape=\"box\")\n",
        "\n",
        "# Feature Extraction\n",
        "flowchart.node(\"Feature Extraction\", \"Feature Extraction\\n- Audio: Wav2Vec2, HuBERT, CNN\\n- Text: BERT, RoBERTa\", shape=\"box\")\n",
        "\n",
        "# Model Selection\n",
        "flowchart.node(\"Model Selection\", \"Select Best Model\\nMultimodal: CNN + BERT\\nFusion: Tensor Fusion, Score Fusion\", shape=\"diamond\")\n",
        "\n",
        "# Training\n",
        "flowchart.node(\"Training\", \"Train Model\\n- Fine-tune Pretrained Models\\n- Apply Cross-Validation\", shape=\"box\")\n",
        "\n",
        "# Prediction\n",
        "flowchart.node(\"Prediction\", \"Predict Outcome\\n- Alzheimer's (AD) or Healthy (HC)\\n- MMSE Score (Regression Task)\", shape=\"parallelogram\")\n",
        "\n",
        "# Evaluation\n",
        "flowchart.node(\"Evaluation\", \"Evaluate Performance\\n(Accuracy, F1-score, RMSE)\", shape=\"box\")\n",
        "\n",
        "# Deployment\n",
        "flowchart.node(\"Deployment\", \"Deploy Model\\n(Clinical Tool / App)\", shape=\"parallelogram\")\n",
        "\n",
        "# End\n",
        "flowchart.node(\"End\", \"End\", shape=\"oval\", style=\"filled\", fillcolor=\"lightblue\")\n",
        "\n",
        "# Connect nodes\n",
        "flowchart.edge(\"Start\", \"Data\")\n",
        "flowchart.edge(\"Data\", \"Preprocessing\")\n",
        "flowchart.edge(\"Preprocessing\", \"Feature Extraction\")\n",
        "flowchart.edge(\"Feature Extraction\", \"Model Selection\")\n",
        "flowchart.edge(\"Model Selection\", \"Training\")\n",
        "flowchart.edge(\"Training\", \"Prediction\")\n",
        "flowchart.edge(\"Prediction\", \"Evaluation\")\n",
        "flowchart.edge(\"Evaluation\", \"Deployment\")\n",
        "flowchart.edge(\"Deployment\", \"End\")\n",
        "\n",
        "# Render the flowchart\n",
        "flowchart_path = \"/content/data/alzheimer_prediction_flowchart\"\n",
        "flowchart.render(flowchart_path)\n",
        "\n",
        "# Return the path to the generated flowchart image\n",
        "flowchart_path + \".png\""
      ]
    },
    {
      "cell_type": "code",
      "source": [],
      "metadata": {
        "id": "VWcDfqALVaHm"
      },
      "execution_count": null,
      "outputs": []
    }
  ]
}