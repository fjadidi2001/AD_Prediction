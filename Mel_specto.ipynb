{
  "nbformat": 4,
  "nbformat_minor": 0,
  "metadata": {
    "colab": {
      "provenance": [],
      "gpuType": "T4",
      "authorship_tag": "ABX9TyPIXQ6txlyzTlYtHm0nzShE",
      "include_colab_link": true
    },
    "kernelspec": {
      "name": "python3",
      "display_name": "Python 3"
    },
    "language_info": {
      "name": "python"
    },
    "accelerator": "GPU"
  },
  "cells": [
    {
      "cell_type": "markdown",
      "metadata": {
        "id": "view-in-github",
        "colab_type": "text"
      },
      "source": [
        "<a href=\"https://colab.research.google.com/github/fjadidi2001/AD_Prediction/blob/main/Mel_specto.ipynb\" target=\"_parent\"><img src=\"https://colab.research.google.com/assets/colab-badge.svg\" alt=\"Open In Colab\"/></a>"
      ]
    },
    {
      "cell_type": "code",
      "execution_count": 1,
      "metadata": {
        "id": "GkG3Kyqoxv34",
        "outputId": "a1bb6233-e087-4e50-a597-e1b2ceba1833",
        "colab": {
          "base_uri": "https://localhost:8080/"
        }
      },
      "outputs": [
        {
          "output_type": "stream",
          "name": "stdout",
          "text": [
            "Mounted at /content/drive\n"
          ]
        }
      ],
      "source": [
        "from google.colab import drive\n",
        "drive.mount('/content/drive')"
      ]
    },
    {
      "cell_type": "markdown",
      "source": [
        "# Extraction and labeling"
      ],
      "metadata": {
        "id": "YEpEpaw46Uz0"
      }
    },
    {
      "cell_type": "code",
      "source": [
        "import zipfile\n",
        "import os\n",
        "import pandas as pd\n",
        "from glob import glob\n",
        "\n",
        "# Step 1: Extract the zip file\n",
        "zip_path = '/content/drive/MyDrive/AD/Mel_Spectrograms.zip'\n",
        "extract_path = '/content'\n",
        "\n",
        "# Extract the zip file\n",
        "with zipfile.ZipFile(zip_path, 'r') as zip_ref:\n",
        "    zip_ref.extractall(extract_path)\n",
        "\n",
        "print(\"Extraction completed!\")\n",
        "print(\"Contents of /content:\")\n",
        "print(os.listdir('/content'))\n",
        "\n",
        "# Check if Mel_Spectrograms folder exists\n",
        "if 'Mel_Spectrograms' in os.listdir('/content'):\n",
        "    print(\"\\nMel_Spectrograms folder found!\")\n",
        "    mel_path = '/content/Mel_Spectrograms'\n",
        "    print(\"Contents of Mel_Spectrograms:\")\n",
        "    print(os.listdir(mel_path))\n",
        "\n",
        "    # Check subdirectories\n",
        "    subdirs = os.listdir(mel_path)\n",
        "    print(f\"\\nSubdirectories: {subdirs}\")\n",
        "\n",
        "    for subdir in subdirs:\n",
        "        subdir_path = os.path.join(mel_path, subdir)\n",
        "        if os.path.isdir(subdir_path):\n",
        "            files = os.listdir(subdir_path)\n",
        "            print(f\"Files in {subdir}: {len(files)} files\")\n",
        "            if len(files) > 0:\n",
        "                print(f\"Sample files: {files[:5]}\")\n",
        "else:\n",
        "    print(\"Mel_Spectrograms folder NOT found!\")\n",
        "    # List all contents to see what was actually extracted\n",
        "    for root, dirs, files in os.walk('/content'):\n",
        "        level = root.replace('/content', '').count(os.sep)\n",
        "        indent = ' ' * 2 * level\n",
        "        print(f'{indent}{os.path.basename(root)}/')\n",
        "        subindent = ' ' * 2 * (level + 1)\n",
        "        for file in files:\n",
        "            print(f'{subindent}{file}')\n",
        "\n",
        "# Now try to find the correct paths\n",
        "base_path = '/content/Mel_Spectrograms'\n",
        "if not os.path.exists(base_path):\n",
        "    # Try to find where the folder actually is\n",
        "    for root, dirs, files in os.walk('/content'):\n",
        "        if 'Mel_Spectrograms' in dirs:\n",
        "            base_path = os.path.join(root, 'Mel_Spectrograms')\n",
        "            break\n",
        "\n",
        "print(f\"\\nUsing base path: {base_path}\")\n",
        "\n",
        "# Check if AD and CN directories exist\n",
        "ad_path = os.path.join(base_path, 'AD')\n",
        "cn_path = os.path.join(base_path, 'CN')\n",
        "\n",
        "print(f\"AD path exists: {os.path.exists(ad_path)}\")\n",
        "print(f\"CN path exists: {os.path.exists(cn_path)}\")\n",
        "\n",
        "if os.path.exists(ad_path):\n",
        "    print(f\"AD directory contents: {os.listdir(ad_path)[:10]}\")  # Show first 10 files\n",
        "if os.path.exists(cn_path):\n",
        "    print(f\"CN directory contents: {os.listdir(cn_path)[:10]}\")  # Show first 10 files\n",
        "\n",
        "# Try different file extensions\n",
        "extensions = ['*.png', '*.jpg', '*.jpeg', '*.npy', '*.npz']\n",
        "ad_files = []\n",
        "cn_files = []\n",
        "\n",
        "for ext in extensions:\n",
        "    if os.path.exists(ad_path):\n",
        "        ad_files = glob(os.path.join(ad_path, ext))\n",
        "        if ad_files:\n",
        "            print(f\"Found {len(ad_files)} AD files with extension {ext}\")\n",
        "            break\n",
        "\n",
        "for ext in extensions:\n",
        "    if os.path.exists(cn_path):\n",
        "        cn_files = glob(os.path.join(cn_path, ext))\n",
        "        if cn_files:\n",
        "            print(f\"Found {len(cn_files)} CN files with extension {ext}\")\n",
        "            break\n",
        "\n",
        "# Create labels\n",
        "labels = [1] * len(ad_files) + [0] * len(cn_files)\n",
        "file_paths = ad_files + cn_files\n",
        "\n",
        "print(f\"\\nTotal AD files: {len(ad_files)}\")\n",
        "print(f\"Total CN files: {len(cn_files)}\")\n",
        "\n",
        "# Create DataFrame\n",
        "df = pd.DataFrame({\n",
        "    'file_path': file_paths,\n",
        "    'label': labels\n",
        "})\n",
        "\n",
        "print(f\"\\nDataset shape: {df.shape}\")\n",
        "print(\"\\nFirst few entries:\")\n",
        "print(df.head())\n",
        "\n",
        "# Save to CSV\n",
        "if not df.empty:\n",
        "    df.to_csv('/content/alzheimers_dataset.csv', index=False)\n",
        "    print(\"\\nDataset saved to /content/alzheimers_dataset.csv\")\n",
        "else:\n",
        "    print(\"\\nNo files found. Please check the zip file contents.\")"
      ],
      "metadata": {
        "id": "oEMvM-yD50aj",
        "outputId": "24fc8156-75cd-428b-a74a-c766621c71de",
        "colab": {
          "base_uri": "https://localhost:8080/"
        }
      },
      "execution_count": 3,
      "outputs": [
        {
          "output_type": "stream",
          "name": "stdout",
          "text": [
            "Extraction completed!\n",
            "Contents of /content:\n",
            "['.config', 'alzheimers_dataset.csv', 'drive', 'Mel_Spectrograms', 'sample_data']\n",
            "\n",
            "Mel_Spectrograms folder found!\n",
            "Contents of Mel_Spectrograms:\n",
            "['AD', 'CN']\n",
            "\n",
            "Subdirectories: ['AD', 'CN']\n",
            "Files in AD: 87 files\n",
            "Sample files: ['adrso063.npy', 'adrso192.npy', 'adrso144.npy', 'adrso110.npy', 'adrso122.npy']\n",
            "Files in CN: 79 files\n",
            "Sample files: ['adrso316.npy', 'adrso012.npy', 'adrso310.npy', 'adrso160.npy', 'adrso309.npy']\n",
            "\n",
            "Using base path: /content/Mel_Spectrograms\n",
            "AD path exists: True\n",
            "CN path exists: True\n",
            "AD directory contents: ['adrso063.npy', 'adrso192.npy', 'adrso144.npy', 'adrso110.npy', 'adrso122.npy', 'adrso060.npy', 'adrso039.npy', 'adrso106.npy', 'adrso112.npy', 'adrso250.npy']\n",
            "CN directory contents: ['adrso316.npy', 'adrso012.npy', 'adrso310.npy', 'adrso160.npy', 'adrso309.npy', 'adrso292.npy', 'adrso014.npy', 'adrso315.npy', 'adrso157.npy', 'adrso022.npy']\n",
            "Found 87 AD files with extension *.npy\n",
            "Found 79 CN files with extension *.npy\n",
            "\n",
            "Total AD files: 87\n",
            "Total CN files: 79\n",
            "\n",
            "Dataset shape: (166, 2)\n",
            "\n",
            "First few entries:\n",
            "                                   file_path  label\n",
            "0  /content/Mel_Spectrograms/AD/adrso063.npy      1\n",
            "1  /content/Mel_Spectrograms/AD/adrso192.npy      1\n",
            "2  /content/Mel_Spectrograms/AD/adrso144.npy      1\n",
            "3  /content/Mel_Spectrograms/AD/adrso110.npy      1\n",
            "4  /content/Mel_Spectrograms/AD/adrso122.npy      1\n",
            "\n",
            "Dataset saved to /content/alzheimers_dataset.csv\n"
          ]
        }
      ]
    }
  ]
}