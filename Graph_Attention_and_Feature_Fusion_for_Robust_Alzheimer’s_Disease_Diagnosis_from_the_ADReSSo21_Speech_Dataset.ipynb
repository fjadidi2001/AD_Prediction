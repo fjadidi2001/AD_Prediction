{
  "nbformat": 4,
  "nbformat_minor": 0,
  "metadata": {
    "colab": {
      "provenance": [],
      "authorship_tag": "ABX9TyPWEAW9OUgd64EGyi1idVJt",
      "include_colab_link": true
    },
    "kernelspec": {
      "name": "python3",
      "display_name": "Python 3"
    },
    "language_info": {
      "name": "python"
    }
  },
  "cells": [
    {
      "cell_type": "markdown",
      "metadata": {
        "id": "view-in-github",
        "colab_type": "text"
      },
      "source": [
        "<a href=\"https://colab.research.google.com/github/fjadidi2001/AD_Prediction/blob/main/Graph_Attention_and_Feature_Fusion_for_Robust_Alzheimer%E2%80%99s_Disease_Diagnosis_from_the_ADReSSo21_Speech_Dataset.ipynb\" target=\"_parent\"><img src=\"https://colab.research.google.com/assets/colab-badge.svg\" alt=\"Open In Colab\"/></a>"
      ]
    },
    {
      "cell_type": "markdown",
      "source": [
        "# Create Final_output Folder, Install Dependencies, and Mount Google Drive"
      ],
      "metadata": {
        "id": "cDekvCObykj8"
      }
    },
    {
      "cell_type": "code",
      "execution_count": null,
      "metadata": {
        "id": "1fwYEXVvv7FS"
      },
      "outputs": [],
      "source": [
        "import subprocess\n",
        "import os\n",
        "from google.colab import drive\n",
        "\n",
        "# Create Final_output directory and subdirectories\n",
        "try:\n",
        "    OUTPUT_DIR = \"/content/drive/MyDrive/Final_output\"\n",
        "    os.makedirs(OUTPUT_DIR, exist_ok=True)\n",
        "    os.makedirs(os.path.join(OUTPUT_DIR, \"visualizations\"), exist_ok=True)\n",
        "    os.makedirs(os.path.join(OUTPUT_DIR, \"models\"), exist_ok=True)\n",
        "    os.makedirs(os.path.join(OUTPUT_DIR, \"logs\"), exist_ok=True)\n",
        "    os.makedirs(os.path.join(OUTPUT_DIR, \"transcripts\"), exist_ok=True)\n",
        "    os.makedirs(os.path.join(OUTPUT_DIR, \"features\"), exist_ok=True)\n",
        "    print(f\"Created output directories at {OUTPUT_DIR}\")\n",
        "except Exception as e:\n",
        "    print(f\"Error creating directories: {str(e)}\")\n",
        "\n",
        "# Install required packages\n",
        "try:\n",
        "    packages = [\n",
        "        \"librosa\", \"soundfile\", \"opensmile\", \"speechbrain\",\n",
        "        \"transformers\", \"torch\", \"openai-whisper\",\n",
        "        \"pandas\", \"numpy\", \"matplotlib\", \"seaborn\", \"torch-geometric\"\n",
        "    ]\n",
        "    for pkg in packages:\n",
        "        subprocess.check_call([\"pip\", \"install\", pkg])\n",
        "    print(\"All required packages installed successfully\")\n",
        "except Exception as e:\n",
        "    print(f\"Error installing packages: {str(e)}\")\n",
        "\n",
        "# Mount Google Drive\n",
        "try:\n",
        "    drive.mount('/content/drive')\n",
        "except Exception as e:\n",
        "    print(f\"Error mounting Google Drive: {str(e)}\")"
      ]
    }
  ]
}