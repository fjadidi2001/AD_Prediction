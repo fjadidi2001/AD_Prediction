{
  "cells": [
    {
      "cell_type": "markdown",
      "metadata": {
        "id": "view-in-github",
        "colab_type": "text"
      },
      "source": [
        "<a href=\"https://colab.research.google.com/github/fjadidi2001/AD_Prediction/blob/main/MRtoCT.ipynb\" target=\"_parent\"><img src=\"https://colab.research.google.com/assets/colab-badge.svg\" alt=\"Open In Colab\"/></a>"
      ]
    },
    {
      "cell_type": "markdown",
      "source": [
        "# MR to CT"
      ],
      "metadata": {
        "id": "wF5rAW2olPqf"
      }
    },
    {
      "cell_type": "markdown",
      "source": [
        "## Step 1: Setup the Environment"
      ],
      "metadata": {
        "id": "DCnpGe98lVVx"
      }
    },
    {
      "cell_type": "code",
      "source": [],
      "metadata": {
        "id": "LKGesVpQlUAQ"
      },
      "execution_count": null,
      "outputs": []
    }
  ],
  "metadata": {
    "accelerator": "GPU",
    "colab": {
      "gpuType": "T4",
      "provenance": [],
      "include_colab_link": true
    },
    "kernelspec": {
      "display_name": "Python 3",
      "name": "python3"
    },
    "language_info": {
      "name": "python"
    }
  },
  "nbformat": 4,
  "nbformat_minor": 0
}