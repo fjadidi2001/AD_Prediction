{
  "nbformat": 4,
  "nbformat_minor": 0,
  "metadata": {
    "colab": {
      "provenance": [],
      "gpuType": "T4",
      "authorship_tag": "ABX9TyPmVbdksr+HFAyTSlW/urlh",
      "include_colab_link": true
    },
    "kernelspec": {
      "name": "python3",
      "display_name": "Python 3"
    },
    "language_info": {
      "name": "python"
    },
    "widgets": {
      "application/vnd.jupyter.widget-state+json": {
        "7bf06daf7ef343fa8c2b375431b7af36": {
          "model_module": "@jupyter-widgets/controls",
          "model_name": "HBoxModel",
          "model_module_version": "1.5.0",
          "state": {
            "_dom_classes": [],
            "_model_module": "@jupyter-widgets/controls",
            "_model_module_version": "1.5.0",
            "_model_name": "HBoxModel",
            "_view_count": null,
            "_view_module": "@jupyter-widgets/controls",
            "_view_module_version": "1.5.0",
            "_view_name": "HBoxView",
            "box_style": "",
            "children": [
              "IPY_MODEL_9b530f1b74054a8fa35bc2ac517fe3fb",
              "IPY_MODEL_d3df08063e094052b1f5f47c22772e8f",
              "IPY_MODEL_f0e990dd85344c68966eeef2b5d7cf87"
            ],
            "layout": "IPY_MODEL_b10f7f1d33bb44c6af55445d5eebfa9b"
          }
        },
        "9b530f1b74054a8fa35bc2ac517fe3fb": {
          "model_module": "@jupyter-widgets/controls",
          "model_name": "HTMLModel",
          "model_module_version": "1.5.0",
          "state": {
            "_dom_classes": [],
            "_model_module": "@jupyter-widgets/controls",
            "_model_module_version": "1.5.0",
            "_model_name": "HTMLModel",
            "_view_count": null,
            "_view_module": "@jupyter-widgets/controls",
            "_view_module_version": "1.5.0",
            "_view_name": "HTMLView",
            "description": "",
            "description_tooltip": null,
            "layout": "IPY_MODEL_c9bacee7f786439bbdcbeb8e1f54b1a2",
            "placeholder": "​",
            "style": "IPY_MODEL_4168ef5d074941dba8fe2e54ec58fe2a",
            "value": "tokenizer_config.json: 100%"
          }
        },
        "d3df08063e094052b1f5f47c22772e8f": {
          "model_module": "@jupyter-widgets/controls",
          "model_name": "FloatProgressModel",
          "model_module_version": "1.5.0",
          "state": {
            "_dom_classes": [],
            "_model_module": "@jupyter-widgets/controls",
            "_model_module_version": "1.5.0",
            "_model_name": "FloatProgressModel",
            "_view_count": null,
            "_view_module": "@jupyter-widgets/controls",
            "_view_module_version": "1.5.0",
            "_view_name": "ProgressView",
            "bar_style": "success",
            "description": "",
            "description_tooltip": null,
            "layout": "IPY_MODEL_c60c110815304064bb2666e3f99adb79",
            "max": 48,
            "min": 0,
            "orientation": "horizontal",
            "style": "IPY_MODEL_18fefffee8a64763b4a607c855cf31cd",
            "value": 48
          }
        },
        "f0e990dd85344c68966eeef2b5d7cf87": {
          "model_module": "@jupyter-widgets/controls",
          "model_name": "HTMLModel",
          "model_module_version": "1.5.0",
          "state": {
            "_dom_classes": [],
            "_model_module": "@jupyter-widgets/controls",
            "_model_module_version": "1.5.0",
            "_model_name": "HTMLModel",
            "_view_count": null,
            "_view_module": "@jupyter-widgets/controls",
            "_view_module_version": "1.5.0",
            "_view_name": "HTMLView",
            "description": "",
            "description_tooltip": null,
            "layout": "IPY_MODEL_3ecec58d85be4c8a85b68eb8e3306b2e",
            "placeholder": "​",
            "style": "IPY_MODEL_c30ecbf53c3c4ac486701a557e57110f",
            "value": " 48.0/48.0 [00:00&lt;00:00, 2.50kB/s]"
          }
        },
        "b10f7f1d33bb44c6af55445d5eebfa9b": {
          "model_module": "@jupyter-widgets/base",
          "model_name": "LayoutModel",
          "model_module_version": "1.2.0",
          "state": {
            "_model_module": "@jupyter-widgets/base",
            "_model_module_version": "1.2.0",
            "_model_name": "LayoutModel",
            "_view_count": null,
            "_view_module": "@jupyter-widgets/base",
            "_view_module_version": "1.2.0",
            "_view_name": "LayoutView",
            "align_content": null,
            "align_items": null,
            "align_self": null,
            "border": null,
            "bottom": null,
            "display": null,
            "flex": null,
            "flex_flow": null,
            "grid_area": null,
            "grid_auto_columns": null,
            "grid_auto_flow": null,
            "grid_auto_rows": null,
            "grid_column": null,
            "grid_gap": null,
            "grid_row": null,
            "grid_template_areas": null,
            "grid_template_columns": null,
            "grid_template_rows": null,
            "height": null,
            "justify_content": null,
            "justify_items": null,
            "left": null,
            "margin": null,
            "max_height": null,
            "max_width": null,
            "min_height": null,
            "min_width": null,
            "object_fit": null,
            "object_position": null,
            "order": null,
            "overflow": null,
            "overflow_x": null,
            "overflow_y": null,
            "padding": null,
            "right": null,
            "top": null,
            "visibility": null,
            "width": null
          }
        },
        "c9bacee7f786439bbdcbeb8e1f54b1a2": {
          "model_module": "@jupyter-widgets/base",
          "model_name": "LayoutModel",
          "model_module_version": "1.2.0",
          "state": {
            "_model_module": "@jupyter-widgets/base",
            "_model_module_version": "1.2.0",
            "_model_name": "LayoutModel",
            "_view_count": null,
            "_view_module": "@jupyter-widgets/base",
            "_view_module_version": "1.2.0",
            "_view_name": "LayoutView",
            "align_content": null,
            "align_items": null,
            "align_self": null,
            "border": null,
            "bottom": null,
            "display": null,
            "flex": null,
            "flex_flow": null,
            "grid_area": null,
            "grid_auto_columns": null,
            "grid_auto_flow": null,
            "grid_auto_rows": null,
            "grid_column": null,
            "grid_gap": null,
            "grid_row": null,
            "grid_template_areas": null,
            "grid_template_columns": null,
            "grid_template_rows": null,
            "height": null,
            "justify_content": null,
            "justify_items": null,
            "left": null,
            "margin": null,
            "max_height": null,
            "max_width": null,
            "min_height": null,
            "min_width": null,
            "object_fit": null,
            "object_position": null,
            "order": null,
            "overflow": null,
            "overflow_x": null,
            "overflow_y": null,
            "padding": null,
            "right": null,
            "top": null,
            "visibility": null,
            "width": null
          }
        },
        "4168ef5d074941dba8fe2e54ec58fe2a": {
          "model_module": "@jupyter-widgets/controls",
          "model_name": "DescriptionStyleModel",
          "model_module_version": "1.5.0",
          "state": {
            "_model_module": "@jupyter-widgets/controls",
            "_model_module_version": "1.5.0",
            "_model_name": "DescriptionStyleModel",
            "_view_count": null,
            "_view_module": "@jupyter-widgets/base",
            "_view_module_version": "1.2.0",
            "_view_name": "StyleView",
            "description_width": ""
          }
        },
        "c60c110815304064bb2666e3f99adb79": {
          "model_module": "@jupyter-widgets/base",
          "model_name": "LayoutModel",
          "model_module_version": "1.2.0",
          "state": {
            "_model_module": "@jupyter-widgets/base",
            "_model_module_version": "1.2.0",
            "_model_name": "LayoutModel",
            "_view_count": null,
            "_view_module": "@jupyter-widgets/base",
            "_view_module_version": "1.2.0",
            "_view_name": "LayoutView",
            "align_content": null,
            "align_items": null,
            "align_self": null,
            "border": null,
            "bottom": null,
            "display": null,
            "flex": null,
            "flex_flow": null,
            "grid_area": null,
            "grid_auto_columns": null,
            "grid_auto_flow": null,
            "grid_auto_rows": null,
            "grid_column": null,
            "grid_gap": null,
            "grid_row": null,
            "grid_template_areas": null,
            "grid_template_columns": null,
            "grid_template_rows": null,
            "height": null,
            "justify_content": null,
            "justify_items": null,
            "left": null,
            "margin": null,
            "max_height": null,
            "max_width": null,
            "min_height": null,
            "min_width": null,
            "object_fit": null,
            "object_position": null,
            "order": null,
            "overflow": null,
            "overflow_x": null,
            "overflow_y": null,
            "padding": null,
            "right": null,
            "top": null,
            "visibility": null,
            "width": null
          }
        },
        "18fefffee8a64763b4a607c855cf31cd": {
          "model_module": "@jupyter-widgets/controls",
          "model_name": "ProgressStyleModel",
          "model_module_version": "1.5.0",
          "state": {
            "_model_module": "@jupyter-widgets/controls",
            "_model_module_version": "1.5.0",
            "_model_name": "ProgressStyleModel",
            "_view_count": null,
            "_view_module": "@jupyter-widgets/base",
            "_view_module_version": "1.2.0",
            "_view_name": "StyleView",
            "bar_color": null,
            "description_width": ""
          }
        },
        "3ecec58d85be4c8a85b68eb8e3306b2e": {
          "model_module": "@jupyter-widgets/base",
          "model_name": "LayoutModel",
          "model_module_version": "1.2.0",
          "state": {
            "_model_module": "@jupyter-widgets/base",
            "_model_module_version": "1.2.0",
            "_model_name": "LayoutModel",
            "_view_count": null,
            "_view_module": "@jupyter-widgets/base",
            "_view_module_version": "1.2.0",
            "_view_name": "LayoutView",
            "align_content": null,
            "align_items": null,
            "align_self": null,
            "border": null,
            "bottom": null,
            "display": null,
            "flex": null,
            "flex_flow": null,
            "grid_area": null,
            "grid_auto_columns": null,
            "grid_auto_flow": null,
            "grid_auto_rows": null,
            "grid_column": null,
            "grid_gap": null,
            "grid_row": null,
            "grid_template_areas": null,
            "grid_template_columns": null,
            "grid_template_rows": null,
            "height": null,
            "justify_content": null,
            "justify_items": null,
            "left": null,
            "margin": null,
            "max_height": null,
            "max_width": null,
            "min_height": null,
            "min_width": null,
            "object_fit": null,
            "object_position": null,
            "order": null,
            "overflow": null,
            "overflow_x": null,
            "overflow_y": null,
            "padding": null,
            "right": null,
            "top": null,
            "visibility": null,
            "width": null
          }
        },
        "c30ecbf53c3c4ac486701a557e57110f": {
          "model_module": "@jupyter-widgets/controls",
          "model_name": "DescriptionStyleModel",
          "model_module_version": "1.5.0",
          "state": {
            "_model_module": "@jupyter-widgets/controls",
            "_model_module_version": "1.5.0",
            "_model_name": "DescriptionStyleModel",
            "_view_count": null,
            "_view_module": "@jupyter-widgets/base",
            "_view_module_version": "1.2.0",
            "_view_name": "StyleView",
            "description_width": ""
          }
        },
        "83aa8a6596e244a3abb864fc6ad754f4": {
          "model_module": "@jupyter-widgets/controls",
          "model_name": "HBoxModel",
          "model_module_version": "1.5.0",
          "state": {
            "_dom_classes": [],
            "_model_module": "@jupyter-widgets/controls",
            "_model_module_version": "1.5.0",
            "_model_name": "HBoxModel",
            "_view_count": null,
            "_view_module": "@jupyter-widgets/controls",
            "_view_module_version": "1.5.0",
            "_view_name": "HBoxView",
            "box_style": "",
            "children": [
              "IPY_MODEL_8c167186174d47d78cf1e5ed9f3de24f",
              "IPY_MODEL_759200fcf6c349cda87bd7af2495d5ae",
              "IPY_MODEL_cb894524e6884943b59bc3785856c4e6"
            ],
            "layout": "IPY_MODEL_5459ae5e6ba348d396f50d58854db8ab"
          }
        },
        "8c167186174d47d78cf1e5ed9f3de24f": {
          "model_module": "@jupyter-widgets/controls",
          "model_name": "HTMLModel",
          "model_module_version": "1.5.0",
          "state": {
            "_dom_classes": [],
            "_model_module": "@jupyter-widgets/controls",
            "_model_module_version": "1.5.0",
            "_model_name": "HTMLModel",
            "_view_count": null,
            "_view_module": "@jupyter-widgets/controls",
            "_view_module_version": "1.5.0",
            "_view_name": "HTMLView",
            "description": "",
            "description_tooltip": null,
            "layout": "IPY_MODEL_3c3c1297cbb74ab59f00ba2061d4bcd1",
            "placeholder": "​",
            "style": "IPY_MODEL_63d9755a4afb4c8c8fa979a2af20ef0e",
            "value": "vocab.txt: 100%"
          }
        },
        "759200fcf6c349cda87bd7af2495d5ae": {
          "model_module": "@jupyter-widgets/controls",
          "model_name": "FloatProgressModel",
          "model_module_version": "1.5.0",
          "state": {
            "_dom_classes": [],
            "_model_module": "@jupyter-widgets/controls",
            "_model_module_version": "1.5.0",
            "_model_name": "FloatProgressModel",
            "_view_count": null,
            "_view_module": "@jupyter-widgets/controls",
            "_view_module_version": "1.5.0",
            "_view_name": "ProgressView",
            "bar_style": "success",
            "description": "",
            "description_tooltip": null,
            "layout": "IPY_MODEL_ea9cce16349a41e38ce186fb619564b1",
            "max": 231508,
            "min": 0,
            "orientation": "horizontal",
            "style": "IPY_MODEL_8fe5c9d35a44424db31afec4617819e3",
            "value": 231508
          }
        },
        "cb894524e6884943b59bc3785856c4e6": {
          "model_module": "@jupyter-widgets/controls",
          "model_name": "HTMLModel",
          "model_module_version": "1.5.0",
          "state": {
            "_dom_classes": [],
            "_model_module": "@jupyter-widgets/controls",
            "_model_module_version": "1.5.0",
            "_model_name": "HTMLModel",
            "_view_count": null,
            "_view_module": "@jupyter-widgets/controls",
            "_view_module_version": "1.5.0",
            "_view_name": "HTMLView",
            "description": "",
            "description_tooltip": null,
            "layout": "IPY_MODEL_b6f0f9b5734c4350b446f8701ca9a950",
            "placeholder": "​",
            "style": "IPY_MODEL_3fd9245e09614e738da9b8a23f87e45f",
            "value": " 232k/232k [00:00&lt;00:00, 3.14MB/s]"
          }
        },
        "5459ae5e6ba348d396f50d58854db8ab": {
          "model_module": "@jupyter-widgets/base",
          "model_name": "LayoutModel",
          "model_module_version": "1.2.0",
          "state": {
            "_model_module": "@jupyter-widgets/base",
            "_model_module_version": "1.2.0",
            "_model_name": "LayoutModel",
            "_view_count": null,
            "_view_module": "@jupyter-widgets/base",
            "_view_module_version": "1.2.0",
            "_view_name": "LayoutView",
            "align_content": null,
            "align_items": null,
            "align_self": null,
            "border": null,
            "bottom": null,
            "display": null,
            "flex": null,
            "flex_flow": null,
            "grid_area": null,
            "grid_auto_columns": null,
            "grid_auto_flow": null,
            "grid_auto_rows": null,
            "grid_column": null,
            "grid_gap": null,
            "grid_row": null,
            "grid_template_areas": null,
            "grid_template_columns": null,
            "grid_template_rows": null,
            "height": null,
            "justify_content": null,
            "justify_items": null,
            "left": null,
            "margin": null,
            "max_height": null,
            "max_width": null,
            "min_height": null,
            "min_width": null,
            "object_fit": null,
            "object_position": null,
            "order": null,
            "overflow": null,
            "overflow_x": null,
            "overflow_y": null,
            "padding": null,
            "right": null,
            "top": null,
            "visibility": null,
            "width": null
          }
        },
        "3c3c1297cbb74ab59f00ba2061d4bcd1": {
          "model_module": "@jupyter-widgets/base",
          "model_name": "LayoutModel",
          "model_module_version": "1.2.0",
          "state": {
            "_model_module": "@jupyter-widgets/base",
            "_model_module_version": "1.2.0",
            "_model_name": "LayoutModel",
            "_view_count": null,
            "_view_module": "@jupyter-widgets/base",
            "_view_module_version": "1.2.0",
            "_view_name": "LayoutView",
            "align_content": null,
            "align_items": null,
            "align_self": null,
            "border": null,
            "bottom": null,
            "display": null,
            "flex": null,
            "flex_flow": null,
            "grid_area": null,
            "grid_auto_columns": null,
            "grid_auto_flow": null,
            "grid_auto_rows": null,
            "grid_column": null,
            "grid_gap": null,
            "grid_row": null,
            "grid_template_areas": null,
            "grid_template_columns": null,
            "grid_template_rows": null,
            "height": null,
            "justify_content": null,
            "justify_items": null,
            "left": null,
            "margin": null,
            "max_height": null,
            "max_width": null,
            "min_height": null,
            "min_width": null,
            "object_fit": null,
            "object_position": null,
            "order": null,
            "overflow": null,
            "overflow_x": null,
            "overflow_y": null,
            "padding": null,
            "right": null,
            "top": null,
            "visibility": null,
            "width": null
          }
        },
        "63d9755a4afb4c8c8fa979a2af20ef0e": {
          "model_module": "@jupyter-widgets/controls",
          "model_name": "DescriptionStyleModel",
          "model_module_version": "1.5.0",
          "state": {
            "_model_module": "@jupyter-widgets/controls",
            "_model_module_version": "1.5.0",
            "_model_name": "DescriptionStyleModel",
            "_view_count": null,
            "_view_module": "@jupyter-widgets/base",
            "_view_module_version": "1.2.0",
            "_view_name": "StyleView",
            "description_width": ""
          }
        },
        "ea9cce16349a41e38ce186fb619564b1": {
          "model_module": "@jupyter-widgets/base",
          "model_name": "LayoutModel",
          "model_module_version": "1.2.0",
          "state": {
            "_model_module": "@jupyter-widgets/base",
            "_model_module_version": "1.2.0",
            "_model_name": "LayoutModel",
            "_view_count": null,
            "_view_module": "@jupyter-widgets/base",
            "_view_module_version": "1.2.0",
            "_view_name": "LayoutView",
            "align_content": null,
            "align_items": null,
            "align_self": null,
            "border": null,
            "bottom": null,
            "display": null,
            "flex": null,
            "flex_flow": null,
            "grid_area": null,
            "grid_auto_columns": null,
            "grid_auto_flow": null,
            "grid_auto_rows": null,
            "grid_column": null,
            "grid_gap": null,
            "grid_row": null,
            "grid_template_areas": null,
            "grid_template_columns": null,
            "grid_template_rows": null,
            "height": null,
            "justify_content": null,
            "justify_items": null,
            "left": null,
            "margin": null,
            "max_height": null,
            "max_width": null,
            "min_height": null,
            "min_width": null,
            "object_fit": null,
            "object_position": null,
            "order": null,
            "overflow": null,
            "overflow_x": null,
            "overflow_y": null,
            "padding": null,
            "right": null,
            "top": null,
            "visibility": null,
            "width": null
          }
        },
        "8fe5c9d35a44424db31afec4617819e3": {
          "model_module": "@jupyter-widgets/controls",
          "model_name": "ProgressStyleModel",
          "model_module_version": "1.5.0",
          "state": {
            "_model_module": "@jupyter-widgets/controls",
            "_model_module_version": "1.5.0",
            "_model_name": "ProgressStyleModel",
            "_view_count": null,
            "_view_module": "@jupyter-widgets/base",
            "_view_module_version": "1.2.0",
            "_view_name": "StyleView",
            "bar_color": null,
            "description_width": ""
          }
        },
        "b6f0f9b5734c4350b446f8701ca9a950": {
          "model_module": "@jupyter-widgets/base",
          "model_name": "LayoutModel",
          "model_module_version": "1.2.0",
          "state": {
            "_model_module": "@jupyter-widgets/base",
            "_model_module_version": "1.2.0",
            "_model_name": "LayoutModel",
            "_view_count": null,
            "_view_module": "@jupyter-widgets/base",
            "_view_module_version": "1.2.0",
            "_view_name": "LayoutView",
            "align_content": null,
            "align_items": null,
            "align_self": null,
            "border": null,
            "bottom": null,
            "display": null,
            "flex": null,
            "flex_flow": null,
            "grid_area": null,
            "grid_auto_columns": null,
            "grid_auto_flow": null,
            "grid_auto_rows": null,
            "grid_column": null,
            "grid_gap": null,
            "grid_row": null,
            "grid_template_areas": null,
            "grid_template_columns": null,
            "grid_template_rows": null,
            "height": null,
            "justify_content": null,
            "justify_items": null,
            "left": null,
            "margin": null,
            "max_height": null,
            "max_width": null,
            "min_height": null,
            "min_width": null,
            "object_fit": null,
            "object_position": null,
            "order": null,
            "overflow": null,
            "overflow_x": null,
            "overflow_y": null,
            "padding": null,
            "right": null,
            "top": null,
            "visibility": null,
            "width": null
          }
        },
        "3fd9245e09614e738da9b8a23f87e45f": {
          "model_module": "@jupyter-widgets/controls",
          "model_name": "DescriptionStyleModel",
          "model_module_version": "1.5.0",
          "state": {
            "_model_module": "@jupyter-widgets/controls",
            "_model_module_version": "1.5.0",
            "_model_name": "DescriptionStyleModel",
            "_view_count": null,
            "_view_module": "@jupyter-widgets/base",
            "_view_module_version": "1.2.0",
            "_view_name": "StyleView",
            "description_width": ""
          }
        },
        "bd37c3f7ea09403f80d22ce18342b081": {
          "model_module": "@jupyter-widgets/controls",
          "model_name": "HBoxModel",
          "model_module_version": "1.5.0",
          "state": {
            "_dom_classes": [],
            "_model_module": "@jupyter-widgets/controls",
            "_model_module_version": "1.5.0",
            "_model_name": "HBoxModel",
            "_view_count": null,
            "_view_module": "@jupyter-widgets/controls",
            "_view_module_version": "1.5.0",
            "_view_name": "HBoxView",
            "box_style": "",
            "children": [
              "IPY_MODEL_120830e90b684f0ba009538fd1484dc5",
              "IPY_MODEL_c16fea3ee442475e943e8344e4fc12b4",
              "IPY_MODEL_211d60e410a04d2aac64f8f9dc7a8720"
            ],
            "layout": "IPY_MODEL_1cab200c311c4f669221ee0417a3d9ab"
          }
        },
        "120830e90b684f0ba009538fd1484dc5": {
          "model_module": "@jupyter-widgets/controls",
          "model_name": "HTMLModel",
          "model_module_version": "1.5.0",
          "state": {
            "_dom_classes": [],
            "_model_module": "@jupyter-widgets/controls",
            "_model_module_version": "1.5.0",
            "_model_name": "HTMLModel",
            "_view_count": null,
            "_view_module": "@jupyter-widgets/controls",
            "_view_module_version": "1.5.0",
            "_view_name": "HTMLView",
            "description": "",
            "description_tooltip": null,
            "layout": "IPY_MODEL_bce161a6fd364bf193572322e7f551d9",
            "placeholder": "​",
            "style": "IPY_MODEL_5684f080ea23494cb048c7ab26c21b94",
            "value": "tokenizer.json: 100%"
          }
        },
        "c16fea3ee442475e943e8344e4fc12b4": {
          "model_module": "@jupyter-widgets/controls",
          "model_name": "FloatProgressModel",
          "model_module_version": "1.5.0",
          "state": {
            "_dom_classes": [],
            "_model_module": "@jupyter-widgets/controls",
            "_model_module_version": "1.5.0",
            "_model_name": "FloatProgressModel",
            "_view_count": null,
            "_view_module": "@jupyter-widgets/controls",
            "_view_module_version": "1.5.0",
            "_view_name": "ProgressView",
            "bar_style": "success",
            "description": "",
            "description_tooltip": null,
            "layout": "IPY_MODEL_bbb7e6ebdad3440aabadca01d0901c5a",
            "max": 466062,
            "min": 0,
            "orientation": "horizontal",
            "style": "IPY_MODEL_22cef289a4e44b54ba32fc4fa99f52e3",
            "value": 466062
          }
        },
        "211d60e410a04d2aac64f8f9dc7a8720": {
          "model_module": "@jupyter-widgets/controls",
          "model_name": "HTMLModel",
          "model_module_version": "1.5.0",
          "state": {
            "_dom_classes": [],
            "_model_module": "@jupyter-widgets/controls",
            "_model_module_version": "1.5.0",
            "_model_name": "HTMLModel",
            "_view_count": null,
            "_view_module": "@jupyter-widgets/controls",
            "_view_module_version": "1.5.0",
            "_view_name": "HTMLView",
            "description": "",
            "description_tooltip": null,
            "layout": "IPY_MODEL_1a8de18c03734dc48e1056e870fea32e",
            "placeholder": "​",
            "style": "IPY_MODEL_7ed222a9238a4d41bca5d8012bcf69e9",
            "value": " 466k/466k [00:00&lt;00:00, 1.44MB/s]"
          }
        },
        "1cab200c311c4f669221ee0417a3d9ab": {
          "model_module": "@jupyter-widgets/base",
          "model_name": "LayoutModel",
          "model_module_version": "1.2.0",
          "state": {
            "_model_module": "@jupyter-widgets/base",
            "_model_module_version": "1.2.0",
            "_model_name": "LayoutModel",
            "_view_count": null,
            "_view_module": "@jupyter-widgets/base",
            "_view_module_version": "1.2.0",
            "_view_name": "LayoutView",
            "align_content": null,
            "align_items": null,
            "align_self": null,
            "border": null,
            "bottom": null,
            "display": null,
            "flex": null,
            "flex_flow": null,
            "grid_area": null,
            "grid_auto_columns": null,
            "grid_auto_flow": null,
            "grid_auto_rows": null,
            "grid_column": null,
            "grid_gap": null,
            "grid_row": null,
            "grid_template_areas": null,
            "grid_template_columns": null,
            "grid_template_rows": null,
            "height": null,
            "justify_content": null,
            "justify_items": null,
            "left": null,
            "margin": null,
            "max_height": null,
            "max_width": null,
            "min_height": null,
            "min_width": null,
            "object_fit": null,
            "object_position": null,
            "order": null,
            "overflow": null,
            "overflow_x": null,
            "overflow_y": null,
            "padding": null,
            "right": null,
            "top": null,
            "visibility": null,
            "width": null
          }
        },
        "bce161a6fd364bf193572322e7f551d9": {
          "model_module": "@jupyter-widgets/base",
          "model_name": "LayoutModel",
          "model_module_version": "1.2.0",
          "state": {
            "_model_module": "@jupyter-widgets/base",
            "_model_module_version": "1.2.0",
            "_model_name": "LayoutModel",
            "_view_count": null,
            "_view_module": "@jupyter-widgets/base",
            "_view_module_version": "1.2.0",
            "_view_name": "LayoutView",
            "align_content": null,
            "align_items": null,
            "align_self": null,
            "border": null,
            "bottom": null,
            "display": null,
            "flex": null,
            "flex_flow": null,
            "grid_area": null,
            "grid_auto_columns": null,
            "grid_auto_flow": null,
            "grid_auto_rows": null,
            "grid_column": null,
            "grid_gap": null,
            "grid_row": null,
            "grid_template_areas": null,
            "grid_template_columns": null,
            "grid_template_rows": null,
            "height": null,
            "justify_content": null,
            "justify_items": null,
            "left": null,
            "margin": null,
            "max_height": null,
            "max_width": null,
            "min_height": null,
            "min_width": null,
            "object_fit": null,
            "object_position": null,
            "order": null,
            "overflow": null,
            "overflow_x": null,
            "overflow_y": null,
            "padding": null,
            "right": null,
            "top": null,
            "visibility": null,
            "width": null
          }
        },
        "5684f080ea23494cb048c7ab26c21b94": {
          "model_module": "@jupyter-widgets/controls",
          "model_name": "DescriptionStyleModel",
          "model_module_version": "1.5.0",
          "state": {
            "_model_module": "@jupyter-widgets/controls",
            "_model_module_version": "1.5.0",
            "_model_name": "DescriptionStyleModel",
            "_view_count": null,
            "_view_module": "@jupyter-widgets/base",
            "_view_module_version": "1.2.0",
            "_view_name": "StyleView",
            "description_width": ""
          }
        },
        "bbb7e6ebdad3440aabadca01d0901c5a": {
          "model_module": "@jupyter-widgets/base",
          "model_name": "LayoutModel",
          "model_module_version": "1.2.0",
          "state": {
            "_model_module": "@jupyter-widgets/base",
            "_model_module_version": "1.2.0",
            "_model_name": "LayoutModel",
            "_view_count": null,
            "_view_module": "@jupyter-widgets/base",
            "_view_module_version": "1.2.0",
            "_view_name": "LayoutView",
            "align_content": null,
            "align_items": null,
            "align_self": null,
            "border": null,
            "bottom": null,
            "display": null,
            "flex": null,
            "flex_flow": null,
            "grid_area": null,
            "grid_auto_columns": null,
            "grid_auto_flow": null,
            "grid_auto_rows": null,
            "grid_column": null,
            "grid_gap": null,
            "grid_row": null,
            "grid_template_areas": null,
            "grid_template_columns": null,
            "grid_template_rows": null,
            "height": null,
            "justify_content": null,
            "justify_items": null,
            "left": null,
            "margin": null,
            "max_height": null,
            "max_width": null,
            "min_height": null,
            "min_width": null,
            "object_fit": null,
            "object_position": null,
            "order": null,
            "overflow": null,
            "overflow_x": null,
            "overflow_y": null,
            "padding": null,
            "right": null,
            "top": null,
            "visibility": null,
            "width": null
          }
        },
        "22cef289a4e44b54ba32fc4fa99f52e3": {
          "model_module": "@jupyter-widgets/controls",
          "model_name": "ProgressStyleModel",
          "model_module_version": "1.5.0",
          "state": {
            "_model_module": "@jupyter-widgets/controls",
            "_model_module_version": "1.5.0",
            "_model_name": "ProgressStyleModel",
            "_view_count": null,
            "_view_module": "@jupyter-widgets/base",
            "_view_module_version": "1.2.0",
            "_view_name": "StyleView",
            "bar_color": null,
            "description_width": ""
          }
        },
        "1a8de18c03734dc48e1056e870fea32e": {
          "model_module": "@jupyter-widgets/base",
          "model_name": "LayoutModel",
          "model_module_version": "1.2.0",
          "state": {
            "_model_module": "@jupyter-widgets/base",
            "_model_module_version": "1.2.0",
            "_model_name": "LayoutModel",
            "_view_count": null,
            "_view_module": "@jupyter-widgets/base",
            "_view_module_version": "1.2.0",
            "_view_name": "LayoutView",
            "align_content": null,
            "align_items": null,
            "align_self": null,
            "border": null,
            "bottom": null,
            "display": null,
            "flex": null,
            "flex_flow": null,
            "grid_area": null,
            "grid_auto_columns": null,
            "grid_auto_flow": null,
            "grid_auto_rows": null,
            "grid_column": null,
            "grid_gap": null,
            "grid_row": null,
            "grid_template_areas": null,
            "grid_template_columns": null,
            "grid_template_rows": null,
            "height": null,
            "justify_content": null,
            "justify_items": null,
            "left": null,
            "margin": null,
            "max_height": null,
            "max_width": null,
            "min_height": null,
            "min_width": null,
            "object_fit": null,
            "object_position": null,
            "order": null,
            "overflow": null,
            "overflow_x": null,
            "overflow_y": null,
            "padding": null,
            "right": null,
            "top": null,
            "visibility": null,
            "width": null
          }
        },
        "7ed222a9238a4d41bca5d8012bcf69e9": {
          "model_module": "@jupyter-widgets/controls",
          "model_name": "DescriptionStyleModel",
          "model_module_version": "1.5.0",
          "state": {
            "_model_module": "@jupyter-widgets/controls",
            "_model_module_version": "1.5.0",
            "_model_name": "DescriptionStyleModel",
            "_view_count": null,
            "_view_module": "@jupyter-widgets/base",
            "_view_module_version": "1.2.0",
            "_view_name": "StyleView",
            "description_width": ""
          }
        },
        "087fb7b4b0e5423188d3a88f68deae5c": {
          "model_module": "@jupyter-widgets/controls",
          "model_name": "HBoxModel",
          "model_module_version": "1.5.0",
          "state": {
            "_dom_classes": [],
            "_model_module": "@jupyter-widgets/controls",
            "_model_module_version": "1.5.0",
            "_model_name": "HBoxModel",
            "_view_count": null,
            "_view_module": "@jupyter-widgets/controls",
            "_view_module_version": "1.5.0",
            "_view_name": "HBoxView",
            "box_style": "",
            "children": [
              "IPY_MODEL_965648fa43f044169b95c11f4f95afb8",
              "IPY_MODEL_6802598135ae484d85b2434cd23e3d3a",
              "IPY_MODEL_dbe8184cf37a4a9b9c2312bb5e639115"
            ],
            "layout": "IPY_MODEL_23d17f19a7bb40f8887d6bfa69944cc2"
          }
        },
        "965648fa43f044169b95c11f4f95afb8": {
          "model_module": "@jupyter-widgets/controls",
          "model_name": "HTMLModel",
          "model_module_version": "1.5.0",
          "state": {
            "_dom_classes": [],
            "_model_module": "@jupyter-widgets/controls",
            "_model_module_version": "1.5.0",
            "_model_name": "HTMLModel",
            "_view_count": null,
            "_view_module": "@jupyter-widgets/controls",
            "_view_module_version": "1.5.0",
            "_view_name": "HTMLView",
            "description": "",
            "description_tooltip": null,
            "layout": "IPY_MODEL_04ffc5a1c406499a9d49070578a584c0",
            "placeholder": "​",
            "style": "IPY_MODEL_5afc1676a8324843b909a51eb4e98b6f",
            "value": "config.json: 100%"
          }
        },
        "6802598135ae484d85b2434cd23e3d3a": {
          "model_module": "@jupyter-widgets/controls",
          "model_name": "FloatProgressModel",
          "model_module_version": "1.5.0",
          "state": {
            "_dom_classes": [],
            "_model_module": "@jupyter-widgets/controls",
            "_model_module_version": "1.5.0",
            "_model_name": "FloatProgressModel",
            "_view_count": null,
            "_view_module": "@jupyter-widgets/controls",
            "_view_module_version": "1.5.0",
            "_view_name": "ProgressView",
            "bar_style": "success",
            "description": "",
            "description_tooltip": null,
            "layout": "IPY_MODEL_5574e1731db247a9ba1f24aef9eaf73d",
            "max": 570,
            "min": 0,
            "orientation": "horizontal",
            "style": "IPY_MODEL_6a9de8952b294ad99b6758263aa046c8",
            "value": 570
          }
        },
        "dbe8184cf37a4a9b9c2312bb5e639115": {
          "model_module": "@jupyter-widgets/controls",
          "model_name": "HTMLModel",
          "model_module_version": "1.5.0",
          "state": {
            "_dom_classes": [],
            "_model_module": "@jupyter-widgets/controls",
            "_model_module_version": "1.5.0",
            "_model_name": "HTMLModel",
            "_view_count": null,
            "_view_module": "@jupyter-widgets/controls",
            "_view_module_version": "1.5.0",
            "_view_name": "HTMLView",
            "description": "",
            "description_tooltip": null,
            "layout": "IPY_MODEL_4a31c8c724bf44578defc5b61297ecef",
            "placeholder": "​",
            "style": "IPY_MODEL_b66976d5e779456a84a378fb6efa22bf",
            "value": " 570/570 [00:00&lt;00:00, 14.0kB/s]"
          }
        },
        "23d17f19a7bb40f8887d6bfa69944cc2": {
          "model_module": "@jupyter-widgets/base",
          "model_name": "LayoutModel",
          "model_module_version": "1.2.0",
          "state": {
            "_model_module": "@jupyter-widgets/base",
            "_model_module_version": "1.2.0",
            "_model_name": "LayoutModel",
            "_view_count": null,
            "_view_module": "@jupyter-widgets/base",
            "_view_module_version": "1.2.0",
            "_view_name": "LayoutView",
            "align_content": null,
            "align_items": null,
            "align_self": null,
            "border": null,
            "bottom": null,
            "display": null,
            "flex": null,
            "flex_flow": null,
            "grid_area": null,
            "grid_auto_columns": null,
            "grid_auto_flow": null,
            "grid_auto_rows": null,
            "grid_column": null,
            "grid_gap": null,
            "grid_row": null,
            "grid_template_areas": null,
            "grid_template_columns": null,
            "grid_template_rows": null,
            "height": null,
            "justify_content": null,
            "justify_items": null,
            "left": null,
            "margin": null,
            "max_height": null,
            "max_width": null,
            "min_height": null,
            "min_width": null,
            "object_fit": null,
            "object_position": null,
            "order": null,
            "overflow": null,
            "overflow_x": null,
            "overflow_y": null,
            "padding": null,
            "right": null,
            "top": null,
            "visibility": null,
            "width": null
          }
        },
        "04ffc5a1c406499a9d49070578a584c0": {
          "model_module": "@jupyter-widgets/base",
          "model_name": "LayoutModel",
          "model_module_version": "1.2.0",
          "state": {
            "_model_module": "@jupyter-widgets/base",
            "_model_module_version": "1.2.0",
            "_model_name": "LayoutModel",
            "_view_count": null,
            "_view_module": "@jupyter-widgets/base",
            "_view_module_version": "1.2.0",
            "_view_name": "LayoutView",
            "align_content": null,
            "align_items": null,
            "align_self": null,
            "border": null,
            "bottom": null,
            "display": null,
            "flex": null,
            "flex_flow": null,
            "grid_area": null,
            "grid_auto_columns": null,
            "grid_auto_flow": null,
            "grid_auto_rows": null,
            "grid_column": null,
            "grid_gap": null,
            "grid_row": null,
            "grid_template_areas": null,
            "grid_template_columns": null,
            "grid_template_rows": null,
            "height": null,
            "justify_content": null,
            "justify_items": null,
            "left": null,
            "margin": null,
            "max_height": null,
            "max_width": null,
            "min_height": null,
            "min_width": null,
            "object_fit": null,
            "object_position": null,
            "order": null,
            "overflow": null,
            "overflow_x": null,
            "overflow_y": null,
            "padding": null,
            "right": null,
            "top": null,
            "visibility": null,
            "width": null
          }
        },
        "5afc1676a8324843b909a51eb4e98b6f": {
          "model_module": "@jupyter-widgets/controls",
          "model_name": "DescriptionStyleModel",
          "model_module_version": "1.5.0",
          "state": {
            "_model_module": "@jupyter-widgets/controls",
            "_model_module_version": "1.5.0",
            "_model_name": "DescriptionStyleModel",
            "_view_count": null,
            "_view_module": "@jupyter-widgets/base",
            "_view_module_version": "1.2.0",
            "_view_name": "StyleView",
            "description_width": ""
          }
        },
        "5574e1731db247a9ba1f24aef9eaf73d": {
          "model_module": "@jupyter-widgets/base",
          "model_name": "LayoutModel",
          "model_module_version": "1.2.0",
          "state": {
            "_model_module": "@jupyter-widgets/base",
            "_model_module_version": "1.2.0",
            "_model_name": "LayoutModel",
            "_view_count": null,
            "_view_module": "@jupyter-widgets/base",
            "_view_module_version": "1.2.0",
            "_view_name": "LayoutView",
            "align_content": null,
            "align_items": null,
            "align_self": null,
            "border": null,
            "bottom": null,
            "display": null,
            "flex": null,
            "flex_flow": null,
            "grid_area": null,
            "grid_auto_columns": null,
            "grid_auto_flow": null,
            "grid_auto_rows": null,
            "grid_column": null,
            "grid_gap": null,
            "grid_row": null,
            "grid_template_areas": null,
            "grid_template_columns": null,
            "grid_template_rows": null,
            "height": null,
            "justify_content": null,
            "justify_items": null,
            "left": null,
            "margin": null,
            "max_height": null,
            "max_width": null,
            "min_height": null,
            "min_width": null,
            "object_fit": null,
            "object_position": null,
            "order": null,
            "overflow": null,
            "overflow_x": null,
            "overflow_y": null,
            "padding": null,
            "right": null,
            "top": null,
            "visibility": null,
            "width": null
          }
        },
        "6a9de8952b294ad99b6758263aa046c8": {
          "model_module": "@jupyter-widgets/controls",
          "model_name": "ProgressStyleModel",
          "model_module_version": "1.5.0",
          "state": {
            "_model_module": "@jupyter-widgets/controls",
            "_model_module_version": "1.5.0",
            "_model_name": "ProgressStyleModel",
            "_view_count": null,
            "_view_module": "@jupyter-widgets/base",
            "_view_module_version": "1.2.0",
            "_view_name": "StyleView",
            "bar_color": null,
            "description_width": ""
          }
        },
        "4a31c8c724bf44578defc5b61297ecef": {
          "model_module": "@jupyter-widgets/base",
          "model_name": "LayoutModel",
          "model_module_version": "1.2.0",
          "state": {
            "_model_module": "@jupyter-widgets/base",
            "_model_module_version": "1.2.0",
            "_model_name": "LayoutModel",
            "_view_count": null,
            "_view_module": "@jupyter-widgets/base",
            "_view_module_version": "1.2.0",
            "_view_name": "LayoutView",
            "align_content": null,
            "align_items": null,
            "align_self": null,
            "border": null,
            "bottom": null,
            "display": null,
            "flex": null,
            "flex_flow": null,
            "grid_area": null,
            "grid_auto_columns": null,
            "grid_auto_flow": null,
            "grid_auto_rows": null,
            "grid_column": null,
            "grid_gap": null,
            "grid_row": null,
            "grid_template_areas": null,
            "grid_template_columns": null,
            "grid_template_rows": null,
            "height": null,
            "justify_content": null,
            "justify_items": null,
            "left": null,
            "margin": null,
            "max_height": null,
            "max_width": null,
            "min_height": null,
            "min_width": null,
            "object_fit": null,
            "object_position": null,
            "order": null,
            "overflow": null,
            "overflow_x": null,
            "overflow_y": null,
            "padding": null,
            "right": null,
            "top": null,
            "visibility": null,
            "width": null
          }
        },
        "b66976d5e779456a84a378fb6efa22bf": {
          "model_module": "@jupyter-widgets/controls",
          "model_name": "DescriptionStyleModel",
          "model_module_version": "1.5.0",
          "state": {
            "_model_module": "@jupyter-widgets/controls",
            "_model_module_version": "1.5.0",
            "_model_name": "DescriptionStyleModel",
            "_view_count": null,
            "_view_module": "@jupyter-widgets/base",
            "_view_module_version": "1.2.0",
            "_view_name": "StyleView",
            "description_width": ""
          }
        },
        "d8fb59d637e34960a7fa06b743b23a87": {
          "model_module": "@jupyter-widgets/controls",
          "model_name": "HBoxModel",
          "model_module_version": "1.5.0",
          "state": {
            "_dom_classes": [],
            "_model_module": "@jupyter-widgets/controls",
            "_model_module_version": "1.5.0",
            "_model_name": "HBoxModel",
            "_view_count": null,
            "_view_module": "@jupyter-widgets/controls",
            "_view_module_version": "1.5.0",
            "_view_name": "HBoxView",
            "box_style": "",
            "children": [
              "IPY_MODEL_d3a9526f2c734d79beb72b7a8c0d8cfa",
              "IPY_MODEL_03a46c1d36294f689cd929c0a26ac322",
              "IPY_MODEL_3a99e6f19901430e9ed69254515eab2d"
            ],
            "layout": "IPY_MODEL_474386d1004f4d7a90a047f60bef4505"
          }
        },
        "d3a9526f2c734d79beb72b7a8c0d8cfa": {
          "model_module": "@jupyter-widgets/controls",
          "model_name": "HTMLModel",
          "model_module_version": "1.5.0",
          "state": {
            "_dom_classes": [],
            "_model_module": "@jupyter-widgets/controls",
            "_model_module_version": "1.5.0",
            "_model_name": "HTMLModel",
            "_view_count": null,
            "_view_module": "@jupyter-widgets/controls",
            "_view_module_version": "1.5.0",
            "_view_name": "HTMLView",
            "description": "",
            "description_tooltip": null,
            "layout": "IPY_MODEL_9d5d9c486520445285788c3f2f20c3c9",
            "placeholder": "​",
            "style": "IPY_MODEL_ab262d42ec32455283e6a985115e09dc",
            "value": "model.safetensors: 100%"
          }
        },
        "03a46c1d36294f689cd929c0a26ac322": {
          "model_module": "@jupyter-widgets/controls",
          "model_name": "FloatProgressModel",
          "model_module_version": "1.5.0",
          "state": {
            "_dom_classes": [],
            "_model_module": "@jupyter-widgets/controls",
            "_model_module_version": "1.5.0",
            "_model_name": "FloatProgressModel",
            "_view_count": null,
            "_view_module": "@jupyter-widgets/controls",
            "_view_module_version": "1.5.0",
            "_view_name": "ProgressView",
            "bar_style": "success",
            "description": "",
            "description_tooltip": null,
            "layout": "IPY_MODEL_83dc802c05dd4cb4b9b61b23e754e545",
            "max": 440449768,
            "min": 0,
            "orientation": "horizontal",
            "style": "IPY_MODEL_e14d0945463f4b1285d3c17261ec55ee",
            "value": 440449768
          }
        },
        "3a99e6f19901430e9ed69254515eab2d": {
          "model_module": "@jupyter-widgets/controls",
          "model_name": "HTMLModel",
          "model_module_version": "1.5.0",
          "state": {
            "_dom_classes": [],
            "_model_module": "@jupyter-widgets/controls",
            "_model_module_version": "1.5.0",
            "_model_name": "HTMLModel",
            "_view_count": null,
            "_view_module": "@jupyter-widgets/controls",
            "_view_module_version": "1.5.0",
            "_view_name": "HTMLView",
            "description": "",
            "description_tooltip": null,
            "layout": "IPY_MODEL_11d17caaeed84714842faf6f3f625044",
            "placeholder": "​",
            "style": "IPY_MODEL_38a9401f685942009f34e6b3e66e09da",
            "value": " 440M/440M [00:02&lt;00:00, 187MB/s]"
          }
        },
        "474386d1004f4d7a90a047f60bef4505": {
          "model_module": "@jupyter-widgets/base",
          "model_name": "LayoutModel",
          "model_module_version": "1.2.0",
          "state": {
            "_model_module": "@jupyter-widgets/base",
            "_model_module_version": "1.2.0",
            "_model_name": "LayoutModel",
            "_view_count": null,
            "_view_module": "@jupyter-widgets/base",
            "_view_module_version": "1.2.0",
            "_view_name": "LayoutView",
            "align_content": null,
            "align_items": null,
            "align_self": null,
            "border": null,
            "bottom": null,
            "display": null,
            "flex": null,
            "flex_flow": null,
            "grid_area": null,
            "grid_auto_columns": null,
            "grid_auto_flow": null,
            "grid_auto_rows": null,
            "grid_column": null,
            "grid_gap": null,
            "grid_row": null,
            "grid_template_areas": null,
            "grid_template_columns": null,
            "grid_template_rows": null,
            "height": null,
            "justify_content": null,
            "justify_items": null,
            "left": null,
            "margin": null,
            "max_height": null,
            "max_width": null,
            "min_height": null,
            "min_width": null,
            "object_fit": null,
            "object_position": null,
            "order": null,
            "overflow": null,
            "overflow_x": null,
            "overflow_y": null,
            "padding": null,
            "right": null,
            "top": null,
            "visibility": null,
            "width": null
          }
        },
        "9d5d9c486520445285788c3f2f20c3c9": {
          "model_module": "@jupyter-widgets/base",
          "model_name": "LayoutModel",
          "model_module_version": "1.2.0",
          "state": {
            "_model_module": "@jupyter-widgets/base",
            "_model_module_version": "1.2.0",
            "_model_name": "LayoutModel",
            "_view_count": null,
            "_view_module": "@jupyter-widgets/base",
            "_view_module_version": "1.2.0",
            "_view_name": "LayoutView",
            "align_content": null,
            "align_items": null,
            "align_self": null,
            "border": null,
            "bottom": null,
            "display": null,
            "flex": null,
            "flex_flow": null,
            "grid_area": null,
            "grid_auto_columns": null,
            "grid_auto_flow": null,
            "grid_auto_rows": null,
            "grid_column": null,
            "grid_gap": null,
            "grid_row": null,
            "grid_template_areas": null,
            "grid_template_columns": null,
            "grid_template_rows": null,
            "height": null,
            "justify_content": null,
            "justify_items": null,
            "left": null,
            "margin": null,
            "max_height": null,
            "max_width": null,
            "min_height": null,
            "min_width": null,
            "object_fit": null,
            "object_position": null,
            "order": null,
            "overflow": null,
            "overflow_x": null,
            "overflow_y": null,
            "padding": null,
            "right": null,
            "top": null,
            "visibility": null,
            "width": null
          }
        },
        "ab262d42ec32455283e6a985115e09dc": {
          "model_module": "@jupyter-widgets/controls",
          "model_name": "DescriptionStyleModel",
          "model_module_version": "1.5.0",
          "state": {
            "_model_module": "@jupyter-widgets/controls",
            "_model_module_version": "1.5.0",
            "_model_name": "DescriptionStyleModel",
            "_view_count": null,
            "_view_module": "@jupyter-widgets/base",
            "_view_module_version": "1.2.0",
            "_view_name": "StyleView",
            "description_width": ""
          }
        },
        "83dc802c05dd4cb4b9b61b23e754e545": {
          "model_module": "@jupyter-widgets/base",
          "model_name": "LayoutModel",
          "model_module_version": "1.2.0",
          "state": {
            "_model_module": "@jupyter-widgets/base",
            "_model_module_version": "1.2.0",
            "_model_name": "LayoutModel",
            "_view_count": null,
            "_view_module": "@jupyter-widgets/base",
            "_view_module_version": "1.2.0",
            "_view_name": "LayoutView",
            "align_content": null,
            "align_items": null,
            "align_self": null,
            "border": null,
            "bottom": null,
            "display": null,
            "flex": null,
            "flex_flow": null,
            "grid_area": null,
            "grid_auto_columns": null,
            "grid_auto_flow": null,
            "grid_auto_rows": null,
            "grid_column": null,
            "grid_gap": null,
            "grid_row": null,
            "grid_template_areas": null,
            "grid_template_columns": null,
            "grid_template_rows": null,
            "height": null,
            "justify_content": null,
            "justify_items": null,
            "left": null,
            "margin": null,
            "max_height": null,
            "max_width": null,
            "min_height": null,
            "min_width": null,
            "object_fit": null,
            "object_position": null,
            "order": null,
            "overflow": null,
            "overflow_x": null,
            "overflow_y": null,
            "padding": null,
            "right": null,
            "top": null,
            "visibility": null,
            "width": null
          }
        },
        "e14d0945463f4b1285d3c17261ec55ee": {
          "model_module": "@jupyter-widgets/controls",
          "model_name": "ProgressStyleModel",
          "model_module_version": "1.5.0",
          "state": {
            "_model_module": "@jupyter-widgets/controls",
            "_model_module_version": "1.5.0",
            "_model_name": "ProgressStyleModel",
            "_view_count": null,
            "_view_module": "@jupyter-widgets/base",
            "_view_module_version": "1.2.0",
            "_view_name": "StyleView",
            "bar_color": null,
            "description_width": ""
          }
        },
        "11d17caaeed84714842faf6f3f625044": {
          "model_module": "@jupyter-widgets/base",
          "model_name": "LayoutModel",
          "model_module_version": "1.2.0",
          "state": {
            "_model_module": "@jupyter-widgets/base",
            "_model_module_version": "1.2.0",
            "_model_name": "LayoutModel",
            "_view_count": null,
            "_view_module": "@jupyter-widgets/base",
            "_view_module_version": "1.2.0",
            "_view_name": "LayoutView",
            "align_content": null,
            "align_items": null,
            "align_self": null,
            "border": null,
            "bottom": null,
            "display": null,
            "flex": null,
            "flex_flow": null,
            "grid_area": null,
            "grid_auto_columns": null,
            "grid_auto_flow": null,
            "grid_auto_rows": null,
            "grid_column": null,
            "grid_gap": null,
            "grid_row": null,
            "grid_template_areas": null,
            "grid_template_columns": null,
            "grid_template_rows": null,
            "height": null,
            "justify_content": null,
            "justify_items": null,
            "left": null,
            "margin": null,
            "max_height": null,
            "max_width": null,
            "min_height": null,
            "min_width": null,
            "object_fit": null,
            "object_position": null,
            "order": null,
            "overflow": null,
            "overflow_x": null,
            "overflow_y": null,
            "padding": null,
            "right": null,
            "top": null,
            "visibility": null,
            "width": null
          }
        },
        "38a9401f685942009f34e6b3e66e09da": {
          "model_module": "@jupyter-widgets/controls",
          "model_name": "DescriptionStyleModel",
          "model_module_version": "1.5.0",
          "state": {
            "_model_module": "@jupyter-widgets/controls",
            "_model_module_version": "1.5.0",
            "_model_name": "DescriptionStyleModel",
            "_view_count": null,
            "_view_module": "@jupyter-widgets/base",
            "_view_module_version": "1.2.0",
            "_view_name": "StyleView",
            "description_width": ""
          }
        }
      }
    },
    "accelerator": "GPU"
  },
  "cells": [
    {
      "cell_type": "markdown",
      "metadata": {
        "id": "view-in-github",
        "colab_type": "text"
      },
      "source": [
        "<a href=\"https://colab.research.google.com/github/fjadidi2001/AD_Prediction/blob/main/NEURAL_ARCHITECTURE_SEARCH_WITH_MULTIMODAL_FUSION_METHODS4DIAGNOSING_DEMENTIA.ipynb\" target=\"_parent\"><img src=\"https://colab.research.google.com/assets/colab-badge.svg\" alt=\"Open In Colab\"/></a>"
      ]
    },
    {
      "cell_type": "code",
      "execution_count": null,
      "metadata": {
        "colab": {
          "base_uri": "https://localhost:8080/"
        },
        "id": "ZDCDHbYzNp2n",
        "outputId": "32958fcc-71c2-47a5-eaa3-7f42deadb156"
      },
      "outputs": [
        {
          "output_type": "stream",
          "name": "stdout",
          "text": [
            "Mounted at /content/drive\n"
          ]
        }
      ],
      "source": [
        "from google.colab import drive\n",
        "drive.mount('/content/drive')"
      ]
    },
    {
      "cell_type": "markdown",
      "source": [
        "# Workflow Overview\n",
        "\n",
        "- Setup and Dependencies Installation\n",
        "- Dataset Extraction and Exploration\n",
        "- Audio Preprocessing and Feature Extraction\n",
        "- Text Generation (ASR) and Linguistic Feature Extraction\n",
        "- DARTS Neural Architecture Search Implementation\n",
        "- BERT Text Processing\n",
        "- Multimodal Fusion Implementation\n",
        "- Model Training and Evaluation\n",
        "- Testing and Validation"
      ],
      "metadata": {
        "id": "Hz8BP_SsPwy4"
      }
    },
    {
      "cell_type": "code",
      "source": [
        "# AD Detection Starter Script for Google Colab\n",
        "# Run this first to test dataset loading and basic setup\n",
        "\n",
        "# Mount Google Drive\n",
        "from google.colab import drive\n",
        "drive.mount('/content/drive')\n",
        "\n",
        "# Install required packages\n",
        "!pip install transformers torch torchaudio librosa speechrecognition pydub scikit-learn\n",
        "\n",
        "import os\n",
        "import tarfile\n",
        "import glob\n",
        "import librosa\n",
        "import numpy as np\n",
        "import pandas as pd\n",
        "from pathlib import Path\n",
        "\n",
        "# Step 1: Check and extract datasets\n",
        "def setup_datasets():\n",
        "    base_path = \"/content/drive/MyDrive/Voice/\"\n",
        "\n",
        "    # Check if files exist\n",
        "    files_to_check = [\n",
        "        \"ADReSSo21-diagnosis-train.tgz\",\n",
        "        \"ADReSSo21-progression-test.tgz\",\n",
        "        \"ADReSSo21-progression-train.tgz\"\n",
        "    ]\n",
        "\n",
        "    print(\"Checking dataset files...\")\n",
        "    for file in files_to_check:\n",
        "        full_path = os.path.join(base_path, file)\n",
        "        if os.path.exists(full_path):\n",
        "            print(f\"✓ Found: {file}\")\n",
        "        else:\n",
        "            print(f\"✗ Missing: {file}\")\n",
        "\n",
        "    # Extract datasets\n",
        "    print(\"\\nExtracting datasets...\")\n",
        "    for file in files_to_check:\n",
        "        archive_path = os.path.join(base_path, file)\n",
        "        extract_path = os.path.join(base_path, file.replace('.tgz', ''))\n",
        "\n",
        "        if os.path.exists(archive_path) and not os.path.exists(extract_path):\n",
        "            print(f\"Extracting {file}...\")\n",
        "            try:\n",
        "                with tarfile.open(archive_path, 'r:gz') as tar:\n",
        "                    tar.extractall(extract_path)\n",
        "                print(f\"✓ Extracted to {extract_path}\")\n",
        "            except Exception as e:\n",
        "                print(f\"✗ Error extracting {file}: {e}\")\n",
        "        elif os.path.exists(extract_path):\n",
        "            print(f\"✓ Already extracted: {file}\")\n",
        "\n",
        "# Step 2: Explore dataset structure\n",
        "def explore_dataset_structure():\n",
        "    base_path = \"/content/drive/MyDrive/Voice/\"\n",
        "\n",
        "    print(\"Dataset structure:\")\n",
        "    for root, dirs, files in os.walk(base_path):\n",
        "        level = root.replace(base_path, '').count(os.sep)\n",
        "        indent = ' ' * 2 * level\n",
        "        print(f\"{indent}{os.path.basename(root)}/\")\n",
        "        subindent = ' ' * 2 * (level + 1)\n",
        "        for file in files[:5]:  # Show first 5 files only\n",
        "            print(f\"{subindent}{file}\")\n",
        "        if len(files) > 5:\n",
        "            print(f\"{subindent}... and {len(files) - 5} more files\")\n",
        "\n",
        "# Step 3: Find and analyze audio files\n",
        "def find_audio_files():\n",
        "    base_path = \"/content/drive/MyDrive/Voice/\"\n",
        "    audio_extensions = ['.wav', '.mp3', '.flac', '.m4a']\n",
        "\n",
        "    audio_files = []\n",
        "    for root, dirs, files in os.walk(base_path):\n",
        "        for file in files:\n",
        "            if any(file.lower().endswith(ext) for ext in audio_extensions):\n",
        "                audio_files.append(os.path.join(root, file))\n",
        "\n",
        "    print(f\"\\nFound {len(audio_files)} audio files\")\n",
        "\n",
        "    if audio_files:\n",
        "        print(\"\\nSample audio files:\")\n",
        "        for i, file in enumerate(audio_files[:5]):\n",
        "            print(f\"{i+1}. {file}\")\n",
        "\n",
        "        # Analyze first audio file\n",
        "        if len(audio_files) > 0:\n",
        "            print(f\"\\nAnalyzing first audio file: {audio_files[0]}\")\n",
        "            try:\n",
        "                y, sr = librosa.load(audio_files[0], duration=10)  # Load first 10 seconds\n",
        "                print(f\"Sample rate: {sr} Hz\")\n",
        "                print(f\"Duration: {len(y)/sr:.2f} seconds\")\n",
        "                print(f\"Audio shape: {y.shape}\")\n",
        "            except Exception as e:\n",
        "                print(f\"Error loading audio: {e}\")\n",
        "\n",
        "    return audio_files\n",
        "\n",
        "# Step 4: Check for label information\n",
        "def check_labels():\n",
        "    base_path = \"/content/drive/MyDrive/Voice/\"\n",
        "\n",
        "    # Look for CSV files or text files that might contain labels\n",
        "    label_files = []\n",
        "    for root, dirs, files in os.walk(base_path):\n",
        "        for file in files:\n",
        "            if file.lower().endswith(('.csv', '.txt', '.tsv', '.json')):\n",
        "                label_files.append(os.path.join(root, file))\n",
        "\n",
        "    print(f\"\\nFound {len(label_files)} potential label files:\")\n",
        "    for file in label_files:\n",
        "        print(f\"- {file}\")\n",
        "\n",
        "    # Try to read label files\n",
        "    for file in label_files[:3]:  # Check first 3 files\n",
        "        try:\n",
        "            if file.endswith('.csv'):\n",
        "                df = pd.read_csv(file)\n",
        "                print(f\"\\n{file} (CSV):\")\n",
        "                print(f\"Shape: {df.shape}\")\n",
        "                print(f\"Columns: {list(df.columns)}\")\n",
        "                print(df.head())\n",
        "            elif file.endswith('.txt'):\n",
        "                with open(file, 'r') as f:\n",
        "                    content = f.read()[:500]  # First 500 characters\n",
        "                print(f\"\\n{file} (TXT):\")\n",
        "                print(content)\n",
        "        except Exception as e:\n",
        "            print(f\"Error reading {file}: {e}\")\n",
        "\n",
        "# Step 5: Basic audio feature extraction test\n",
        "def test_audio_processing():\n",
        "    print(\"\\nTesting audio processing...\")\n",
        "\n",
        "    # Find an audio file to test\n",
        "    audio_files = find_audio_files()\n",
        "    if not audio_files:\n",
        "        print(\"No audio files found for testing\")\n",
        "        return\n",
        "\n",
        "    test_file = audio_files[0]\n",
        "    print(f\"Testing with: {test_file}\")\n",
        "\n",
        "    try:\n",
        "        # Load audio\n",
        "        y, sr = librosa.load(test_file, sr=16000, duration=30)  # 30 seconds max\n",
        "\n",
        "        # Extract basic features\n",
        "        print(\"Extracting features...\")\n",
        "\n",
        "        # MFCCs\n",
        "        mfccs = librosa.feature.mfcc(y=y, sr=sr, n_mfcc=13)\n",
        "        print(f\"MFCCs shape: {mfccs.shape}\")\n",
        "\n",
        "        # Spectral features\n",
        "        spectral_centroids = librosa.feature.spectral_centroid(y=y, sr=sr)\n",
        "        print(f\"Spectral centroids shape: {spectral_centroids.shape}\")\n",
        "\n",
        "        # Zero crossing rate\n",
        "        zcr = librosa.feature.zero_crossing_rate(y)\n",
        "        print(f\"Zero crossing rate shape: {zcr.shape}\")\n",
        "\n",
        "        print(\"✓ Audio processing test successful!\")\n",
        "\n",
        "    except Exception as e:\n",
        "        print(f\"✗ Audio processing test failed: {e}\")\n",
        "\n",
        "# Main execution\n",
        "def run_startup_checks():\n",
        "    print(\"=== AD Detection Model Setup ===\\n\")\n",
        "\n",
        "    # Run all checks\n",
        "    setup_datasets()\n",
        "    explore_dataset_structure()\n",
        "    audio_files = find_audio_files()\n",
        "    check_labels()\n",
        "    test_audio_processing()\n",
        "\n",
        "    print(\"\\n=== Setup Complete ===\")\n",
        "    print(f\"Ready to proceed with model implementation!\")\n",
        "    print(f\"Found {len(audio_files) if 'audio_files' in locals() else 0} audio files to work with\")\n",
        "\n",
        "# Run the startup checks\n",
        "if __name__ == \"__main__\":\n",
        "    run_startup_checks()"
      ],
      "metadata": {
        "colab": {
          "base_uri": "https://localhost:8080/"
        },
        "id": "XSwjsVS-Qbg6",
        "outputId": "68e58532-9fa4-4fc0-a527-8db7d0d20d4c"
      },
      "execution_count": null,
      "outputs": [
        {
          "output_type": "stream",
          "name": "stdout",
          "text": [
            "Drive already mounted at /content/drive; to attempt to forcibly remount, call drive.mount(\"/content/drive\", force_remount=True).\n",
            "Requirement already satisfied: transformers in /usr/local/lib/python3.11/dist-packages (4.51.3)\n",
            "Requirement already satisfied: torch in /usr/local/lib/python3.11/dist-packages (2.6.0+cu124)\n",
            "Requirement already satisfied: torchaudio in /usr/local/lib/python3.11/dist-packages (2.6.0+cu124)\n",
            "Requirement already satisfied: librosa in /usr/local/lib/python3.11/dist-packages (0.11.0)\n",
            "Collecting speechrecognition\n",
            "  Downloading speechrecognition-3.14.3-py3-none-any.whl.metadata (30 kB)\n",
            "Collecting pydub\n",
            "  Downloading pydub-0.25.1-py2.py3-none-any.whl.metadata (1.4 kB)\n",
            "Requirement already satisfied: scikit-learn in /usr/local/lib/python3.11/dist-packages (1.6.1)\n",
            "Requirement already satisfied: filelock in /usr/local/lib/python3.11/dist-packages (from transformers) (3.18.0)\n",
            "Requirement already satisfied: huggingface-hub<1.0,>=0.30.0 in /usr/local/lib/python3.11/dist-packages (from transformers) (0.31.2)\n",
            "Requirement already satisfied: numpy>=1.17 in /usr/local/lib/python3.11/dist-packages (from transformers) (2.0.2)\n",
            "Requirement already satisfied: packaging>=20.0 in /usr/local/lib/python3.11/dist-packages (from transformers) (24.2)\n",
            "Requirement already satisfied: pyyaml>=5.1 in /usr/local/lib/python3.11/dist-packages (from transformers) (6.0.2)\n",
            "Requirement already satisfied: regex!=2019.12.17 in /usr/local/lib/python3.11/dist-packages (from transformers) (2024.11.6)\n",
            "Requirement already satisfied: requests in /usr/local/lib/python3.11/dist-packages (from transformers) (2.32.3)\n",
            "Requirement already satisfied: tokenizers<0.22,>=0.21 in /usr/local/lib/python3.11/dist-packages (from transformers) (0.21.1)\n",
            "Requirement already satisfied: safetensors>=0.4.3 in /usr/local/lib/python3.11/dist-packages (from transformers) (0.5.3)\n",
            "Requirement already satisfied: tqdm>=4.27 in /usr/local/lib/python3.11/dist-packages (from transformers) (4.67.1)\n",
            "Requirement already satisfied: typing-extensions>=4.10.0 in /usr/local/lib/python3.11/dist-packages (from torch) (4.13.2)\n",
            "Requirement already satisfied: networkx in /usr/local/lib/python3.11/dist-packages (from torch) (3.4.2)\n",
            "Requirement already satisfied: jinja2 in /usr/local/lib/python3.11/dist-packages (from torch) (3.1.6)\n",
            "Requirement already satisfied: fsspec in /usr/local/lib/python3.11/dist-packages (from torch) (2025.3.2)\n",
            "Collecting nvidia-cuda-nvrtc-cu12==12.4.127 (from torch)\n",
            "  Downloading nvidia_cuda_nvrtc_cu12-12.4.127-py3-none-manylinux2014_x86_64.whl.metadata (1.5 kB)\n",
            "Collecting nvidia-cuda-runtime-cu12==12.4.127 (from torch)\n",
            "  Downloading nvidia_cuda_runtime_cu12-12.4.127-py3-none-manylinux2014_x86_64.whl.metadata (1.5 kB)\n",
            "Collecting nvidia-cuda-cupti-cu12==12.4.127 (from torch)\n",
            "  Downloading nvidia_cuda_cupti_cu12-12.4.127-py3-none-manylinux2014_x86_64.whl.metadata (1.6 kB)\n",
            "Collecting nvidia-cudnn-cu12==9.1.0.70 (from torch)\n",
            "  Downloading nvidia_cudnn_cu12-9.1.0.70-py3-none-manylinux2014_x86_64.whl.metadata (1.6 kB)\n",
            "Collecting nvidia-cublas-cu12==12.4.5.8 (from torch)\n",
            "  Downloading nvidia_cublas_cu12-12.4.5.8-py3-none-manylinux2014_x86_64.whl.metadata (1.5 kB)\n",
            "Collecting nvidia-cufft-cu12==11.2.1.3 (from torch)\n",
            "  Downloading nvidia_cufft_cu12-11.2.1.3-py3-none-manylinux2014_x86_64.whl.metadata (1.5 kB)\n",
            "Collecting nvidia-curand-cu12==10.3.5.147 (from torch)\n",
            "  Downloading nvidia_curand_cu12-10.3.5.147-py3-none-manylinux2014_x86_64.whl.metadata (1.5 kB)\n",
            "Collecting nvidia-cusolver-cu12==11.6.1.9 (from torch)\n",
            "  Downloading nvidia_cusolver_cu12-11.6.1.9-py3-none-manylinux2014_x86_64.whl.metadata (1.6 kB)\n",
            "Collecting nvidia-cusparse-cu12==12.3.1.170 (from torch)\n",
            "  Downloading nvidia_cusparse_cu12-12.3.1.170-py3-none-manylinux2014_x86_64.whl.metadata (1.6 kB)\n",
            "Requirement already satisfied: nvidia-cusparselt-cu12==0.6.2 in /usr/local/lib/python3.11/dist-packages (from torch) (0.6.2)\n",
            "Requirement already satisfied: nvidia-nccl-cu12==2.21.5 in /usr/local/lib/python3.11/dist-packages (from torch) (2.21.5)\n",
            "Requirement already satisfied: nvidia-nvtx-cu12==12.4.127 in /usr/local/lib/python3.11/dist-packages (from torch) (12.4.127)\n",
            "Collecting nvidia-nvjitlink-cu12==12.4.127 (from torch)\n",
            "  Downloading nvidia_nvjitlink_cu12-12.4.127-py3-none-manylinux2014_x86_64.whl.metadata (1.5 kB)\n",
            "Requirement already satisfied: triton==3.2.0 in /usr/local/lib/python3.11/dist-packages (from torch) (3.2.0)\n",
            "Requirement already satisfied: sympy==1.13.1 in /usr/local/lib/python3.11/dist-packages (from torch) (1.13.1)\n",
            "Requirement already satisfied: mpmath<1.4,>=1.1.0 in /usr/local/lib/python3.11/dist-packages (from sympy==1.13.1->torch) (1.3.0)\n",
            "Requirement already satisfied: audioread>=2.1.9 in /usr/local/lib/python3.11/dist-packages (from librosa) (3.0.1)\n",
            "Requirement already satisfied: numba>=0.51.0 in /usr/local/lib/python3.11/dist-packages (from librosa) (0.60.0)\n",
            "Requirement already satisfied: scipy>=1.6.0 in /usr/local/lib/python3.11/dist-packages (from librosa) (1.15.3)\n",
            "Requirement already satisfied: joblib>=1.0 in /usr/local/lib/python3.11/dist-packages (from librosa) (1.5.0)\n",
            "Requirement already satisfied: decorator>=4.3.0 in /usr/local/lib/python3.11/dist-packages (from librosa) (4.4.2)\n",
            "Requirement already satisfied: soundfile>=0.12.1 in /usr/local/lib/python3.11/dist-packages (from librosa) (0.13.1)\n",
            "Requirement already satisfied: pooch>=1.1 in /usr/local/lib/python3.11/dist-packages (from librosa) (1.8.2)\n",
            "Requirement already satisfied: soxr>=0.3.2 in /usr/local/lib/python3.11/dist-packages (from librosa) (0.5.0.post1)\n",
            "Requirement already satisfied: lazy_loader>=0.1 in /usr/local/lib/python3.11/dist-packages (from librosa) (0.4)\n",
            "Requirement already satisfied: msgpack>=1.0 in /usr/local/lib/python3.11/dist-packages (from librosa) (1.1.0)\n",
            "Requirement already satisfied: threadpoolctl>=3.1.0 in /usr/local/lib/python3.11/dist-packages (from scikit-learn) (3.6.0)\n",
            "Requirement already satisfied: llvmlite<0.44,>=0.43.0dev0 in /usr/local/lib/python3.11/dist-packages (from numba>=0.51.0->librosa) (0.43.0)\n",
            "Requirement already satisfied: platformdirs>=2.5.0 in /usr/local/lib/python3.11/dist-packages (from pooch>=1.1->librosa) (4.3.8)\n",
            "Requirement already satisfied: charset-normalizer<4,>=2 in /usr/local/lib/python3.11/dist-packages (from requests->transformers) (3.4.2)\n",
            "Requirement already satisfied: idna<4,>=2.5 in /usr/local/lib/python3.11/dist-packages (from requests->transformers) (3.10)\n",
            "Requirement already satisfied: urllib3<3,>=1.21.1 in /usr/local/lib/python3.11/dist-packages (from requests->transformers) (2.4.0)\n",
            "Requirement already satisfied: certifi>=2017.4.17 in /usr/local/lib/python3.11/dist-packages (from requests->transformers) (2025.4.26)\n",
            "Requirement already satisfied: cffi>=1.0 in /usr/local/lib/python3.11/dist-packages (from soundfile>=0.12.1->librosa) (1.17.1)\n",
            "Requirement already satisfied: MarkupSafe>=2.0 in /usr/local/lib/python3.11/dist-packages (from jinja2->torch) (3.0.2)\n",
            "Requirement already satisfied: pycparser in /usr/local/lib/python3.11/dist-packages (from cffi>=1.0->soundfile>=0.12.1->librosa) (2.22)\n",
            "Downloading nvidia_cublas_cu12-12.4.5.8-py3-none-manylinux2014_x86_64.whl (363.4 MB)\n",
            "\u001b[2K   \u001b[90m━━━━━━━━━━━━━━━━━━━━━━━━━━━━━━━━━━━━━━━━\u001b[0m \u001b[32m363.4/363.4 MB\u001b[0m \u001b[31m2.1 MB/s\u001b[0m eta \u001b[36m0:00:00\u001b[0m\n",
            "\u001b[?25hDownloading nvidia_cuda_cupti_cu12-12.4.127-py3-none-manylinux2014_x86_64.whl (13.8 MB)\n",
            "\u001b[2K   \u001b[90m━━━━━━━━━━━━━━━━━━━━━━━━━━━━━━━━━━━━━━━━\u001b[0m \u001b[32m13.8/13.8 MB\u001b[0m \u001b[31m107.8 MB/s\u001b[0m eta \u001b[36m0:00:00\u001b[0m\n",
            "\u001b[?25hDownloading nvidia_cuda_nvrtc_cu12-12.4.127-py3-none-manylinux2014_x86_64.whl (24.6 MB)\n",
            "\u001b[2K   \u001b[90m━━━━━━━━━━━━━━━━━━━━━━━━━━━━━━━━━━━━━━━━\u001b[0m \u001b[32m24.6/24.6 MB\u001b[0m \u001b[31m83.2 MB/s\u001b[0m eta \u001b[36m0:00:00\u001b[0m\n",
            "\u001b[?25hDownloading nvidia_cuda_runtime_cu12-12.4.127-py3-none-manylinux2014_x86_64.whl (883 kB)\n",
            "\u001b[2K   \u001b[90m━━━━━━━━━━━━━━━━━━━━━━━━━━━━━━━━━━━━━━━━\u001b[0m \u001b[32m883.7/883.7 kB\u001b[0m \u001b[31m56.8 MB/s\u001b[0m eta \u001b[36m0:00:00\u001b[0m\n",
            "\u001b[?25hDownloading nvidia_cudnn_cu12-9.1.0.70-py3-none-manylinux2014_x86_64.whl (664.8 MB)\n",
            "\u001b[2K   \u001b[90m━━━━━━━━━━━━━━━━━━━━━━━━━━━━━━━━━━━━━━━\u001b[0m \u001b[32m664.8/664.8 MB\u001b[0m \u001b[31m857.6 kB/s\u001b[0m eta \u001b[36m0:00:00\u001b[0m\n",
            "\u001b[?25hDownloading nvidia_cufft_cu12-11.2.1.3-py3-none-manylinux2014_x86_64.whl (211.5 MB)\n",
            "\u001b[2K   \u001b[90m━━━━━━━━━━━━━━━━━━━━━━━━━━━━━━━━━━━━━━━━\u001b[0m \u001b[32m211.5/211.5 MB\u001b[0m \u001b[31m5.7 MB/s\u001b[0m eta \u001b[36m0:00:00\u001b[0m\n",
            "\u001b[?25hDownloading nvidia_curand_cu12-10.3.5.147-py3-none-manylinux2014_x86_64.whl (56.3 MB)\n",
            "\u001b[2K   \u001b[90m━━━━━━━━━━━━━━━━━━━━━━━━━━━━━━━━━━━━━━━━\u001b[0m \u001b[32m56.3/56.3 MB\u001b[0m \u001b[31m16.4 MB/s\u001b[0m eta \u001b[36m0:00:00\u001b[0m\n",
            "\u001b[?25hDownloading nvidia_cusolver_cu12-11.6.1.9-py3-none-manylinux2014_x86_64.whl (127.9 MB)\n",
            "\u001b[2K   \u001b[90m━━━━━━━━━━━━━━━━━━━━━━━━━━━━━━━━━━━━━━━━\u001b[0m \u001b[32m127.9/127.9 MB\u001b[0m \u001b[31m7.5 MB/s\u001b[0m eta \u001b[36m0:00:00\u001b[0m\n",
            "\u001b[?25hDownloading nvidia_cusparse_cu12-12.3.1.170-py3-none-manylinux2014_x86_64.whl (207.5 MB)\n",
            "\u001b[2K   \u001b[90m━━━━━━━━━━━━━━━━━━━━━━━━━━━━━━━━━━━━━━━━\u001b[0m \u001b[32m207.5/207.5 MB\u001b[0m \u001b[31m5.9 MB/s\u001b[0m eta \u001b[36m0:00:00\u001b[0m\n",
            "\u001b[?25hDownloading nvidia_nvjitlink_cu12-12.4.127-py3-none-manylinux2014_x86_64.whl (21.1 MB)\n",
            "\u001b[2K   \u001b[90m━━━━━━━━━━━━━━━━━━━━━━━━━━━━━━━━━━━━━━━━\u001b[0m \u001b[32m21.1/21.1 MB\u001b[0m \u001b[31m97.5 MB/s\u001b[0m eta \u001b[36m0:00:00\u001b[0m\n",
            "\u001b[?25hDownloading speechrecognition-3.14.3-py3-none-any.whl (32.9 MB)\n",
            "\u001b[2K   \u001b[90m━━━━━━━━━━━━━━━━━━━━━━━━━━━━━━━━━━━━━━━━\u001b[0m \u001b[32m32.9/32.9 MB\u001b[0m \u001b[31m18.9 MB/s\u001b[0m eta \u001b[36m0:00:00\u001b[0m\n",
            "\u001b[?25hDownloading pydub-0.25.1-py2.py3-none-any.whl (32 kB)\n",
            "Installing collected packages: pydub, speechrecognition, nvidia-nvjitlink-cu12, nvidia-curand-cu12, nvidia-cufft-cu12, nvidia-cuda-runtime-cu12, nvidia-cuda-nvrtc-cu12, nvidia-cuda-cupti-cu12, nvidia-cublas-cu12, nvidia-cusparse-cu12, nvidia-cudnn-cu12, nvidia-cusolver-cu12\n",
            "  Attempting uninstall: nvidia-nvjitlink-cu12\n",
            "    Found existing installation: nvidia-nvjitlink-cu12 12.5.82\n",
            "    Uninstalling nvidia-nvjitlink-cu12-12.5.82:\n",
            "      Successfully uninstalled nvidia-nvjitlink-cu12-12.5.82\n",
            "  Attempting uninstall: nvidia-curand-cu12\n",
            "    Found existing installation: nvidia-curand-cu12 10.3.6.82\n",
            "    Uninstalling nvidia-curand-cu12-10.3.6.82:\n",
            "      Successfully uninstalled nvidia-curand-cu12-10.3.6.82\n",
            "  Attempting uninstall: nvidia-cufft-cu12\n",
            "    Found existing installation: nvidia-cufft-cu12 11.2.3.61\n",
            "    Uninstalling nvidia-cufft-cu12-11.2.3.61:\n",
            "      Successfully uninstalled nvidia-cufft-cu12-11.2.3.61\n",
            "  Attempting uninstall: nvidia-cuda-runtime-cu12\n",
            "    Found existing installation: nvidia-cuda-runtime-cu12 12.5.82\n",
            "    Uninstalling nvidia-cuda-runtime-cu12-12.5.82:\n",
            "      Successfully uninstalled nvidia-cuda-runtime-cu12-12.5.82\n",
            "  Attempting uninstall: nvidia-cuda-nvrtc-cu12\n",
            "    Found existing installation: nvidia-cuda-nvrtc-cu12 12.5.82\n",
            "    Uninstalling nvidia-cuda-nvrtc-cu12-12.5.82:\n",
            "      Successfully uninstalled nvidia-cuda-nvrtc-cu12-12.5.82\n",
            "  Attempting uninstall: nvidia-cuda-cupti-cu12\n",
            "    Found existing installation: nvidia-cuda-cupti-cu12 12.5.82\n",
            "    Uninstalling nvidia-cuda-cupti-cu12-12.5.82:\n",
            "      Successfully uninstalled nvidia-cuda-cupti-cu12-12.5.82\n",
            "  Attempting uninstall: nvidia-cublas-cu12\n",
            "    Found existing installation: nvidia-cublas-cu12 12.5.3.2\n",
            "    Uninstalling nvidia-cublas-cu12-12.5.3.2:\n",
            "      Successfully uninstalled nvidia-cublas-cu12-12.5.3.2\n",
            "  Attempting uninstall: nvidia-cusparse-cu12\n",
            "    Found existing installation: nvidia-cusparse-cu12 12.5.1.3\n",
            "    Uninstalling nvidia-cusparse-cu12-12.5.1.3:\n",
            "      Successfully uninstalled nvidia-cusparse-cu12-12.5.1.3\n",
            "  Attempting uninstall: nvidia-cudnn-cu12\n",
            "    Found existing installation: nvidia-cudnn-cu12 9.3.0.75\n",
            "    Uninstalling nvidia-cudnn-cu12-9.3.0.75:\n",
            "      Successfully uninstalled nvidia-cudnn-cu12-9.3.0.75\n",
            "  Attempting uninstall: nvidia-cusolver-cu12\n",
            "    Found existing installation: nvidia-cusolver-cu12 11.6.3.83\n",
            "    Uninstalling nvidia-cusolver-cu12-11.6.3.83:\n",
            "      Successfully uninstalled nvidia-cusolver-cu12-11.6.3.83\n",
            "Successfully installed nvidia-cublas-cu12-12.4.5.8 nvidia-cuda-cupti-cu12-12.4.127 nvidia-cuda-nvrtc-cu12-12.4.127 nvidia-cuda-runtime-cu12-12.4.127 nvidia-cudnn-cu12-9.1.0.70 nvidia-cufft-cu12-11.2.1.3 nvidia-curand-cu12-10.3.5.147 nvidia-cusolver-cu12-11.6.1.9 nvidia-cusparse-cu12-12.3.1.170 nvidia-nvjitlink-cu12-12.4.127 pydub-0.25.1 speechrecognition-3.14.3\n",
            "=== AD Detection Model Setup ===\n",
            "\n",
            "Checking dataset files...\n",
            "✓ Found: ADReSSo21-diagnosis-train.tgz\n",
            "✓ Found: ADReSSo21-progression-test.tgz\n",
            "✓ Found: ADReSSo21-progression-train.tgz\n",
            "\n",
            "Extracting datasets...\n",
            "Extracting ADReSSo21-diagnosis-train.tgz...\n",
            "✓ Extracted to /content/drive/MyDrive/Voice/ADReSSo21-diagnosis-train\n",
            "Extracting ADReSSo21-progression-test.tgz...\n",
            "✓ Extracted to /content/drive/MyDrive/Voice/ADReSSo21-progression-test\n",
            "Extracting ADReSSo21-progression-train.tgz...\n",
            "✓ Extracted to /content/drive/MyDrive/Voice/ADReSSo21-progression-train\n",
            "Dataset structure:\n",
            "/\n",
            "  ADReSSo21-diagnosis-train.tgz\n",
            "  ADReSSo21-progression-test.tgz\n",
            "  ADReSSo21-progression-train.tgz\n",
            "  task1.csv\n",
            "  task2.csv\n",
            "  ... and 8 more files\n",
            "Extracted_dataset/\n",
            "  diagnosis_train/\n",
            "    ADReSSo21/\n",
            "      diagnosis/\n",
            "        README.md\n",
            "        train/\n",
            "          adresso-train-mmse-scores.csv\n",
            "          segmentation/\n",
            "            cn/\n",
            "              adrso186.csv\n",
            "              adrso278.csv\n",
            "              adrso267.csv\n",
            "              adrso261.csv\n",
            "              adrso280.csv\n",
            "              ... and 74 more files\n",
            "            ad/\n",
            "              adrso031.csv\n",
            "              adrso035.csv\n",
            "              adrso054.csv\n",
            "              adrso028.csv\n",
            "              adrso049.csv\n",
            "              ... and 82 more files\n",
            "          audio/\n",
            "            cn/\n",
            "              adrso014.wav\n",
            "              adrso015.wav\n",
            "              adrso003.wav\n",
            "              adrso008.wav\n",
            "              adrso012.wav\n",
            "              ... and 74 more files\n",
            "            ad/\n",
            "              adrso036.wav\n",
            "              adrso043.wav\n",
            "              adrso024.wav\n",
            "              adrso045.wav\n",
            "              adrso049.wav\n",
            "              ... and 82 more files\n",
            "  progression_test/\n",
            "    ADReSSo21/\n",
            "      progression/\n",
            "        test-dist/\n",
            "          README\n",
            "          test_results_task3.csv\n",
            "          segmentation/\n",
            "            adrspt24.csv\n",
            "            adrspt12.csv\n",
            "            adrspt26.csv\n",
            "            adrspt11.csv\n",
            "            adrspt21.csv\n",
            "            ... and 10 more files\n",
            "          audio/\n",
            "            adrspt26.wav\n",
            "            adrspt5.wav\n",
            "            adrspt20.wav\n",
            "            adrspt22.wav\n",
            "            adrspt32.wav\n",
            "            ... and 27 more files\n",
            "  progression_train/\n",
            "    ADReSSo21/\n",
            "      progression/\n",
            "        README.md\n",
            "        train/\n",
            "          segmentation/\n",
            "            no_decline/\n",
            "              adrsp039.csv\n",
            "              adrsp207.csv\n",
            "              adrsp030.csv\n",
            "              adrsp001.csv\n",
            "              adrsp136.csv\n",
            "              ... and 32 more files\n",
            "            decline/\n",
            "              adrsp101.csv\n",
            "              adrsp051.csv\n",
            "              adrsp266.csv\n",
            "              adrsp127.csv\n",
            "              adrsp313.csv\n",
            "              ... and 5 more files\n",
            "          audio/\n",
            "            no_decline/\n",
            "              adrsp196.wav\n",
            "              adrsp137.wav\n",
            "              adrsp130.wav\n",
            "              adrsp349.wav\n",
            "              adrsp198.wav\n",
            "              ... and 53 more files\n",
            "            decline/\n",
            "              adrsp055.wav\n",
            "              adrsp003.wav\n",
            "              adrsp300.wav\n",
            "              adrsp266.wav\n",
            "              adrsp320.wav\n",
            "              ... and 10 more files\n",
            "Persian_Translated_Dataset/\n",
            "  translation_template.json\n",
            "  translation_template.csv\n",
            "  translation_guidelines.txt\n",
            "  diagnosis_train/\n",
            "    ADReSSo21/\n",
            "      diagnosis/\n",
            "        train/\n",
            "          segmentation/\n",
            "            cn/\n",
            "            ad/\n",
            "          audio/\n",
            "            cn/\n",
            "            ad/\n",
            "  progression_test/\n",
            "    ADReSSo21/\n",
            "      progression/\n",
            "        test-dist/\n",
            "          segmentation/\n",
            "          audio/\n",
            "  progression_train/\n",
            "    ADReSSo21/\n",
            "      progression/\n",
            "        train/\n",
            "          segmentation/\n",
            "            no_decline/\n",
            "            decline/\n",
            "          audio/\n",
            "            no_decline/\n",
            "            decline/\n",
            "ADReSSo21-diagnosis-train/\n",
            "  ADReSSo21/\n",
            "    diagnosis/\n",
            "      README.md\n",
            "      train/\n",
            "        adresso-train-mmse-scores.csv\n",
            "        segmentation/\n",
            "          cn/\n",
            "            adrso281.csv\n",
            "            adrso308.csv\n",
            "            adrso270.csv\n",
            "            adrso022.csv\n",
            "            adrso298.csv\n",
            "            ... and 74 more files\n",
            "          ad/\n",
            "            adrso229.csv\n",
            "            adrso106.csv\n",
            "            adrso144.csv\n",
            "            adrso049.csv\n",
            "            adrso078.csv\n",
            "            ... and 82 more files\n",
            "        audio/\n",
            "          cn/\n",
            "            adrso173.wav\n",
            "            adrso015.wav\n",
            "            adrso307.wav\n",
            "            adrso283.wav\n",
            "            adrso167.wav\n",
            "            ... and 74 more files\n",
            "          ad/\n",
            "            adrso047.wav\n",
            "            adrso128.wav\n",
            "            adrso045.wav\n",
            "            adrso110.wav\n",
            "            adrso036.wav\n",
            "            ... and 82 more files\n",
            "ADReSSo21-progression-test/\n",
            "  ADReSSo21/\n",
            "    progression/\n",
            "      test-dist/\n",
            "        test_results_task3.csv\n",
            "        README\n",
            "        segmentation/\n",
            "          adrspt24.csv\n",
            "          adrspt15.csv\n",
            "          adrspt12.csv\n",
            "          adrspt2.csv\n",
            "          adrspt9.csv\n",
            "          ... and 10 more files\n",
            "        audio/\n",
            "          adrspt20.wav\n",
            "          adrspt15.wav\n",
            "          adrspt4.wav\n",
            "          adrspt28.wav\n",
            "          adrspt16.wav\n",
            "          ... and 27 more files\n",
            "ADReSSo21-progression-train/\n",
            "  ADReSSo21/\n",
            "    progression/\n",
            "      README.md\n",
            "      train/\n",
            "        segmentation/\n",
            "          no_decline/\n",
            "            adrsp195.csv\n",
            "            adrsp041.csv\n",
            "            adrsp030.csv\n",
            "            adrsp052.csv\n",
            "            adrsp349.csv\n",
            "            ... and 32 more files\n",
            "          decline/\n",
            "            adrsp051.csv\n",
            "            adrsp313.csv\n",
            "            adrsp101.csv\n",
            "            adrsp055.csv\n",
            "            adrsp179.csv\n",
            "            ... and 5 more files\n",
            "        audio/\n",
            "          no_decline/\n",
            "            adrsp196.wav\n",
            "            adrsp137.wav\n",
            "            adrsp130.wav\n",
            "            adrsp349.wav\n",
            "            adrsp198.wav\n",
            "            ... and 53 more files\n",
            "          decline/\n",
            "            adrsp055.wav\n",
            "            adrsp003.wav\n",
            "            adrsp266.wav\n",
            "            adrsp300.wav\n",
            "            adrsp320.wav\n",
            "            ... and 10 more files\n",
            "\n",
            "Found 542 audio files\n",
            "\n",
            "Sample audio files:\n",
            "1. /content/drive/MyDrive/Voice/Extracted_dataset/diagnosis_train/ADReSSo21/diagnosis/train/audio/cn/adrso014.wav\n",
            "2. /content/drive/MyDrive/Voice/Extracted_dataset/diagnosis_train/ADReSSo21/diagnosis/train/audio/cn/adrso015.wav\n",
            "3. /content/drive/MyDrive/Voice/Extracted_dataset/diagnosis_train/ADReSSo21/diagnosis/train/audio/cn/adrso003.wav\n",
            "4. /content/drive/MyDrive/Voice/Extracted_dataset/diagnosis_train/ADReSSo21/diagnosis/train/audio/cn/adrso008.wav\n",
            "5. /content/drive/MyDrive/Voice/Extracted_dataset/diagnosis_train/ADReSSo21/diagnosis/train/audio/cn/adrso012.wav\n",
            "\n",
            "Analyzing first audio file: /content/drive/MyDrive/Voice/Extracted_dataset/diagnosis_train/ADReSSo21/diagnosis/train/audio/cn/adrso014.wav\n",
            "Sample rate: 22050 Hz\n",
            "Duration: 10.00 seconds\n",
            "Audio shape: (220500,)\n",
            "\n",
            "Found 473 potential label files:\n",
            "- /content/drive/MyDrive/Voice/task1.csv\n",
            "- /content/drive/MyDrive/Voice/task2.csv\n",
            "- /content/drive/MyDrive/Voice/task3.csv\n",
            "- /content/drive/MyDrive/Voice/unmatched_audio_ids.csv\n",
            "- /content/drive/MyDrive/Voice/unmatched_task1_ids.csv\n",
            "- /content/drive/MyDrive/Voice/missing_audio_ids.csv\n",
            "- /content/drive/MyDrive/Voice/task1_acoustic_features.csv\n",
            "- /content/drive/MyDrive/Voice/segmentation_ids.csv\n",
            "- /content/drive/MyDrive/Voice/skipped_files.csv\n",
            "- /content/drive/MyDrive/Voice/task1_linguistic_features.csv\n",
            "- /content/drive/MyDrive/Voice/Extracted_dataset/diagnosis_train/ADReSSo21/diagnosis/train/adresso-train-mmse-scores.csv\n",
            "- /content/drive/MyDrive/Voice/Extracted_dataset/diagnosis_train/ADReSSo21/diagnosis/train/segmentation/cn/adrso186.csv\n",
            "- /content/drive/MyDrive/Voice/Extracted_dataset/diagnosis_train/ADReSSo21/diagnosis/train/segmentation/cn/adrso278.csv\n",
            "- /content/drive/MyDrive/Voice/Extracted_dataset/diagnosis_train/ADReSSo21/diagnosis/train/segmentation/cn/adrso267.csv\n",
            "- /content/drive/MyDrive/Voice/Extracted_dataset/diagnosis_train/ADReSSo21/diagnosis/train/segmentation/cn/adrso261.csv\n",
            "- /content/drive/MyDrive/Voice/Extracted_dataset/diagnosis_train/ADReSSo21/diagnosis/train/segmentation/cn/adrso280.csv\n",
            "- /content/drive/MyDrive/Voice/Extracted_dataset/diagnosis_train/ADReSSo21/diagnosis/train/segmentation/cn/adrso276.csv\n",
            "- /content/drive/MyDrive/Voice/Extracted_dataset/diagnosis_train/ADReSSo21/diagnosis/train/segmentation/cn/adrso148.csv\n",
            "- /content/drive/MyDrive/Voice/Extracted_dataset/diagnosis_train/ADReSSo21/diagnosis/train/segmentation/cn/adrso265.csv\n",
            "- /content/drive/MyDrive/Voice/Extracted_dataset/diagnosis_train/ADReSSo21/diagnosis/train/segmentation/cn/adrso002.csv\n",
            "- /content/drive/MyDrive/Voice/Extracted_dataset/diagnosis_train/ADReSSo21/diagnosis/train/segmentation/cn/adrso167.csv\n",
            "- /content/drive/MyDrive/Voice/Extracted_dataset/diagnosis_train/ADReSSo21/diagnosis/train/segmentation/cn/adrso270.csv\n",
            "- /content/drive/MyDrive/Voice/Extracted_dataset/diagnosis_train/ADReSSo21/diagnosis/train/segmentation/cn/adrso177.csv\n",
            "- /content/drive/MyDrive/Voice/Extracted_dataset/diagnosis_train/ADReSSo21/diagnosis/train/segmentation/cn/adrso153.csv\n",
            "- /content/drive/MyDrive/Voice/Extracted_dataset/diagnosis_train/ADReSSo21/diagnosis/train/segmentation/cn/adrso173.csv\n",
            "- /content/drive/MyDrive/Voice/Extracted_dataset/diagnosis_train/ADReSSo21/diagnosis/train/segmentation/cn/adrso021.csv\n",
            "- /content/drive/MyDrive/Voice/Extracted_dataset/diagnosis_train/ADReSSo21/diagnosis/train/segmentation/cn/adrso005.csv\n",
            "- /content/drive/MyDrive/Voice/Extracted_dataset/diagnosis_train/ADReSSo21/diagnosis/train/segmentation/cn/adrso266.csv\n",
            "- /content/drive/MyDrive/Voice/Extracted_dataset/diagnosis_train/ADReSSo21/diagnosis/train/segmentation/cn/adrso172.csv\n",
            "- /content/drive/MyDrive/Voice/Extracted_dataset/diagnosis_train/ADReSSo21/diagnosis/train/segmentation/cn/adrso170.csv\n",
            "- /content/drive/MyDrive/Voice/Extracted_dataset/diagnosis_train/ADReSSo21/diagnosis/train/segmentation/cn/adrso156.csv\n",
            "- /content/drive/MyDrive/Voice/Extracted_dataset/diagnosis_train/ADReSSo21/diagnosis/train/segmentation/cn/adrso023.csv\n",
            "- /content/drive/MyDrive/Voice/Extracted_dataset/diagnosis_train/ADReSSo21/diagnosis/train/segmentation/cn/adrso260.csv\n",
            "- /content/drive/MyDrive/Voice/Extracted_dataset/diagnosis_train/ADReSSo21/diagnosis/train/segmentation/cn/adrso158.csv\n",
            "- /content/drive/MyDrive/Voice/Extracted_dataset/diagnosis_train/ADReSSo21/diagnosis/train/segmentation/cn/adrso268.csv\n",
            "- /content/drive/MyDrive/Voice/Extracted_dataset/diagnosis_train/ADReSSo21/diagnosis/train/segmentation/cn/adrso017.csv\n",
            "- /content/drive/MyDrive/Voice/Extracted_dataset/diagnosis_train/ADReSSo21/diagnosis/train/segmentation/cn/adrso154.csv\n",
            "- /content/drive/MyDrive/Voice/Extracted_dataset/diagnosis_train/ADReSSo21/diagnosis/train/segmentation/cn/adrso259.csv\n",
            "- /content/drive/MyDrive/Voice/Extracted_dataset/diagnosis_train/ADReSSo21/diagnosis/train/segmentation/cn/adrso018.csv\n",
            "- /content/drive/MyDrive/Voice/Extracted_dataset/diagnosis_train/ADReSSo21/diagnosis/train/segmentation/cn/adrso257.csv\n",
            "- /content/drive/MyDrive/Voice/Extracted_dataset/diagnosis_train/ADReSSo21/diagnosis/train/segmentation/cn/adrso264.csv\n",
            "- /content/drive/MyDrive/Voice/Extracted_dataset/diagnosis_train/ADReSSo21/diagnosis/train/segmentation/cn/adrso165.csv\n",
            "- /content/drive/MyDrive/Voice/Extracted_dataset/diagnosis_train/ADReSSo21/diagnosis/train/segmentation/cn/adrso015.csv\n",
            "- /content/drive/MyDrive/Voice/Extracted_dataset/diagnosis_train/ADReSSo21/diagnosis/train/segmentation/cn/adrso012.csv\n",
            "- /content/drive/MyDrive/Voice/Extracted_dataset/diagnosis_train/ADReSSo21/diagnosis/train/segmentation/cn/adrso022.csv\n",
            "- /content/drive/MyDrive/Voice/Extracted_dataset/diagnosis_train/ADReSSo21/diagnosis/train/segmentation/cn/adrso151.csv\n",
            "- /content/drive/MyDrive/Voice/Extracted_dataset/diagnosis_train/ADReSSo21/diagnosis/train/segmentation/cn/adrso157.csv\n",
            "- /content/drive/MyDrive/Voice/Extracted_dataset/diagnosis_train/ADReSSo21/diagnosis/train/segmentation/cn/adrso007.csv\n",
            "- /content/drive/MyDrive/Voice/Extracted_dataset/diagnosis_train/ADReSSo21/diagnosis/train/segmentation/cn/adrso263.csv\n",
            "- /content/drive/MyDrive/Voice/Extracted_dataset/diagnosis_train/ADReSSo21/diagnosis/train/segmentation/cn/adrso182.csv\n",
            "- /content/drive/MyDrive/Voice/Extracted_dataset/diagnosis_train/ADReSSo21/diagnosis/train/segmentation/cn/adrso014.csv\n",
            "- /content/drive/MyDrive/Voice/Extracted_dataset/diagnosis_train/ADReSSo21/diagnosis/train/segmentation/cn/adrso273.csv\n",
            "- /content/drive/MyDrive/Voice/Extracted_dataset/diagnosis_train/ADReSSo21/diagnosis/train/segmentation/cn/adrso159.csv\n",
            "- /content/drive/MyDrive/Voice/Extracted_dataset/diagnosis_train/ADReSSo21/diagnosis/train/segmentation/cn/adrso019.csv\n",
            "- /content/drive/MyDrive/Voice/Extracted_dataset/diagnosis_train/ADReSSo21/diagnosis/train/segmentation/cn/adrso168.csv\n",
            "- /content/drive/MyDrive/Voice/Extracted_dataset/diagnosis_train/ADReSSo21/diagnosis/train/segmentation/cn/adrso169.csv\n",
            "- /content/drive/MyDrive/Voice/Extracted_dataset/diagnosis_train/ADReSSo21/diagnosis/train/segmentation/cn/adrso164.csv\n",
            "- /content/drive/MyDrive/Voice/Extracted_dataset/diagnosis_train/ADReSSo21/diagnosis/train/segmentation/cn/adrso008.csv\n",
            "- /content/drive/MyDrive/Voice/Extracted_dataset/diagnosis_train/ADReSSo21/diagnosis/train/segmentation/cn/adrso152.csv\n",
            "- /content/drive/MyDrive/Voice/Extracted_dataset/diagnosis_train/ADReSSo21/diagnosis/train/segmentation/cn/adrso016.csv\n",
            "- /content/drive/MyDrive/Voice/Extracted_dataset/diagnosis_train/ADReSSo21/diagnosis/train/segmentation/cn/adrso183.csv\n",
            "- /content/drive/MyDrive/Voice/Extracted_dataset/diagnosis_train/ADReSSo21/diagnosis/train/segmentation/cn/adrso010.csv\n",
            "- /content/drive/MyDrive/Voice/Extracted_dataset/diagnosis_train/ADReSSo21/diagnosis/train/segmentation/cn/adrso277.csv\n",
            "- /content/drive/MyDrive/Voice/Extracted_dataset/diagnosis_train/ADReSSo21/diagnosis/train/segmentation/cn/adrso162.csv\n",
            "- /content/drive/MyDrive/Voice/Extracted_dataset/diagnosis_train/ADReSSo21/diagnosis/train/segmentation/cn/adrso161.csv\n",
            "- /content/drive/MyDrive/Voice/Extracted_dataset/diagnosis_train/ADReSSo21/diagnosis/train/segmentation/cn/adrso274.csv\n",
            "- /content/drive/MyDrive/Voice/Extracted_dataset/diagnosis_train/ADReSSo21/diagnosis/train/segmentation/cn/adrso262.csv\n",
            "- /content/drive/MyDrive/Voice/Extracted_dataset/diagnosis_train/ADReSSo21/diagnosis/train/segmentation/cn/adrso003.csv\n",
            "- /content/drive/MyDrive/Voice/Extracted_dataset/diagnosis_train/ADReSSo21/diagnosis/train/segmentation/cn/adrso180.csv\n",
            "- /content/drive/MyDrive/Voice/Extracted_dataset/diagnosis_train/ADReSSo21/diagnosis/train/segmentation/cn/adrso178.csv\n",
            "- /content/drive/MyDrive/Voice/Extracted_dataset/diagnosis_train/ADReSSo21/diagnosis/train/segmentation/cn/adrso160.csv\n",
            "- /content/drive/MyDrive/Voice/Extracted_dataset/diagnosis_train/ADReSSo21/diagnosis/train/segmentation/cn/adrso300.csv\n",
            "- /content/drive/MyDrive/Voice/Extracted_dataset/diagnosis_train/ADReSSo21/diagnosis/train/segmentation/cn/adrso291.csv\n",
            "- /content/drive/MyDrive/Voice/Extracted_dataset/diagnosis_train/ADReSSo21/diagnosis/train/segmentation/cn/adrso283.csv\n",
            "- /content/drive/MyDrive/Voice/Extracted_dataset/diagnosis_train/ADReSSo21/diagnosis/train/segmentation/cn/adrso310.csv\n",
            "- /content/drive/MyDrive/Voice/Extracted_dataset/diagnosis_train/ADReSSo21/diagnosis/train/segmentation/cn/adrso309.csv\n",
            "- /content/drive/MyDrive/Voice/Extracted_dataset/diagnosis_train/ADReSSo21/diagnosis/train/segmentation/cn/adrso289.csv\n",
            "- /content/drive/MyDrive/Voice/Extracted_dataset/diagnosis_train/ADReSSo21/diagnosis/train/segmentation/cn/adrso315.csv\n",
            "- /content/drive/MyDrive/Voice/Extracted_dataset/diagnosis_train/ADReSSo21/diagnosis/train/segmentation/cn/adrso299.csv\n",
            "- /content/drive/MyDrive/Voice/Extracted_dataset/diagnosis_train/ADReSSo21/diagnosis/train/segmentation/cn/adrso298.csv\n",
            "- /content/drive/MyDrive/Voice/Extracted_dataset/diagnosis_train/ADReSSo21/diagnosis/train/segmentation/cn/adrso285.csv\n",
            "- /content/drive/MyDrive/Voice/Extracted_dataset/diagnosis_train/ADReSSo21/diagnosis/train/segmentation/cn/adrso307.csv\n",
            "- /content/drive/MyDrive/Voice/Extracted_dataset/diagnosis_train/ADReSSo21/diagnosis/train/segmentation/cn/adrso286.csv\n",
            "- /content/drive/MyDrive/Voice/Extracted_dataset/diagnosis_train/ADReSSo21/diagnosis/train/segmentation/cn/adrso316.csv\n",
            "- /content/drive/MyDrive/Voice/Extracted_dataset/diagnosis_train/ADReSSo21/diagnosis/train/segmentation/cn/adrso281.csv\n",
            "- /content/drive/MyDrive/Voice/Extracted_dataset/diagnosis_train/ADReSSo21/diagnosis/train/segmentation/cn/adrso296.csv\n",
            "- /content/drive/MyDrive/Voice/Extracted_dataset/diagnosis_train/ADReSSo21/diagnosis/train/segmentation/cn/adrso308.csv\n",
            "- /content/drive/MyDrive/Voice/Extracted_dataset/diagnosis_train/ADReSSo21/diagnosis/train/segmentation/cn/adrso302.csv\n",
            "- /content/drive/MyDrive/Voice/Extracted_dataset/diagnosis_train/ADReSSo21/diagnosis/train/segmentation/cn/adrso312.csv\n",
            "- /content/drive/MyDrive/Voice/Extracted_dataset/diagnosis_train/ADReSSo21/diagnosis/train/segmentation/cn/adrso292.csv\n",
            "- /content/drive/MyDrive/Voice/Extracted_dataset/diagnosis_train/ADReSSo21/diagnosis/train/segmentation/ad/adrso031.csv\n",
            "- /content/drive/MyDrive/Voice/Extracted_dataset/diagnosis_train/ADReSSo21/diagnosis/train/segmentation/ad/adrso035.csv\n",
            "- /content/drive/MyDrive/Voice/Extracted_dataset/diagnosis_train/ADReSSo21/diagnosis/train/segmentation/ad/adrso054.csv\n",
            "- /content/drive/MyDrive/Voice/Extracted_dataset/diagnosis_train/ADReSSo21/diagnosis/train/segmentation/ad/adrso028.csv\n",
            "- /content/drive/MyDrive/Voice/Extracted_dataset/diagnosis_train/ADReSSo21/diagnosis/train/segmentation/ad/adrso049.csv\n",
            "- /content/drive/MyDrive/Voice/Extracted_dataset/diagnosis_train/ADReSSo21/diagnosis/train/segmentation/ad/adrso045.csv\n",
            "- /content/drive/MyDrive/Voice/Extracted_dataset/diagnosis_train/ADReSSo21/diagnosis/train/segmentation/ad/adrso036.csv\n",
            "- /content/drive/MyDrive/Voice/Extracted_dataset/diagnosis_train/ADReSSo21/diagnosis/train/segmentation/ad/adrso032.csv\n",
            "- /content/drive/MyDrive/Voice/Extracted_dataset/diagnosis_train/ADReSSo21/diagnosis/train/segmentation/ad/adrso027.csv\n",
            "- /content/drive/MyDrive/Voice/Extracted_dataset/diagnosis_train/ADReSSo21/diagnosis/train/segmentation/ad/adrso047.csv\n",
            "- /content/drive/MyDrive/Voice/Extracted_dataset/diagnosis_train/ADReSSo21/diagnosis/train/segmentation/ad/adrso024.csv\n",
            "- /content/drive/MyDrive/Voice/Extracted_dataset/diagnosis_train/ADReSSo21/diagnosis/train/segmentation/ad/adrso043.csv\n",
            "- /content/drive/MyDrive/Voice/Extracted_dataset/diagnosis_train/ADReSSo21/diagnosis/train/segmentation/ad/adrso053.csv\n",
            "- /content/drive/MyDrive/Voice/Extracted_dataset/diagnosis_train/ADReSSo21/diagnosis/train/segmentation/ad/adrso039.csv\n",
            "- /content/drive/MyDrive/Voice/Extracted_dataset/diagnosis_train/ADReSSo21/diagnosis/train/segmentation/ad/adrso033.csv\n",
            "- /content/drive/MyDrive/Voice/Extracted_dataset/diagnosis_train/ADReSSo21/diagnosis/train/segmentation/ad/adrso025.csv\n",
            "- /content/drive/MyDrive/Voice/Extracted_dataset/diagnosis_train/ADReSSo21/diagnosis/train/segmentation/ad/adrso046.csv\n",
            "- /content/drive/MyDrive/Voice/Extracted_dataset/diagnosis_train/ADReSSo21/diagnosis/train/segmentation/ad/adrso197.csv\n",
            "- /content/drive/MyDrive/Voice/Extracted_dataset/diagnosis_train/ADReSSo21/diagnosis/train/segmentation/ad/adrso234.csv\n",
            "- /content/drive/MyDrive/Voice/Extracted_dataset/diagnosis_train/ADReSSo21/diagnosis/train/segmentation/ad/adrso098.csv\n",
            "- /content/drive/MyDrive/Voice/Extracted_dataset/diagnosis_train/ADReSSo21/diagnosis/train/segmentation/ad/adrso122.csv\n",
            "- /content/drive/MyDrive/Voice/Extracted_dataset/diagnosis_train/ADReSSo21/diagnosis/train/segmentation/ad/adrso134.csv\n",
            "- /content/drive/MyDrive/Voice/Extracted_dataset/diagnosis_train/ADReSSo21/diagnosis/train/segmentation/ad/adrso192.csv\n",
            "- /content/drive/MyDrive/Voice/Extracted_dataset/diagnosis_train/ADReSSo21/diagnosis/train/segmentation/ad/adrso249.csv\n",
            "- /content/drive/MyDrive/Voice/Extracted_dataset/diagnosis_train/ADReSSo21/diagnosis/train/segmentation/ad/adrso200.csv\n",
            "- /content/drive/MyDrive/Voice/Extracted_dataset/diagnosis_train/ADReSSo21/diagnosis/train/segmentation/ad/adrso128.csv\n",
            "- /content/drive/MyDrive/Voice/Extracted_dataset/diagnosis_train/ADReSSo21/diagnosis/train/segmentation/ad/adrso223.csv\n",
            "- /content/drive/MyDrive/Voice/Extracted_dataset/diagnosis_train/ADReSSo21/diagnosis/train/segmentation/ad/adrso222.csv\n",
            "- /content/drive/MyDrive/Voice/Extracted_dataset/diagnosis_train/ADReSSo21/diagnosis/train/segmentation/ad/adrso142.csv\n",
            "- /content/drive/MyDrive/Voice/Extracted_dataset/diagnosis_train/ADReSSo21/diagnosis/train/segmentation/ad/adrso077.csv\n",
            "- /content/drive/MyDrive/Voice/Extracted_dataset/diagnosis_train/ADReSSo21/diagnosis/train/segmentation/ad/adrso072.csv\n",
            "- /content/drive/MyDrive/Voice/Extracted_dataset/diagnosis_train/ADReSSo21/diagnosis/train/segmentation/ad/adrso218.csv\n",
            "- /content/drive/MyDrive/Voice/Extracted_dataset/diagnosis_train/ADReSSo21/diagnosis/train/segmentation/ad/adrso093.csv\n",
            "- /content/drive/MyDrive/Voice/Extracted_dataset/diagnosis_train/ADReSSo21/diagnosis/train/segmentation/ad/adrso237.csv\n",
            "- /content/drive/MyDrive/Voice/Extracted_dataset/diagnosis_train/ADReSSo21/diagnosis/train/segmentation/ad/adrso236.csv\n",
            "- /content/drive/MyDrive/Voice/Extracted_dataset/diagnosis_train/ADReSSo21/diagnosis/train/segmentation/ad/adrso071.csv\n",
            "- /content/drive/MyDrive/Voice/Extracted_dataset/diagnosis_train/ADReSSo21/diagnosis/train/segmentation/ad/adrso246.csv\n",
            "- /content/drive/MyDrive/Voice/Extracted_dataset/diagnosis_train/ADReSSo21/diagnosis/train/segmentation/ad/adrso144.csv\n",
            "- /content/drive/MyDrive/Voice/Extracted_dataset/diagnosis_train/ADReSSo21/diagnosis/train/segmentation/ad/adrso215.csv\n",
            "- /content/drive/MyDrive/Voice/Extracted_dataset/diagnosis_train/ADReSSo21/diagnosis/train/segmentation/ad/adrso247.csv\n",
            "- /content/drive/MyDrive/Voice/Extracted_dataset/diagnosis_train/ADReSSo21/diagnosis/train/segmentation/ad/adrso248.csv\n",
            "- /content/drive/MyDrive/Voice/Extracted_dataset/diagnosis_train/ADReSSo21/diagnosis/train/segmentation/ad/adrso209.csv\n",
            "- /content/drive/MyDrive/Voice/Extracted_dataset/diagnosis_train/ADReSSo21/diagnosis/train/segmentation/ad/adrso232.csv\n",
            "- /content/drive/MyDrive/Voice/Extracted_dataset/diagnosis_train/ADReSSo21/diagnosis/train/segmentation/ad/adrso060.csv\n",
            "- /content/drive/MyDrive/Voice/Extracted_dataset/diagnosis_train/ADReSSo21/diagnosis/train/segmentation/ad/adrso092.csv\n",
            "- /content/drive/MyDrive/Voice/Extracted_dataset/diagnosis_train/ADReSSo21/diagnosis/train/segmentation/ad/adrso089.csv\n",
            "- /content/drive/MyDrive/Voice/Extracted_dataset/diagnosis_train/ADReSSo21/diagnosis/train/segmentation/ad/adrso187.csv\n",
            "- /content/drive/MyDrive/Voice/Extracted_dataset/diagnosis_train/ADReSSo21/diagnosis/train/segmentation/ad/adrso229.csv\n",
            "- /content/drive/MyDrive/Voice/Extracted_dataset/diagnosis_train/ADReSSo21/diagnosis/train/segmentation/ad/adrso206.csv\n",
            "- /content/drive/MyDrive/Voice/Extracted_dataset/diagnosis_train/ADReSSo21/diagnosis/train/segmentation/ad/adrso070.csv\n",
            "- /content/drive/MyDrive/Voice/Extracted_dataset/diagnosis_train/ADReSSo21/diagnosis/train/segmentation/ad/adrso205.csv\n",
            "- /content/drive/MyDrive/Voice/Extracted_dataset/diagnosis_train/ADReSSo21/diagnosis/train/segmentation/ad/adrso220.csv\n",
            "- /content/drive/MyDrive/Voice/Extracted_dataset/diagnosis_train/ADReSSo21/diagnosis/train/segmentation/ad/adrso211.csv\n",
            "- /content/drive/MyDrive/Voice/Extracted_dataset/diagnosis_train/ADReSSo21/diagnosis/train/segmentation/ad/adrso130.csv\n",
            "- /content/drive/MyDrive/Voice/Extracted_dataset/diagnosis_train/ADReSSo21/diagnosis/train/segmentation/ad/adrso106.csv\n",
            "- /content/drive/MyDrive/Voice/Extracted_dataset/diagnosis_train/ADReSSo21/diagnosis/train/segmentation/ad/adrso063.csv\n",
            "- /content/drive/MyDrive/Voice/Extracted_dataset/diagnosis_train/ADReSSo21/diagnosis/train/segmentation/ad/adrso190.csv\n",
            "- /content/drive/MyDrive/Voice/Extracted_dataset/diagnosis_train/ADReSSo21/diagnosis/train/segmentation/ad/adrso228.csv\n",
            "- /content/drive/MyDrive/Voice/Extracted_dataset/diagnosis_train/ADReSSo21/diagnosis/train/segmentation/ad/adrso059.csv\n",
            "- /content/drive/MyDrive/Voice/Extracted_dataset/diagnosis_train/ADReSSo21/diagnosis/train/segmentation/ad/adrso078.csv\n",
            "- /content/drive/MyDrive/Voice/Extracted_dataset/diagnosis_train/ADReSSo21/diagnosis/train/segmentation/ad/adrso188.csv\n",
            "- /content/drive/MyDrive/Voice/Extracted_dataset/diagnosis_train/ADReSSo21/diagnosis/train/segmentation/ad/adrso253.csv\n",
            "- /content/drive/MyDrive/Voice/Extracted_dataset/diagnosis_train/ADReSSo21/diagnosis/train/segmentation/ad/adrso141.csv\n",
            "- /content/drive/MyDrive/Voice/Extracted_dataset/diagnosis_train/ADReSSo21/diagnosis/train/segmentation/ad/adrso125.csv\n",
            "- /content/drive/MyDrive/Voice/Extracted_dataset/diagnosis_train/ADReSSo21/diagnosis/train/segmentation/ad/adrso233.csv\n",
            "- /content/drive/MyDrive/Voice/Extracted_dataset/diagnosis_train/ADReSSo21/diagnosis/train/segmentation/ad/adrso075.csv\n",
            "- /content/drive/MyDrive/Voice/Extracted_dataset/diagnosis_train/ADReSSo21/diagnosis/train/segmentation/ad/adrso189.csv\n",
            "- /content/drive/MyDrive/Voice/Extracted_dataset/diagnosis_train/ADReSSo21/diagnosis/train/segmentation/ad/adrso224.csv\n",
            "- /content/drive/MyDrive/Voice/Extracted_dataset/diagnosis_train/ADReSSo21/diagnosis/train/segmentation/ad/adrso123.csv\n",
            "- /content/drive/MyDrive/Voice/Extracted_dataset/diagnosis_train/ADReSSo21/diagnosis/train/segmentation/ad/adrso068.csv\n",
            "- /content/drive/MyDrive/Voice/Extracted_dataset/diagnosis_train/ADReSSo21/diagnosis/train/segmentation/ad/adrso202.csv\n",
            "- /content/drive/MyDrive/Voice/Extracted_dataset/diagnosis_train/ADReSSo21/diagnosis/train/segmentation/ad/adrso212.csv\n",
            "- /content/drive/MyDrive/Voice/Extracted_dataset/diagnosis_train/ADReSSo21/diagnosis/train/segmentation/ad/adrso138.csv\n",
            "- /content/drive/MyDrive/Voice/Extracted_dataset/diagnosis_train/ADReSSo21/diagnosis/train/segmentation/ad/adrso245.csv\n",
            "- /content/drive/MyDrive/Voice/Extracted_dataset/diagnosis_train/ADReSSo21/diagnosis/train/segmentation/ad/adrso216.csv\n",
            "- /content/drive/MyDrive/Voice/Extracted_dataset/diagnosis_train/ADReSSo21/diagnosis/train/segmentation/ad/adrso198.csv\n",
            "- /content/drive/MyDrive/Voice/Extracted_dataset/diagnosis_train/ADReSSo21/diagnosis/train/segmentation/ad/adrso126.csv\n",
            "- /content/drive/MyDrive/Voice/Extracted_dataset/diagnosis_train/ADReSSo21/diagnosis/train/segmentation/ad/adrso109.csv\n",
            "- /content/drive/MyDrive/Voice/Extracted_dataset/diagnosis_train/ADReSSo21/diagnosis/train/segmentation/ad/adrso116.csv\n",
            "- /content/drive/MyDrive/Voice/Extracted_dataset/diagnosis_train/ADReSSo21/diagnosis/train/segmentation/ad/adrso110.csv\n",
            "- /content/drive/MyDrive/Voice/Extracted_dataset/diagnosis_train/ADReSSo21/diagnosis/train/segmentation/ad/adrso074.csv\n",
            "- /content/drive/MyDrive/Voice/Extracted_dataset/diagnosis_train/ADReSSo21/diagnosis/train/segmentation/ad/adrso055.csv\n",
            "- /content/drive/MyDrive/Voice/Extracted_dataset/diagnosis_train/ADReSSo21/diagnosis/train/segmentation/ad/adrso112.csv\n",
            "- /content/drive/MyDrive/Voice/Extracted_dataset/diagnosis_train/ADReSSo21/diagnosis/train/segmentation/ad/adrso056.csv\n",
            "- /content/drive/MyDrive/Voice/Extracted_dataset/diagnosis_train/ADReSSo21/diagnosis/train/segmentation/ad/adrso090.csv\n",
            "- /content/drive/MyDrive/Voice/Extracted_dataset/diagnosis_train/ADReSSo21/diagnosis/train/segmentation/ad/adrso244.csv\n",
            "- /content/drive/MyDrive/Voice/Extracted_dataset/diagnosis_train/ADReSSo21/diagnosis/train/segmentation/ad/adrso250.csv\n",
            "- /content/drive/MyDrive/Voice/Extracted_dataset/progression_test/ADReSSo21/progression/test-dist/test_results_task3.csv\n",
            "- /content/drive/MyDrive/Voice/Extracted_dataset/progression_test/ADReSSo21/progression/test-dist/segmentation/adrspt24.csv\n",
            "- /content/drive/MyDrive/Voice/Extracted_dataset/progression_test/ADReSSo21/progression/test-dist/segmentation/adrspt12.csv\n",
            "- /content/drive/MyDrive/Voice/Extracted_dataset/progression_test/ADReSSo21/progression/test-dist/segmentation/adrspt26.csv\n",
            "- /content/drive/MyDrive/Voice/Extracted_dataset/progression_test/ADReSSo21/progression/test-dist/segmentation/adrspt11.csv\n",
            "- /content/drive/MyDrive/Voice/Extracted_dataset/progression_test/ADReSSo21/progression/test-dist/segmentation/adrspt21.csv\n",
            "- /content/drive/MyDrive/Voice/Extracted_dataset/progression_test/ADReSSo21/progression/test-dist/segmentation/adrspt17.csv\n",
            "- /content/drive/MyDrive/Voice/Extracted_dataset/progression_test/ADReSSo21/progression/test-dist/segmentation/adrspt29.csv\n",
            "- /content/drive/MyDrive/Voice/Extracted_dataset/progression_test/ADReSSo21/progression/test-dist/segmentation/adrspt13.csv\n",
            "- /content/drive/MyDrive/Voice/Extracted_dataset/progression_test/ADReSSo21/progression/test-dist/segmentation/adrspt1.csv\n",
            "- /content/drive/MyDrive/Voice/Extracted_dataset/progression_test/ADReSSo21/progression/test-dist/segmentation/adrspt23.csv\n",
            "- /content/drive/MyDrive/Voice/Extracted_dataset/progression_test/ADReSSo21/progression/test-dist/segmentation/adrspt18.csv\n",
            "- /content/drive/MyDrive/Voice/Extracted_dataset/progression_test/ADReSSo21/progression/test-dist/segmentation/adrspt10.csv\n",
            "- /content/drive/MyDrive/Voice/Extracted_dataset/progression_test/ADReSSo21/progression/test-dist/segmentation/adrspt15.csv\n",
            "- /content/drive/MyDrive/Voice/Extracted_dataset/progression_test/ADReSSo21/progression/test-dist/segmentation/adrspt2.csv\n",
            "- /content/drive/MyDrive/Voice/Extracted_dataset/progression_test/ADReSSo21/progression/test-dist/segmentation/adrspt9.csv\n",
            "- /content/drive/MyDrive/Voice/Extracted_dataset/progression_train/ADReSSo21/progression/train/segmentation/no_decline/adrsp039.csv\n",
            "- /content/drive/MyDrive/Voice/Extracted_dataset/progression_train/ADReSSo21/progression/train/segmentation/no_decline/adrsp207.csv\n",
            "- /content/drive/MyDrive/Voice/Extracted_dataset/progression_train/ADReSSo21/progression/train/segmentation/no_decline/adrsp030.csv\n",
            "- /content/drive/MyDrive/Voice/Extracted_dataset/progression_train/ADReSSo21/progression/train/segmentation/no_decline/adrsp001.csv\n",
            "- /content/drive/MyDrive/Voice/Extracted_dataset/progression_train/ADReSSo21/progression/train/segmentation/no_decline/adrsp136.csv\n",
            "- /content/drive/MyDrive/Voice/Extracted_dataset/progression_train/ADReSSo21/progression/train/segmentation/no_decline/adrsp193.csv\n",
            "- /content/drive/MyDrive/Voice/Extracted_dataset/progression_train/ADReSSo21/progression/train/segmentation/no_decline/adrsp319.csv\n",
            "- /content/drive/MyDrive/Voice/Extracted_dataset/progression_train/ADReSSo21/progression/train/segmentation/no_decline/adrsp052.csv\n",
            "- /content/drive/MyDrive/Voice/Extracted_dataset/progression_train/ADReSSo21/progression/train/segmentation/no_decline/adrsp056.csv\n",
            "- /content/drive/MyDrive/Voice/Extracted_dataset/progression_train/ADReSSo21/progression/train/segmentation/no_decline/adrsp196.csv\n",
            "- /content/drive/MyDrive/Voice/Extracted_dataset/progression_train/ADReSSo21/progression/train/segmentation/no_decline/adrsp130.csv\n",
            "- /content/drive/MyDrive/Voice/Extracted_dataset/progression_train/ADReSSo21/progression/train/segmentation/no_decline/adrsp321.csv\n",
            "- /content/drive/MyDrive/Voice/Extracted_dataset/progression_train/ADReSSo21/progression/train/segmentation/no_decline/adrsp124.csv\n",
            "- /content/drive/MyDrive/Voice/Extracted_dataset/progression_train/ADReSSo21/progression/train/segmentation/no_decline/adrsp198.csv\n",
            "- /content/drive/MyDrive/Voice/Extracted_dataset/progression_train/ADReSSo21/progression/train/segmentation/no_decline/adrsp157.csv\n",
            "- /content/drive/MyDrive/Voice/Extracted_dataset/progression_train/ADReSSo21/progression/train/segmentation/no_decline/adrsp042.csv\n",
            "- /content/drive/MyDrive/Voice/Extracted_dataset/progression_train/ADReSSo21/progression/train/segmentation/no_decline/adrsp161.csv\n",
            "- /content/drive/MyDrive/Voice/Extracted_dataset/progression_train/ADReSSo21/progression/train/segmentation/no_decline/adrsp177.csv\n",
            "- /content/drive/MyDrive/Voice/Extracted_dataset/progression_train/ADReSSo21/progression/train/segmentation/no_decline/adrsp253.csv\n",
            "- /content/drive/MyDrive/Voice/Extracted_dataset/progression_train/ADReSSo21/progression/train/segmentation/no_decline/adrsp137.csv\n",
            "- /content/drive/MyDrive/Voice/Extracted_dataset/progression_train/ADReSSo21/progression/train/segmentation/no_decline/adrsp028.csv\n",
            "- /content/drive/MyDrive/Voice/Extracted_dataset/progression_train/ADReSSo21/progression/train/segmentation/no_decline/adrsp197.csv\n",
            "- /content/drive/MyDrive/Voice/Extracted_dataset/progression_train/ADReSSo21/progression/train/segmentation/no_decline/adrsp041.csv\n",
            "- /content/drive/MyDrive/Voice/Extracted_dataset/progression_train/ADReSSo21/progression/train/segmentation/no_decline/adrsp195.csv\n",
            "- /content/drive/MyDrive/Voice/Extracted_dataset/progression_train/ADReSSo21/progression/train/segmentation/no_decline/adrsp122.csv\n",
            "- /content/drive/MyDrive/Voice/Extracted_dataset/progression_train/ADReSSo21/progression/train/segmentation/no_decline/adrsp007.csv\n",
            "- /content/drive/MyDrive/Voice/Extracted_dataset/progression_train/ADReSSo21/progression/train/segmentation/no_decline/adrsp031.csv\n",
            "- /content/drive/MyDrive/Voice/Extracted_dataset/progression_train/ADReSSo21/progression/train/segmentation/no_decline/adrsp043.csv\n",
            "- /content/drive/MyDrive/Voice/Extracted_dataset/progression_train/ADReSSo21/progression/train/segmentation/no_decline/adrsp192.csv\n",
            "- /content/drive/MyDrive/Voice/Extracted_dataset/progression_train/ADReSSo21/progression/train/segmentation/no_decline/adrsp350.csv\n",
            "- /content/drive/MyDrive/Voice/Extracted_dataset/progression_train/ADReSSo21/progression/train/segmentation/no_decline/adrsp200.csv\n",
            "- /content/drive/MyDrive/Voice/Extracted_dataset/progression_train/ADReSSo21/progression/train/segmentation/no_decline/adrsp306.csv\n",
            "- /content/drive/MyDrive/Voice/Extracted_dataset/progression_train/ADReSSo21/progression/train/segmentation/no_decline/adrsp310.csv\n",
            "- /content/drive/MyDrive/Voice/Extracted_dataset/progression_train/ADReSSo21/progression/train/segmentation/no_decline/adrsp251.csv\n",
            "- /content/drive/MyDrive/Voice/Extracted_dataset/progression_train/ADReSSo21/progression/train/segmentation/no_decline/adrsp024.csv\n",
            "- /content/drive/MyDrive/Voice/Extracted_dataset/progression_train/ADReSSo21/progression/train/segmentation/no_decline/adrsp148.csv\n",
            "- /content/drive/MyDrive/Voice/Extracted_dataset/progression_train/ADReSSo21/progression/train/segmentation/no_decline/adrsp349.csv\n",
            "- /content/drive/MyDrive/Voice/Extracted_dataset/progression_train/ADReSSo21/progression/train/segmentation/decline/adrsp101.csv\n",
            "- /content/drive/MyDrive/Voice/Extracted_dataset/progression_train/ADReSSo21/progression/train/segmentation/decline/adrsp051.csv\n",
            "- /content/drive/MyDrive/Voice/Extracted_dataset/progression_train/ADReSSo21/progression/train/segmentation/decline/adrsp266.csv\n",
            "- /content/drive/MyDrive/Voice/Extracted_dataset/progression_train/ADReSSo21/progression/train/segmentation/decline/adrsp127.csv\n",
            "- /content/drive/MyDrive/Voice/Extracted_dataset/progression_train/ADReSSo21/progression/train/segmentation/decline/adrsp313.csv\n",
            "- /content/drive/MyDrive/Voice/Extracted_dataset/progression_train/ADReSSo21/progression/train/segmentation/decline/adrsp300.csv\n",
            "- /content/drive/MyDrive/Voice/Extracted_dataset/progression_train/ADReSSo21/progression/train/segmentation/decline/adrsp003.csv\n",
            "- /content/drive/MyDrive/Voice/Extracted_dataset/progression_train/ADReSSo21/progression/train/segmentation/decline/adrsp055.csv\n",
            "- /content/drive/MyDrive/Voice/Extracted_dataset/progression_train/ADReSSo21/progression/train/segmentation/decline/adrsp209.csv\n",
            "- /content/drive/MyDrive/Voice/Extracted_dataset/progression_train/ADReSSo21/progression/train/segmentation/decline/adrsp179.csv\n",
            "- /content/drive/MyDrive/Voice/Persian_Translated_Dataset/translation_template.json\n",
            "- /content/drive/MyDrive/Voice/Persian_Translated_Dataset/translation_template.csv\n",
            "- /content/drive/MyDrive/Voice/Persian_Translated_Dataset/translation_guidelines.txt\n",
            "- /content/drive/MyDrive/Voice/ADReSSo21-diagnosis-train/ADReSSo21/diagnosis/train/adresso-train-mmse-scores.csv\n",
            "- /content/drive/MyDrive/Voice/ADReSSo21-diagnosis-train/ADReSSo21/diagnosis/train/segmentation/cn/adrso281.csv\n",
            "- /content/drive/MyDrive/Voice/ADReSSo21-diagnosis-train/ADReSSo21/diagnosis/train/segmentation/cn/adrso308.csv\n",
            "- /content/drive/MyDrive/Voice/ADReSSo21-diagnosis-train/ADReSSo21/diagnosis/train/segmentation/cn/adrso270.csv\n",
            "- /content/drive/MyDrive/Voice/ADReSSo21-diagnosis-train/ADReSSo21/diagnosis/train/segmentation/cn/adrso022.csv\n",
            "- /content/drive/MyDrive/Voice/ADReSSo21-diagnosis-train/ADReSSo21/diagnosis/train/segmentation/cn/adrso298.csv\n",
            "- /content/drive/MyDrive/Voice/ADReSSo21-diagnosis-train/ADReSSo21/diagnosis/train/segmentation/cn/adrso300.csv\n",
            "- /content/drive/MyDrive/Voice/ADReSSo21-diagnosis-train/ADReSSo21/diagnosis/train/segmentation/cn/adrso265.csv\n",
            "- /content/drive/MyDrive/Voice/ADReSSo21-diagnosis-train/ADReSSo21/diagnosis/train/segmentation/cn/adrso186.csv\n",
            "- /content/drive/MyDrive/Voice/ADReSSo21-diagnosis-train/ADReSSo21/diagnosis/train/segmentation/cn/adrso148.csv\n",
            "- /content/drive/MyDrive/Voice/ADReSSo21-diagnosis-train/ADReSSo21/diagnosis/train/segmentation/cn/adrso152.csv\n",
            "- /content/drive/MyDrive/Voice/ADReSSo21-diagnosis-train/ADReSSo21/diagnosis/train/segmentation/cn/adrso182.csv\n",
            "- /content/drive/MyDrive/Voice/ADReSSo21-diagnosis-train/ADReSSo21/diagnosis/train/segmentation/cn/adrso268.csv\n",
            "- /content/drive/MyDrive/Voice/ADReSSo21-diagnosis-train/ADReSSo21/diagnosis/train/segmentation/cn/adrso259.csv\n",
            "- /content/drive/MyDrive/Voice/ADReSSo21-diagnosis-train/ADReSSo21/diagnosis/train/segmentation/cn/adrso276.csv\n",
            "- /content/drive/MyDrive/Voice/ADReSSo21-diagnosis-train/ADReSSo21/diagnosis/train/segmentation/cn/adrso261.csv\n",
            "- /content/drive/MyDrive/Voice/ADReSSo21-diagnosis-train/ADReSSo21/diagnosis/train/segmentation/cn/adrso262.csv\n",
            "- /content/drive/MyDrive/Voice/ADReSSo21-diagnosis-train/ADReSSo21/diagnosis/train/segmentation/cn/adrso018.csv\n",
            "- /content/drive/MyDrive/Voice/ADReSSo21-diagnosis-train/ADReSSo21/diagnosis/train/segmentation/cn/adrso170.csv\n",
            "- /content/drive/MyDrive/Voice/ADReSSo21-diagnosis-train/ADReSSo21/diagnosis/train/segmentation/cn/adrso263.csv\n",
            "- /content/drive/MyDrive/Voice/ADReSSo21-diagnosis-train/ADReSSo21/diagnosis/train/segmentation/cn/adrso172.csv\n",
            "- /content/drive/MyDrive/Voice/ADReSSo21-diagnosis-train/ADReSSo21/diagnosis/train/segmentation/cn/adrso277.csv\n",
            "- /content/drive/MyDrive/Voice/ADReSSo21-diagnosis-train/ADReSSo21/diagnosis/train/segmentation/cn/adrso280.csv\n",
            "- /content/drive/MyDrive/Voice/ADReSSo21-diagnosis-train/ADReSSo21/diagnosis/train/segmentation/cn/adrso168.csv\n",
            "- /content/drive/MyDrive/Voice/ADReSSo21-diagnosis-train/ADReSSo21/diagnosis/train/segmentation/cn/adrso267.csv\n",
            "- /content/drive/MyDrive/Voice/ADReSSo21-diagnosis-train/ADReSSo21/diagnosis/train/segmentation/cn/adrso007.csv\n",
            "- /content/drive/MyDrive/Voice/ADReSSo21-diagnosis-train/ADReSSo21/diagnosis/train/segmentation/cn/adrso158.csv\n",
            "- /content/drive/MyDrive/Voice/ADReSSo21-diagnosis-train/ADReSSo21/diagnosis/train/segmentation/cn/adrso309.csv\n",
            "- /content/drive/MyDrive/Voice/ADReSSo21-diagnosis-train/ADReSSo21/diagnosis/train/segmentation/cn/adrso292.csv\n",
            "- /content/drive/MyDrive/Voice/ADReSSo21-diagnosis-train/ADReSSo21/diagnosis/train/segmentation/cn/adrso021.csv\n",
            "- /content/drive/MyDrive/Voice/ADReSSo21-diagnosis-train/ADReSSo21/diagnosis/train/segmentation/cn/adrso157.csv\n",
            "- /content/drive/MyDrive/Voice/ADReSSo21-diagnosis-train/ADReSSo21/diagnosis/train/segmentation/cn/adrso286.csv\n",
            "- /content/drive/MyDrive/Voice/ADReSSo21-diagnosis-train/ADReSSo21/diagnosis/train/segmentation/cn/adrso291.csv\n",
            "- /content/drive/MyDrive/Voice/ADReSSo21-diagnosis-train/ADReSSo21/diagnosis/train/segmentation/cn/adrso260.csv\n",
            "- /content/drive/MyDrive/Voice/ADReSSo21-diagnosis-train/ADReSSo21/diagnosis/train/segmentation/cn/adrso156.csv\n",
            "- /content/drive/MyDrive/Voice/ADReSSo21-diagnosis-train/ADReSSo21/diagnosis/train/segmentation/cn/adrso315.csv\n",
            "- /content/drive/MyDrive/Voice/ADReSSo21-diagnosis-train/ADReSSo21/diagnosis/train/segmentation/cn/adrso167.csv\n",
            "- /content/drive/MyDrive/Voice/ADReSSo21-diagnosis-train/ADReSSo21/diagnosis/train/segmentation/cn/adrso302.csv\n",
            "- /content/drive/MyDrive/Voice/ADReSSo21-diagnosis-train/ADReSSo21/diagnosis/train/segmentation/cn/adrso178.csv\n",
            "- /content/drive/MyDrive/Voice/ADReSSo21-diagnosis-train/ADReSSo21/diagnosis/train/segmentation/cn/adrso289.csv\n",
            "- /content/drive/MyDrive/Voice/ADReSSo21-diagnosis-train/ADReSSo21/diagnosis/train/segmentation/cn/adrso161.csv\n",
            "- /content/drive/MyDrive/Voice/ADReSSo21-diagnosis-train/ADReSSo21/diagnosis/train/segmentation/cn/adrso162.csv\n",
            "- /content/drive/MyDrive/Voice/ADReSSo21-diagnosis-train/ADReSSo21/diagnosis/train/segmentation/cn/adrso173.csv\n",
            "- /content/drive/MyDrive/Voice/ADReSSo21-diagnosis-train/ADReSSo21/diagnosis/train/segmentation/cn/adrso154.csv\n",
            "- /content/drive/MyDrive/Voice/ADReSSo21-diagnosis-train/ADReSSo21/diagnosis/train/segmentation/cn/adrso003.csv\n",
            "- /content/drive/MyDrive/Voice/ADReSSo21-diagnosis-train/ADReSSo21/diagnosis/train/segmentation/cn/adrso019.csv\n",
            "- /content/drive/MyDrive/Voice/ADReSSo21-diagnosis-train/ADReSSo21/diagnosis/train/segmentation/cn/adrso023.csv\n",
            "- /content/drive/MyDrive/Voice/ADReSSo21-diagnosis-train/ADReSSo21/diagnosis/train/segmentation/cn/adrso017.csv\n",
            "- /content/drive/MyDrive/Voice/ADReSSo21-diagnosis-train/ADReSSo21/diagnosis/train/segmentation/cn/adrso274.csv\n",
            "- /content/drive/MyDrive/Voice/ADReSSo21-diagnosis-train/ADReSSo21/diagnosis/train/segmentation/cn/adrso299.csv\n",
            "- /content/drive/MyDrive/Voice/ADReSSo21-diagnosis-train/ADReSSo21/diagnosis/train/segmentation/cn/adrso264.csv\n",
            "- /content/drive/MyDrive/Voice/ADReSSo21-diagnosis-train/ADReSSo21/diagnosis/train/segmentation/cn/adrso180.csv\n",
            "- /content/drive/MyDrive/Voice/ADReSSo21-diagnosis-train/ADReSSo21/diagnosis/train/segmentation/cn/adrso014.csv\n",
            "- /content/drive/MyDrive/Voice/ADReSSo21-diagnosis-train/ADReSSo21/diagnosis/train/segmentation/cn/adrso183.csv\n",
            "- /content/drive/MyDrive/Voice/ADReSSo21-diagnosis-train/ADReSSo21/diagnosis/train/segmentation/cn/adrso266.csv\n",
            "- /content/drive/MyDrive/Voice/ADReSSo21-diagnosis-train/ADReSSo21/diagnosis/train/segmentation/cn/adrso159.csv\n",
            "- /content/drive/MyDrive/Voice/ADReSSo21-diagnosis-train/ADReSSo21/diagnosis/train/segmentation/cn/adrso153.csv\n",
            "- /content/drive/MyDrive/Voice/ADReSSo21-diagnosis-train/ADReSSo21/diagnosis/train/segmentation/cn/adrso283.csv\n",
            "- /content/drive/MyDrive/Voice/ADReSSo21-diagnosis-train/ADReSSo21/diagnosis/train/segmentation/cn/adrso316.csv\n",
            "- /content/drive/MyDrive/Voice/ADReSSo21-diagnosis-train/ADReSSo21/diagnosis/train/segmentation/cn/adrso312.csv\n",
            "- /content/drive/MyDrive/Voice/ADReSSo21-diagnosis-train/ADReSSo21/diagnosis/train/segmentation/cn/adrso310.csv\n",
            "- /content/drive/MyDrive/Voice/ADReSSo21-diagnosis-train/ADReSSo21/diagnosis/train/segmentation/cn/adrso164.csv\n",
            "- /content/drive/MyDrive/Voice/ADReSSo21-diagnosis-train/ADReSSo21/diagnosis/train/segmentation/cn/adrso016.csv\n",
            "- /content/drive/MyDrive/Voice/ADReSSo21-diagnosis-train/ADReSSo21/diagnosis/train/segmentation/cn/adrso002.csv\n",
            "- /content/drive/MyDrive/Voice/ADReSSo21-diagnosis-train/ADReSSo21/diagnosis/train/segmentation/cn/adrso008.csv\n",
            "- /content/drive/MyDrive/Voice/ADReSSo21-diagnosis-train/ADReSSo21/diagnosis/train/segmentation/cn/adrso285.csv\n",
            "- /content/drive/MyDrive/Voice/ADReSSo21-diagnosis-train/ADReSSo21/diagnosis/train/segmentation/cn/adrso307.csv\n",
            "- /content/drive/MyDrive/Voice/ADReSSo21-diagnosis-train/ADReSSo21/diagnosis/train/segmentation/cn/adrso177.csv\n",
            "- /content/drive/MyDrive/Voice/ADReSSo21-diagnosis-train/ADReSSo21/diagnosis/train/segmentation/cn/adrso160.csv\n",
            "- /content/drive/MyDrive/Voice/ADReSSo21-diagnosis-train/ADReSSo21/diagnosis/train/segmentation/cn/adrso015.csv\n",
            "- /content/drive/MyDrive/Voice/ADReSSo21-diagnosis-train/ADReSSo21/diagnosis/train/segmentation/cn/adrso278.csv\n",
            "- /content/drive/MyDrive/Voice/ADReSSo21-diagnosis-train/ADReSSo21/diagnosis/train/segmentation/cn/adrso273.csv\n",
            "- /content/drive/MyDrive/Voice/ADReSSo21-diagnosis-train/ADReSSo21/diagnosis/train/segmentation/cn/adrso257.csv\n",
            "- /content/drive/MyDrive/Voice/ADReSSo21-diagnosis-train/ADReSSo21/diagnosis/train/segmentation/cn/adrso012.csv\n",
            "- /content/drive/MyDrive/Voice/ADReSSo21-diagnosis-train/ADReSSo21/diagnosis/train/segmentation/cn/adrso169.csv\n",
            "- /content/drive/MyDrive/Voice/ADReSSo21-diagnosis-train/ADReSSo21/diagnosis/train/segmentation/cn/adrso010.csv\n",
            "- /content/drive/MyDrive/Voice/ADReSSo21-diagnosis-train/ADReSSo21/diagnosis/train/segmentation/cn/adrso165.csv\n",
            "- /content/drive/MyDrive/Voice/ADReSSo21-diagnosis-train/ADReSSo21/diagnosis/train/segmentation/cn/adrso296.csv\n",
            "- /content/drive/MyDrive/Voice/ADReSSo21-diagnosis-train/ADReSSo21/diagnosis/train/segmentation/cn/adrso005.csv\n",
            "- /content/drive/MyDrive/Voice/ADReSSo21-diagnosis-train/ADReSSo21/diagnosis/train/segmentation/cn/adrso151.csv\n",
            "- /content/drive/MyDrive/Voice/ADReSSo21-diagnosis-train/ADReSSo21/diagnosis/train/segmentation/ad/adrso229.csv\n",
            "- /content/drive/MyDrive/Voice/ADReSSo21-diagnosis-train/ADReSSo21/diagnosis/train/segmentation/ad/adrso106.csv\n",
            "- /content/drive/MyDrive/Voice/ADReSSo21-diagnosis-train/ADReSSo21/diagnosis/train/segmentation/ad/adrso144.csv\n",
            "- /content/drive/MyDrive/Voice/ADReSSo21-diagnosis-train/ADReSSo21/diagnosis/train/segmentation/ad/adrso049.csv\n",
            "- /content/drive/MyDrive/Voice/ADReSSo21-diagnosis-train/ADReSSo21/diagnosis/train/segmentation/ad/adrso078.csv\n",
            "- /content/drive/MyDrive/Voice/ADReSSo21-diagnosis-train/ADReSSo21/diagnosis/train/segmentation/ad/adrso209.csv\n",
            "- /content/drive/MyDrive/Voice/ADReSSo21-diagnosis-train/ADReSSo21/diagnosis/train/segmentation/ad/adrso247.csv\n",
            "- /content/drive/MyDrive/Voice/ADReSSo21-diagnosis-train/ADReSSo21/diagnosis/train/segmentation/ad/adrso092.csv\n",
            "- /content/drive/MyDrive/Voice/ADReSSo21-diagnosis-train/ADReSSo21/diagnosis/train/segmentation/ad/adrso077.csv\n",
            "- /content/drive/MyDrive/Voice/ADReSSo21-diagnosis-train/ADReSSo21/diagnosis/train/segmentation/ad/adrso198.csv\n",
            "- /content/drive/MyDrive/Voice/ADReSSo21-diagnosis-train/ADReSSo21/diagnosis/train/segmentation/ad/adrso031.csv\n",
            "- /content/drive/MyDrive/Voice/ADReSSo21-diagnosis-train/ADReSSo21/diagnosis/train/segmentation/ad/adrso090.csv\n",
            "- /content/drive/MyDrive/Voice/ADReSSo21-diagnosis-train/ADReSSo21/diagnosis/train/segmentation/ad/adrso116.csv\n",
            "- /content/drive/MyDrive/Voice/ADReSSo21-diagnosis-train/ADReSSo21/diagnosis/train/segmentation/ad/adrso036.csv\n",
            "- /content/drive/MyDrive/Voice/ADReSSo21-diagnosis-train/ADReSSo21/diagnosis/train/segmentation/ad/adrso206.csv\n",
            "- /content/drive/MyDrive/Voice/ADReSSo21-diagnosis-train/ADReSSo21/diagnosis/train/segmentation/ad/adrso128.csv\n",
            "- /content/drive/MyDrive/Voice/ADReSSo21-diagnosis-train/ADReSSo21/diagnosis/train/segmentation/ad/adrso110.csv\n",
            "- /content/drive/MyDrive/Voice/ADReSSo21-diagnosis-train/ADReSSo21/diagnosis/train/segmentation/ad/adrso032.csv\n",
            "- /content/drive/MyDrive/Voice/ADReSSo21-diagnosis-train/ADReSSo21/diagnosis/train/segmentation/ad/adrso224.csv\n",
            "- /content/drive/MyDrive/Voice/ADReSSo21-diagnosis-train/ADReSSo21/diagnosis/train/segmentation/ad/adrso142.csv\n",
            "- /content/drive/MyDrive/Voice/ADReSSo21-diagnosis-train/ADReSSo21/diagnosis/train/segmentation/ad/adrso126.csv\n",
            "- /content/drive/MyDrive/Voice/ADReSSo21-diagnosis-train/ADReSSo21/diagnosis/train/segmentation/ad/adrso054.csv\n",
            "- /content/drive/MyDrive/Voice/ADReSSo21-diagnosis-train/ADReSSo21/diagnosis/train/segmentation/ad/adrso187.csv\n",
            "- /content/drive/MyDrive/Voice/ADReSSo21-diagnosis-train/ADReSSo21/diagnosis/train/segmentation/ad/adrso028.csv\n",
            "- /content/drive/MyDrive/Voice/ADReSSo21-diagnosis-train/ADReSSo21/diagnosis/train/segmentation/ad/adrso222.csv\n",
            "- /content/drive/MyDrive/Voice/ADReSSo21-diagnosis-train/ADReSSo21/diagnosis/train/segmentation/ad/adrso212.csv\n",
            "- /content/drive/MyDrive/Voice/ADReSSo21-diagnosis-train/ADReSSo21/diagnosis/train/segmentation/ad/adrso053.csv\n",
            "- /content/drive/MyDrive/Voice/ADReSSo21-diagnosis-train/ADReSSo21/diagnosis/train/segmentation/ad/adrso189.csv\n",
            "- /content/drive/MyDrive/Voice/ADReSSo21-diagnosis-train/ADReSSo21/diagnosis/train/segmentation/ad/adrso244.csv\n",
            "- /content/drive/MyDrive/Voice/ADReSSo21-diagnosis-train/ADReSSo21/diagnosis/train/segmentation/ad/adrso200.csv\n",
            "- /content/drive/MyDrive/Voice/ADReSSo21-diagnosis-train/ADReSSo21/diagnosis/train/segmentation/ad/adrso098.csv\n",
            "- /content/drive/MyDrive/Voice/ADReSSo21-diagnosis-train/ADReSSo21/diagnosis/train/segmentation/ad/adrso192.csv\n",
            "- /content/drive/MyDrive/Voice/ADReSSo21-diagnosis-train/ADReSSo21/diagnosis/train/segmentation/ad/adrso033.csv\n",
            "- /content/drive/MyDrive/Voice/ADReSSo21-diagnosis-train/ADReSSo21/diagnosis/train/segmentation/ad/adrso218.csv\n",
            "- /content/drive/MyDrive/Voice/ADReSSo21-diagnosis-train/ADReSSo21/diagnosis/train/segmentation/ad/adrso027.csv\n",
            "- /content/drive/MyDrive/Voice/ADReSSo21-diagnosis-train/ADReSSo21/diagnosis/train/segmentation/ad/adrso246.csv\n",
            "- /content/drive/MyDrive/Voice/ADReSSo21-diagnosis-train/ADReSSo21/diagnosis/train/segmentation/ad/adrso130.csv\n",
            "- /content/drive/MyDrive/Voice/ADReSSo21-diagnosis-train/ADReSSo21/diagnosis/train/segmentation/ad/adrso056.csv\n",
            "- /content/drive/MyDrive/Voice/ADReSSo21-diagnosis-train/ADReSSo21/diagnosis/train/segmentation/ad/adrso190.csv\n",
            "- /content/drive/MyDrive/Voice/ADReSSo21-diagnosis-train/ADReSSo21/diagnosis/train/segmentation/ad/adrso245.csv\n",
            "- /content/drive/MyDrive/Voice/ADReSSo21-diagnosis-train/ADReSSo21/diagnosis/train/segmentation/ad/adrso070.csv\n",
            "- /content/drive/MyDrive/Voice/ADReSSo21-diagnosis-train/ADReSSo21/diagnosis/train/segmentation/ad/adrso215.csv\n",
            "- /content/drive/MyDrive/Voice/ADReSSo21-diagnosis-train/ADReSSo21/diagnosis/train/segmentation/ad/adrso220.csv\n",
            "- /content/drive/MyDrive/Voice/ADReSSo21-diagnosis-train/ADReSSo21/diagnosis/train/segmentation/ad/adrso232.csv\n",
            "- /content/drive/MyDrive/Voice/ADReSSo21-diagnosis-train/ADReSSo21/diagnosis/train/segmentation/ad/adrso075.csv\n",
            "- /content/drive/MyDrive/Voice/ADReSSo21-diagnosis-train/ADReSSo21/diagnosis/train/segmentation/ad/adrso035.csv\n",
            "- /content/drive/MyDrive/Voice/ADReSSo21-diagnosis-train/ADReSSo21/diagnosis/train/segmentation/ad/adrso055.csv\n",
            "- /content/drive/MyDrive/Voice/ADReSSo21-diagnosis-train/ADReSSo21/diagnosis/train/segmentation/ad/adrso188.csv\n",
            "- /content/drive/MyDrive/Voice/ADReSSo21-diagnosis-train/ADReSSo21/diagnosis/train/segmentation/ad/adrso109.csv\n",
            "- /content/drive/MyDrive/Voice/ADReSSo21-diagnosis-train/ADReSSo21/diagnosis/train/segmentation/ad/adrso047.csv\n",
            "- /content/drive/MyDrive/Voice/ADReSSo21-diagnosis-train/ADReSSo21/diagnosis/train/segmentation/ad/adrso063.csv\n",
            "- /content/drive/MyDrive/Voice/ADReSSo21-diagnosis-train/ADReSSo21/diagnosis/train/segmentation/ad/adrso089.csv\n",
            "- /content/drive/MyDrive/Voice/ADReSSo21-diagnosis-train/ADReSSo21/diagnosis/train/segmentation/ad/adrso248.csv\n",
            "- /content/drive/MyDrive/Voice/ADReSSo21-diagnosis-train/ADReSSo21/diagnosis/train/segmentation/ad/adrso138.csv\n",
            "- /content/drive/MyDrive/Voice/ADReSSo21-diagnosis-train/ADReSSo21/diagnosis/train/segmentation/ad/adrso072.csv\n",
            "- /content/drive/MyDrive/Voice/ADReSSo21-diagnosis-train/ADReSSo21/diagnosis/train/segmentation/ad/adrso228.csv\n",
            "- /content/drive/MyDrive/Voice/ADReSSo21-diagnosis-train/ADReSSo21/diagnosis/train/segmentation/ad/adrso093.csv\n",
            "- /content/drive/MyDrive/Voice/ADReSSo21-diagnosis-train/ADReSSo21/diagnosis/train/segmentation/ad/adrso134.csv\n",
            "- /content/drive/MyDrive/Voice/ADReSSo21-diagnosis-train/ADReSSo21/diagnosis/train/segmentation/ad/adrso216.csv\n",
            "- /content/drive/MyDrive/Voice/ADReSSo21-diagnosis-train/ADReSSo21/diagnosis/train/segmentation/ad/adrso046.csv\n",
            "- /content/drive/MyDrive/Voice/ADReSSo21-diagnosis-train/ADReSSo21/diagnosis/train/segmentation/ad/adrso249.csv\n",
            "- /content/drive/MyDrive/Voice/ADReSSo21-diagnosis-train/ADReSSo21/diagnosis/train/segmentation/ad/adrso068.csv\n",
            "- /content/drive/MyDrive/Voice/ADReSSo21-diagnosis-train/ADReSSo21/diagnosis/train/segmentation/ad/adrso237.csv\n",
            "- /content/drive/MyDrive/Voice/ADReSSo21-diagnosis-train/ADReSSo21/diagnosis/train/segmentation/ad/adrso060.csv\n",
            "- /content/drive/MyDrive/Voice/ADReSSo21-diagnosis-train/ADReSSo21/diagnosis/train/segmentation/ad/adrso202.csv\n",
            "- /content/drive/MyDrive/Voice/ADReSSo21-diagnosis-train/ADReSSo21/diagnosis/train/segmentation/ad/adrso223.csv\n",
            "- /content/drive/MyDrive/Voice/ADReSSo21-diagnosis-train/ADReSSo21/diagnosis/train/segmentation/ad/adrso233.csv\n",
            "- /content/drive/MyDrive/Voice/ADReSSo21-diagnosis-train/ADReSSo21/diagnosis/train/segmentation/ad/adrso059.csv\n",
            "- /content/drive/MyDrive/Voice/ADReSSo21-diagnosis-train/ADReSSo21/diagnosis/train/segmentation/ad/adrso234.csv\n",
            "- /content/drive/MyDrive/Voice/ADReSSo21-diagnosis-train/ADReSSo21/diagnosis/train/segmentation/ad/adrso123.csv\n",
            "- /content/drive/MyDrive/Voice/ADReSSo21-diagnosis-train/ADReSSo21/diagnosis/train/segmentation/ad/adrso025.csv\n",
            "- /content/drive/MyDrive/Voice/ADReSSo21-diagnosis-train/ADReSSo21/diagnosis/train/segmentation/ad/adrso253.csv\n",
            "- /content/drive/MyDrive/Voice/ADReSSo21-diagnosis-train/ADReSSo21/diagnosis/train/segmentation/ad/adrso045.csv\n",
            "- /content/drive/MyDrive/Voice/ADReSSo21-diagnosis-train/ADReSSo21/diagnosis/train/segmentation/ad/adrso043.csv\n",
            "- /content/drive/MyDrive/Voice/ADReSSo21-diagnosis-train/ADReSSo21/diagnosis/train/segmentation/ad/adrso250.csv\n",
            "- /content/drive/MyDrive/Voice/ADReSSo21-diagnosis-train/ADReSSo21/diagnosis/train/segmentation/ad/adrso071.csv\n",
            "- /content/drive/MyDrive/Voice/ADReSSo21-diagnosis-train/ADReSSo21/diagnosis/train/segmentation/ad/adrso074.csv\n",
            "- /content/drive/MyDrive/Voice/ADReSSo21-diagnosis-train/ADReSSo21/diagnosis/train/segmentation/ad/adrso122.csv\n",
            "- /content/drive/MyDrive/Voice/ADReSSo21-diagnosis-train/ADReSSo21/diagnosis/train/segmentation/ad/adrso197.csv\n",
            "- /content/drive/MyDrive/Voice/ADReSSo21-diagnosis-train/ADReSSo21/diagnosis/train/segmentation/ad/adrso141.csv\n",
            "- /content/drive/MyDrive/Voice/ADReSSo21-diagnosis-train/ADReSSo21/diagnosis/train/segmentation/ad/adrso236.csv\n",
            "- /content/drive/MyDrive/Voice/ADReSSo21-diagnosis-train/ADReSSo21/diagnosis/train/segmentation/ad/adrso125.csv\n",
            "- /content/drive/MyDrive/Voice/ADReSSo21-diagnosis-train/ADReSSo21/diagnosis/train/segmentation/ad/adrso211.csv\n",
            "- /content/drive/MyDrive/Voice/ADReSSo21-diagnosis-train/ADReSSo21/diagnosis/train/segmentation/ad/adrso024.csv\n",
            "- /content/drive/MyDrive/Voice/ADReSSo21-diagnosis-train/ADReSSo21/diagnosis/train/segmentation/ad/adrso112.csv\n",
            "- /content/drive/MyDrive/Voice/ADReSSo21-diagnosis-train/ADReSSo21/diagnosis/train/segmentation/ad/adrso205.csv\n",
            "- /content/drive/MyDrive/Voice/ADReSSo21-diagnosis-train/ADReSSo21/diagnosis/train/segmentation/ad/adrso039.csv\n",
            "- /content/drive/MyDrive/Voice/ADReSSo21-progression-test/ADReSSo21/progression/test-dist/test_results_task3.csv\n",
            "- /content/drive/MyDrive/Voice/ADReSSo21-progression-test/ADReSSo21/progression/test-dist/segmentation/adrspt24.csv\n",
            "- /content/drive/MyDrive/Voice/ADReSSo21-progression-test/ADReSSo21/progression/test-dist/segmentation/adrspt15.csv\n",
            "- /content/drive/MyDrive/Voice/ADReSSo21-progression-test/ADReSSo21/progression/test-dist/segmentation/adrspt12.csv\n",
            "- /content/drive/MyDrive/Voice/ADReSSo21-progression-test/ADReSSo21/progression/test-dist/segmentation/adrspt2.csv\n",
            "- /content/drive/MyDrive/Voice/ADReSSo21-progression-test/ADReSSo21/progression/test-dist/segmentation/adrspt9.csv\n",
            "- /content/drive/MyDrive/Voice/ADReSSo21-progression-test/ADReSSo21/progression/test-dist/segmentation/adrspt10.csv\n",
            "- /content/drive/MyDrive/Voice/ADReSSo21-progression-test/ADReSSo21/progression/test-dist/segmentation/adrspt29.csv\n",
            "- /content/drive/MyDrive/Voice/ADReSSo21-progression-test/ADReSSo21/progression/test-dist/segmentation/adrspt11.csv\n",
            "- /content/drive/MyDrive/Voice/ADReSSo21-progression-test/ADReSSo21/progression/test-dist/segmentation/adrspt17.csv\n",
            "- /content/drive/MyDrive/Voice/ADReSSo21-progression-test/ADReSSo21/progression/test-dist/segmentation/adrspt18.csv\n",
            "- /content/drive/MyDrive/Voice/ADReSSo21-progression-test/ADReSSo21/progression/test-dist/segmentation/adrspt1.csv\n",
            "- /content/drive/MyDrive/Voice/ADReSSo21-progression-test/ADReSSo21/progression/test-dist/segmentation/adrspt13.csv\n",
            "- /content/drive/MyDrive/Voice/ADReSSo21-progression-test/ADReSSo21/progression/test-dist/segmentation/adrspt26.csv\n",
            "- /content/drive/MyDrive/Voice/ADReSSo21-progression-test/ADReSSo21/progression/test-dist/segmentation/adrspt21.csv\n",
            "- /content/drive/MyDrive/Voice/ADReSSo21-progression-test/ADReSSo21/progression/test-dist/segmentation/adrspt23.csv\n",
            "- /content/drive/MyDrive/Voice/ADReSSo21-progression-train/ADReSSo21/progression/train/segmentation/no_decline/adrsp195.csv\n",
            "- /content/drive/MyDrive/Voice/ADReSSo21-progression-train/ADReSSo21/progression/train/segmentation/no_decline/adrsp041.csv\n",
            "- /content/drive/MyDrive/Voice/ADReSSo21-progression-train/ADReSSo21/progression/train/segmentation/no_decline/adrsp030.csv\n",
            "- /content/drive/MyDrive/Voice/ADReSSo21-progression-train/ADReSSo21/progression/train/segmentation/no_decline/adrsp052.csv\n",
            "- /content/drive/MyDrive/Voice/ADReSSo21-progression-train/ADReSSo21/progression/train/segmentation/no_decline/adrsp349.csv\n",
            "- /content/drive/MyDrive/Voice/ADReSSo21-progression-train/ADReSSo21/progression/train/segmentation/no_decline/adrsp197.csv\n",
            "- /content/drive/MyDrive/Voice/ADReSSo21-progression-train/ADReSSo21/progression/train/segmentation/no_decline/adrsp207.csv\n",
            "- /content/drive/MyDrive/Voice/ADReSSo21-progression-train/ADReSSo21/progression/train/segmentation/no_decline/adrsp043.csv\n",
            "- /content/drive/MyDrive/Voice/ADReSSo21-progression-train/ADReSSo21/progression/train/segmentation/no_decline/adrsp198.csv\n",
            "- /content/drive/MyDrive/Voice/ADReSSo21-progression-train/ADReSSo21/progression/train/segmentation/no_decline/adrsp148.csv\n",
            "- /content/drive/MyDrive/Voice/ADReSSo21-progression-train/ADReSSo21/progression/train/segmentation/no_decline/adrsp056.csv\n",
            "- /content/drive/MyDrive/Voice/ADReSSo21-progression-train/ADReSSo21/progression/train/segmentation/no_decline/adrsp042.csv\n",
            "- /content/drive/MyDrive/Voice/ADReSSo21-progression-train/ADReSSo21/progression/train/segmentation/no_decline/adrsp161.csv\n",
            "- /content/drive/MyDrive/Voice/ADReSSo21-progression-train/ADReSSo21/progression/train/segmentation/no_decline/adrsp137.csv\n",
            "- /content/drive/MyDrive/Voice/ADReSSo21-progression-train/ADReSSo21/progression/train/segmentation/no_decline/adrsp157.csv\n",
            "- /content/drive/MyDrive/Voice/ADReSSo21-progression-train/ADReSSo21/progression/train/segmentation/no_decline/adrsp321.csv\n",
            "- /content/drive/MyDrive/Voice/ADReSSo21-progression-train/ADReSSo21/progression/train/segmentation/no_decline/adrsp251.csv\n",
            "- /content/drive/MyDrive/Voice/ADReSSo21-progression-train/ADReSSo21/progression/train/segmentation/no_decline/adrsp196.csv\n",
            "- /content/drive/MyDrive/Voice/ADReSSo21-progression-train/ADReSSo21/progression/train/segmentation/no_decline/adrsp306.csv\n",
            "- /content/drive/MyDrive/Voice/ADReSSo21-progression-train/ADReSSo21/progression/train/segmentation/no_decline/adrsp028.csv\n",
            "- /content/drive/MyDrive/Voice/ADReSSo21-progression-train/ADReSSo21/progression/train/segmentation/no_decline/adrsp039.csv\n",
            "- /content/drive/MyDrive/Voice/ADReSSo21-progression-train/ADReSSo21/progression/train/segmentation/no_decline/adrsp122.csv\n",
            "- /content/drive/MyDrive/Voice/ADReSSo21-progression-train/ADReSSo21/progression/train/segmentation/no_decline/adrsp193.csv\n",
            "- /content/drive/MyDrive/Voice/ADReSSo21-progression-train/ADReSSo21/progression/train/segmentation/no_decline/adrsp319.csv\n",
            "- /content/drive/MyDrive/Voice/ADReSSo21-progression-train/ADReSSo21/progression/train/segmentation/no_decline/adrsp177.csv\n",
            "- /content/drive/MyDrive/Voice/ADReSSo21-progression-train/ADReSSo21/progression/train/segmentation/no_decline/adrsp130.csv\n",
            "- /content/drive/MyDrive/Voice/ADReSSo21-progression-train/ADReSSo21/progression/train/segmentation/no_decline/adrsp136.csv\n",
            "- /content/drive/MyDrive/Voice/ADReSSo21-progression-train/ADReSSo21/progression/train/segmentation/no_decline/adrsp350.csv\n",
            "- /content/drive/MyDrive/Voice/ADReSSo21-progression-train/ADReSSo21/progression/train/segmentation/no_decline/adrsp253.csv\n",
            "- /content/drive/MyDrive/Voice/ADReSSo21-progression-train/ADReSSo21/progression/train/segmentation/no_decline/adrsp001.csv\n",
            "- /content/drive/MyDrive/Voice/ADReSSo21-progression-train/ADReSSo21/progression/train/segmentation/no_decline/adrsp124.csv\n",
            "- /content/drive/MyDrive/Voice/ADReSSo21-progression-train/ADReSSo21/progression/train/segmentation/no_decline/adrsp007.csv\n",
            "- /content/drive/MyDrive/Voice/ADReSSo21-progression-train/ADReSSo21/progression/train/segmentation/no_decline/adrsp310.csv\n",
            "- /content/drive/MyDrive/Voice/ADReSSo21-progression-train/ADReSSo21/progression/train/segmentation/no_decline/adrsp024.csv\n",
            "- /content/drive/MyDrive/Voice/ADReSSo21-progression-train/ADReSSo21/progression/train/segmentation/no_decline/adrsp192.csv\n",
            "- /content/drive/MyDrive/Voice/ADReSSo21-progression-train/ADReSSo21/progression/train/segmentation/no_decline/adrsp200.csv\n",
            "- /content/drive/MyDrive/Voice/ADReSSo21-progression-train/ADReSSo21/progression/train/segmentation/no_decline/adrsp031.csv\n",
            "- /content/drive/MyDrive/Voice/ADReSSo21-progression-train/ADReSSo21/progression/train/segmentation/decline/adrsp051.csv\n",
            "- /content/drive/MyDrive/Voice/ADReSSo21-progression-train/ADReSSo21/progression/train/segmentation/decline/adrsp313.csv\n",
            "- /content/drive/MyDrive/Voice/ADReSSo21-progression-train/ADReSSo21/progression/train/segmentation/decline/adrsp101.csv\n",
            "- /content/drive/MyDrive/Voice/ADReSSo21-progression-train/ADReSSo21/progression/train/segmentation/decline/adrsp055.csv\n",
            "- /content/drive/MyDrive/Voice/ADReSSo21-progression-train/ADReSSo21/progression/train/segmentation/decline/adrsp179.csv\n",
            "- /content/drive/MyDrive/Voice/ADReSSo21-progression-train/ADReSSo21/progression/train/segmentation/decline/adrsp300.csv\n",
            "- /content/drive/MyDrive/Voice/ADReSSo21-progression-train/ADReSSo21/progression/train/segmentation/decline/adrsp209.csv\n",
            "- /content/drive/MyDrive/Voice/ADReSSo21-progression-train/ADReSSo21/progression/train/segmentation/decline/adrsp127.csv\n",
            "- /content/drive/MyDrive/Voice/ADReSSo21-progression-train/ADReSSo21/progression/train/segmentation/decline/adrsp266.csv\n",
            "- /content/drive/MyDrive/Voice/ADReSSo21-progression-train/ADReSSo21/progression/train/segmentation/decline/adrsp003.csv\n",
            "\n",
            "/content/drive/MyDrive/Voice/task1.csv (CSV):\n",
            "Shape: (71, 2)\n",
            "Columns: ['ID', 'Dx']\n",
            "         ID       Dx\n",
            "0  adrsdt15  Control\n",
            "1  adrsdt40  Control\n",
            "2  adrsdt26  Control\n",
            "3  adrsdt67  Control\n",
            "4  adrsdt58  Control\n",
            "\n",
            "/content/drive/MyDrive/Voice/task2.csv (CSV):\n",
            "Shape: (71, 2)\n",
            "Columns: ['ID', 'MMSE']\n",
            "         ID  MMSE\n",
            "0  adrsdt15    30\n",
            "1  adrsdt40    28\n",
            "2  adrsdt26    29\n",
            "3  adrsdt67    30\n",
            "4  adrsdt58    29\n",
            "\n",
            "/content/drive/MyDrive/Voice/task3.csv (CSV):\n",
            "Shape: (32, 2)\n",
            "Columns: ['ID', 'Decline']\n",
            "         ID  Decline\n",
            "0   adrspt2    False\n",
            "1  adrspt18    False\n",
            "2   adrspt9     True\n",
            "3  adrspt21    False\n",
            "4  adrspt29    False\n",
            "\n",
            "Testing audio processing...\n",
            "\n",
            "Found 542 audio files\n",
            "\n",
            "Sample audio files:\n",
            "1. /content/drive/MyDrive/Voice/Extracted_dataset/diagnosis_train/ADReSSo21/diagnosis/train/audio/cn/adrso014.wav\n",
            "2. /content/drive/MyDrive/Voice/Extracted_dataset/diagnosis_train/ADReSSo21/diagnosis/train/audio/cn/adrso015.wav\n",
            "3. /content/drive/MyDrive/Voice/Extracted_dataset/diagnosis_train/ADReSSo21/diagnosis/train/audio/cn/adrso003.wav\n",
            "4. /content/drive/MyDrive/Voice/Extracted_dataset/diagnosis_train/ADReSSo21/diagnosis/train/audio/cn/adrso008.wav\n",
            "5. /content/drive/MyDrive/Voice/Extracted_dataset/diagnosis_train/ADReSSo21/diagnosis/train/audio/cn/adrso012.wav\n",
            "\n",
            "Analyzing first audio file: /content/drive/MyDrive/Voice/Extracted_dataset/diagnosis_train/ADReSSo21/diagnosis/train/audio/cn/adrso014.wav\n",
            "Sample rate: 22050 Hz\n",
            "Duration: 10.00 seconds\n",
            "Audio shape: (220500,)\n",
            "Testing with: /content/drive/MyDrive/Voice/Extracted_dataset/diagnosis_train/ADReSSo21/diagnosis/train/audio/cn/adrso014.wav\n",
            "Extracting features...\n",
            "MFCCs shape: (13, 938)\n",
            "Spectral centroids shape: (1, 938)\n",
            "Zero crossing rate shape: (1, 938)\n",
            "✓ Audio processing test successful!\n",
            "\n",
            "=== Setup Complete ===\n",
            "Ready to proceed with model implementation!\n",
            "Found 542 audio files to work with\n"
          ]
        }
      ]
    },
    {
      "cell_type": "code",
      "source": [
        "# Multimodal Alzheimer's Detection Model Implementation\n",
        "# Based on BERT + DARTS Architecture\n",
        "\n",
        "import os\n",
        "import torch\n",
        "import torch.nn as nn\n",
        "import torch.nn.functional as F\n",
        "import torchaudio\n",
        "import numpy as np\n",
        "import pandas as pd\n",
        "import librosa\n",
        "import speech_recognition as sr\n",
        "from transformers import BertTokenizer, BertModel, BertForSequenceClassification\n",
        "from sklearn.model_selection import train_test_split\n",
        "from sklearn.metrics import accuracy_score, classification_report, confusion_matrix\n",
        "import matplotlib.pyplot as plt\n",
        "import seaborn as sns\n",
        "from torch.utils.data import Dataset, DataLoader\n",
        "import tarfile\n",
        "import glob\n",
        "from tqdm import tqdm\n",
        "import warnings\n",
        "warnings.filterwarnings('ignore')\n",
        "\n",
        "# Step 1: Setup and Installation\n",
        "def install_dependencies():\n",
        "    \"\"\"Install required packages\"\"\"\n",
        "    import subprocess\n",
        "    import sys\n",
        "\n",
        "    packages = [\n",
        "        'torch torchvision torchaudio',\n",
        "        'transformers',\n",
        "        'librosa',\n",
        "        'SpeechRecognition',\n",
        "        'pydub',\n",
        "        'scikit-learn',\n",
        "        'matplotlib',\n",
        "        'seaborn',\n",
        "        'pandas',\n",
        "        'numpy',\n",
        "        'tqdm'\n",
        "    ]\n",
        "\n",
        "    for package in packages:\n",
        "        try:\n",
        "            subprocess.check_call([sys.executable, '-m', 'pip', 'install', package])\n",
        "        except:\n",
        "            print(f\"Failed to install {package}\")\n",
        "\n",
        "# Step 2: Dataset Extraction and Loading\n",
        "class ADReSSoDatasetLoader:\n",
        "    def __init__(self, base_path=\"/content/drive/MyDrive/Voice/\"):\n",
        "        self.base_path = base_path\n",
        "        self.train_diagnosis_path = os.path.join(base_path, \"ADReSSo21-diagnosis-train.tgz\")\n",
        "        self.train_progression_path = os.path.join(base_path, \"ADReSSo21-progression-train.tgz\")\n",
        "        self.test_progression_path = os.path.join(base_path, \"ADReSSo21-progression-test.tgz\")\n",
        "\n",
        "        # Extract datasets\n",
        "        self.extract_datasets()\n",
        "\n",
        "    def extract_datasets(self):\n",
        "        \"\"\"Extract all dataset archives\"\"\"\n",
        "        datasets = [\n",
        "            (self.train_diagnosis_path, \"diagnosis_train\"),\n",
        "            (self.train_progression_path, \"progression_train\"),\n",
        "            (self.test_progression_path, \"progression_test\")\n",
        "        ]\n",
        "\n",
        "        for archive_path, folder_name in datasets:\n",
        "            if os.path.exists(archive_path):\n",
        "                extract_path = os.path.join(self.base_path, folder_name)\n",
        "                if not os.path.exists(extract_path):\n",
        "                    print(f\"Extracting {archive_path}...\")\n",
        "                    with tarfile.open(archive_path, 'r:gz') as tar:\n",
        "                        tar.extractall(extract_path)\n",
        "                    print(f\"Extracted to {extract_path}\")\n",
        "                else:\n",
        "                    print(f\"{folder_name} already extracted\")\n",
        "\n",
        "    def load_audio_files(self):\n",
        "        \"\"\"Load all audio files and their labels\"\"\"\n",
        "        audio_files = []\n",
        "        labels = []\n",
        "\n",
        "        # Load diagnosis training data\n",
        "        diagnosis_path = os.path.join(self.base_path, \"diagnosis_train\")\n",
        "        if os.path.exists(diagnosis_path):\n",
        "            # Look for audio files and corresponding labels\n",
        "            for root, dirs, files in os.walk(diagnosis_path):\n",
        "                for file in files:\n",
        "                    if file.endswith(('.wav', '.mp3', '.flac')):\n",
        "                        audio_path = os.path.join(root, file)\n",
        "                        # Extract label from filename or folder structure\n",
        "                        # Assuming AD/Control classification from folder or filename\n",
        "                        if 'ad' in file.lower() or 'ad' in root.lower():\n",
        "                            label = 1  # AD patient\n",
        "                        else:\n",
        "                            label = 0  # Control\n",
        "\n",
        "                        audio_files.append(audio_path)\n",
        "                        labels.append(label)\n",
        "\n",
        "        return audio_files, labels\n",
        "\n",
        "# Step 3: Audio Feature Extraction\n",
        "class AudioFeatureExtractor:\n",
        "    def __init__(self, sample_rate=16000):\n",
        "        self.sample_rate = sample_rate\n",
        "\n",
        "    def extract_acoustic_features(self, audio_path):\n",
        "        \"\"\"Extract comprehensive acoustic features\"\"\"\n",
        "        try:\n",
        "            # Load audio\n",
        "            y, sr = librosa.load(audio_path, sr=self.sample_rate)\n",
        "\n",
        "            # Extract various acoustic features\n",
        "            features = {}\n",
        "\n",
        "            # Spectral features\n",
        "            features['mfcc'] = librosa.feature.mfcc(y=y, sr=sr, n_mfcc=13)\n",
        "            features['spectral_centroid'] = librosa.feature.spectral_centroid(y=y, sr=sr)\n",
        "            features['spectral_rolloff'] = librosa.feature.spectral_rolloff(y=y, sr=sr)\n",
        "            features['spectral_bandwidth'] = librosa.feature.spectral_bandwidth(y=y, sr=sr)\n",
        "            features['zero_crossing_rate'] = librosa.feature.zero_crossing_rate(y)\n",
        "\n",
        "            # Prosodic features\n",
        "            features['tempo'], _ = librosa.beat.beat_track(y=y, sr=sr)\n",
        "            features['chroma'] = librosa.feature.chroma_stft(y=y, sr=sr)\n",
        "            features['tonnetz'] = librosa.feature.tonnetz(y=librosa.effects.harmonic(y), sr=sr)\n",
        "\n",
        "            # Aggregate features (mean, std, etc.)\n",
        "            aggregated_features = []\n",
        "            for key, value in features.items():\n",
        "                if key == 'tempo':\n",
        "                    aggregated_features.append(value)\n",
        "                else:\n",
        "                    if value.ndim > 1:\n",
        "                        aggregated_features.extend([\n",
        "                            np.mean(value, axis=1),\n",
        "                            np.std(value, axis=1),\n",
        "                            np.max(value, axis=1),\n",
        "                            np.min(value, axis=1)\n",
        "                        ])\n",
        "                    else:\n",
        "                        aggregated_features.extend([\n",
        "                            np.mean(value),\n",
        "                            np.std(value),\n",
        "                            np.max(value),\n",
        "                            np.min(value)\n",
        "                        ])\n",
        "\n",
        "            # Flatten all features\n",
        "            feature_vector = np.concatenate([f.flatten() if hasattr(f, 'flatten') else [f]\n",
        "                                          for f in aggregated_features])\n",
        "\n",
        "            return feature_vector\n",
        "\n",
        "        except Exception as e:\n",
        "            print(f\"Error extracting features from {audio_path}: {e}\")\n",
        "            return np.zeros(200)  # Return zero vector if extraction fails\n",
        "\n",
        "# Step 4: Speech-to-Text and Linguistic Feature Extraction\n",
        "class SpeechToTextProcessor:\n",
        "    def __init__(self):\n",
        "        self.recognizer = sr.Recognizer()\n",
        "\n",
        "    def audio_to_text(self, audio_path):\n",
        "        \"\"\"Convert audio to text using speech recognition\"\"\"\n",
        "        try:\n",
        "            # Convert audio to wav if needed\n",
        "            audio_data, sr = librosa.load(audio_path, sr=16000)\n",
        "\n",
        "            # Save as temporary wav file\n",
        "            temp_path = \"/tmp/temp_audio.wav\"\n",
        "            librosa.output.write_wav(temp_path, audio_data, sr)\n",
        "\n",
        "            # Perform speech recognition\n",
        "            with sr.AudioFile(temp_path) as source:\n",
        "                audio = self.recognizer.record(source)\n",
        "                text = self.recognizer.recognize_google(audio)\n",
        "\n",
        "            # Clean up temp file\n",
        "            if os.path.exists(temp_path):\n",
        "                os.remove(temp_path)\n",
        "\n",
        "            return text\n",
        "\n",
        "        except Exception as e:\n",
        "            print(f\"Speech recognition failed for {audio_path}: {e}\")\n",
        "            return \"unable to transcribe audio\"\n",
        "\n",
        "    def extract_linguistic_features(self, text):\n",
        "        \"\"\"Extract linguistic features from text\"\"\"\n",
        "        if not text or len(text.strip()) == 0:\n",
        "            return {\n",
        "                'word_count': 0,\n",
        "                'sentence_count': 0,\n",
        "                'avg_word_length': 0,\n",
        "                'avg_sentence_length': 0,\n",
        "                'pause_count': 0,\n",
        "                'filler_count': 0\n",
        "            }\n",
        "\n",
        "        words = text.split()\n",
        "        sentences = text.split('.')\n",
        "\n",
        "        # Count fillers and pauses\n",
        "        fillers = ['um', 'uh', 'er', 'ah', 'hmm']\n",
        "        filler_count = sum(1 for word in words if word.lower() in fillers)\n",
        "\n",
        "        features = {\n",
        "            'word_count': len(words),\n",
        "            'sentence_count': len(sentences),\n",
        "            'avg_word_length': np.mean([len(word) for word in words]) if words else 0,\n",
        "            'avg_sentence_length': np.mean([len(sent.split()) for sent in sentences]) if sentences else 0,\n",
        "            'pause_count': text.count('...') + text.count(','),\n",
        "            'filler_count': filler_count\n",
        "        }\n",
        "\n",
        "        return features\n",
        "\n",
        "# Step 5: DARTS Implementation\n",
        "class DARTSCell(nn.Module):\n",
        "    def __init__(self, input_dim, output_dim):\n",
        "        super(DARTSCell, self).__init__()\n",
        "        self.input_dim = input_dim\n",
        "        self.output_dim = output_dim\n",
        "\n",
        "        # Define possible operations\n",
        "        self.operations = nn.ModuleList([\n",
        "            nn.Identity(),\n",
        "            nn.ReLU(),\n",
        "            nn.Conv1d(input_dim, output_dim, 1),\n",
        "            nn.Conv1d(input_dim, output_dim, 3, padding=1),\n",
        "            nn.MaxPool1d(3, stride=1, padding=1),\n",
        "            nn.AvgPool1d(3, stride=1, padding=1)\n",
        "        ])\n",
        "\n",
        "        # Architecture parameters (alpha)\n",
        "        self.alpha = nn.Parameter(torch.randn(len(self.operations)))\n",
        "\n",
        "    def forward(self, x):\n",
        "        # Apply softmax to architecture parameters\n",
        "        weights = F.softmax(self.alpha, dim=0)\n",
        "\n",
        "        # Weighted combination of all operations\n",
        "        output = sum(w * op(x) for w, op in zip(weights, self.operations))\n",
        "        return output\n",
        "\n",
        "class DARTSNetwork(nn.Module):\n",
        "    def __init__(self, input_dim, hidden_dim, num_layers=3):\n",
        "        super(DARTSNetwork, self).__init__()\n",
        "\n",
        "        self.input_projection = nn.Linear(input_dim, hidden_dim)\n",
        "\n",
        "        # Stack multiple DARTS cells\n",
        "        self.cells = nn.ModuleList([\n",
        "            DARTSCell(hidden_dim, hidden_dim) for _ in range(num_layers)\n",
        "        ])\n",
        "\n",
        "        self.output_projection = nn.Linear(hidden_dim, hidden_dim)\n",
        "\n",
        "    def forward(self, x):\n",
        "        # x shape: (batch_size, input_dim)\n",
        "        x = self.input_projection(x)\n",
        "        x = x.unsqueeze(-1)  # Add sequence dimension for conv1d\n",
        "\n",
        "        for cell in self.cells:\n",
        "            x = cell(x)\n",
        "\n",
        "        x = x.squeeze(-1)  # Remove sequence dimension\n",
        "        x = self.output_projection(x)\n",
        "\n",
        "        return x\n",
        "\n",
        "# Step 6: BERT Text Processing\n",
        "class BERTProcessor:\n",
        "    def __init__(self, model_name='bert-base-uncased'):\n",
        "        self.tokenizer = BertTokenizer.from_pretrained(model_name)\n",
        "        self.model = BertModel.from_pretrained(model_name)\n",
        "        self.model.eval()\n",
        "\n",
        "    def encode_text(self, text, max_length=512):\n",
        "        \"\"\"Encode text using BERT\"\"\"\n",
        "        inputs = self.tokenizer(\n",
        "            text,\n",
        "            max_length=max_length,\n",
        "            padding='max_length',\n",
        "            truncation=True,\n",
        "            return_tensors='pt'\n",
        "        )\n",
        "\n",
        "        with torch.no_grad():\n",
        "            outputs = self.model(**inputs)\n",
        "            # Use CLS token representation\n",
        "            cls_embedding = outputs.last_hidden_state[:, 0, :]  # CLS token\n",
        "\n",
        "        return cls_embedding\n",
        "\n",
        "# Step 7: Multimodal Fusion Model\n",
        "class MultimodalFusionModel(nn.Module):\n",
        "    def __init__(self, audio_dim, text_dim, hidden_dim=256, num_classes=2):\n",
        "        super(MultimodalFusionModel, self).__init__()\n",
        "\n",
        "        # Audio processing with DARTS\n",
        "        self.audio_darts = DARTSNetwork(audio_dim, hidden_dim)\n",
        "\n",
        "        # Text processing\n",
        "        self.text_projection = nn.Linear(text_dim, hidden_dim)\n",
        "\n",
        "        # Fusion methods\n",
        "        self.fusion_method = 'concatenation'  # Can be changed to other methods\n",
        "\n",
        "        if self.fusion_method == 'concatenation':\n",
        "            fusion_dim = hidden_dim * 2\n",
        "        elif self.fusion_method == 'tucker':\n",
        "            fusion_dim = hidden_dim\n",
        "        elif self.fusion_method == 'mfb':\n",
        "            fusion_dim = hidden_dim\n",
        "        elif self.fusion_method == 'block':\n",
        "            fusion_dim = hidden_dim\n",
        "        else:\n",
        "            fusion_dim = hidden_dim * 2\n",
        "\n",
        "        # Final classification layers\n",
        "        self.classifier = nn.Sequential(\n",
        "            nn.Linear(fusion_dim, hidden_dim),\n",
        "            nn.ReLU(),\n",
        "            nn.Dropout(0.3),\n",
        "            nn.Linear(hidden_dim, hidden_dim // 2),\n",
        "            nn.ReLU(),\n",
        "            nn.Dropout(0.3),\n",
        "            nn.Linear(hidden_dim // 2, num_classes)\n",
        "        )\n",
        "\n",
        "    def forward(self, audio_features, text_features):\n",
        "        # Process audio features through DARTS\n",
        "        audio_repr = self.audio_darts(audio_features)\n",
        "\n",
        "        # Process text features\n",
        "        text_repr = self.text_projection(text_features)\n",
        "\n",
        "        # Fusion\n",
        "        if self.fusion_method == 'concatenation':\n",
        "            fused = torch.cat([audio_repr, text_repr], dim=1)\n",
        "        elif self.fusion_method == 'tucker':\n",
        "            fused = self.tucker_fusion(audio_repr, text_repr)\n",
        "        elif self.fusion_method == 'mfb':\n",
        "            fused = self.mfb_fusion(audio_repr, text_repr)\n",
        "        elif self.fusion_method == 'block':\n",
        "            fused = self.block_fusion(audio_repr, text_repr)\n",
        "        else:\n",
        "            fused = torch.cat([audio_repr, text_repr], dim=1)\n",
        "\n",
        "        # Classification\n",
        "        output = self.classifier(fused)\n",
        "\n",
        "        return output\n",
        "\n",
        "    def tucker_fusion(self, audio, text):\n",
        "        \"\"\"Tucker decomposition fusion\"\"\"\n",
        "        # Simplified Tucker fusion\n",
        "        outer_product = torch.bmm(audio.unsqueeze(2), text.unsqueeze(1))\n",
        "        fused = torch.mean(outer_product, dim=[1, 2])\n",
        "        return fused\n",
        "\n",
        "    def mfb_fusion(self, audio, text):\n",
        "        \"\"\"Multimodal Factorized Bilinear pooling\"\"\"\n",
        "        # Simplified MFB\n",
        "        expanded_audio = audio.unsqueeze(2).expand(-1, -1, text.size(1))\n",
        "        expanded_text = text.unsqueeze(1).expand(-1, audio.size(1), -1)\n",
        "        fused = torch.sum(expanded_audio * expanded_text, dim=2)\n",
        "        return fused\n",
        "\n",
        "    def block_fusion(self, audio, text):\n",
        "        \"\"\"Block fusion\"\"\"\n",
        "        # Element-wise multiplication and addition\n",
        "        fused = audio * text + audio + text\n",
        "        return fused\n",
        "\n",
        "# Step 8: Dataset Class\n",
        "class ADReSSoDataset(Dataset):\n",
        "    def __init__(self, audio_files, labels, audio_extractor, text_processor, bert_processor):\n",
        "        self.audio_files = audio_files\n",
        "        self.labels = labels\n",
        "        self.audio_extractor = audio_extractor\n",
        "        self.text_processor = text_processor\n",
        "        self.bert_processor = bert_processor\n",
        "\n",
        "        # Pre-extract features to avoid repeated computation\n",
        "        self.audio_features = []\n",
        "        self.text_features = []\n",
        "\n",
        "        print(\"Extracting features...\")\n",
        "        for audio_file in tqdm(audio_files):\n",
        "            # Extract audio features\n",
        "            audio_feat = self.audio_extractor.extract_acoustic_features(audio_file)\n",
        "            self.audio_features.append(audio_feat)\n",
        "\n",
        "            # Convert audio to text and extract BERT features\n",
        "            text = self.text_processor.audio_to_text(audio_file)\n",
        "            text_feat = self.bert_processor.encode_text(text)\n",
        "            self.text_features.append(text_feat.squeeze(0))\n",
        "\n",
        "    def __len__(self):\n",
        "        return len(self.audio_files)\n",
        "\n",
        "    def __getitem__(self, idx):\n",
        "        audio_feat = torch.FloatTensor(self.audio_features[idx])\n",
        "        text_feat = self.text_features[idx]\n",
        "        label = torch.LongTensor([self.labels[idx]])\n",
        "\n",
        "        return audio_feat, text_feat, label\n",
        "\n",
        "# Step 9: Training Function\n",
        "def train_model(model, train_loader, val_loader, num_epochs=50, learning_rate=0.001):\n",
        "    device = torch.device('cuda' if torch.cuda.is_available() else 'cpu')\n",
        "    model.to(device)\n",
        "\n",
        "    criterion = nn.CrossEntropyLoss()\n",
        "    optimizer = torch.optim.Adam(model.parameters(), lr=learning_rate)\n",
        "    scheduler = torch.optim.lr_scheduler.StepLR(optimizer, step_size=10, gamma=0.5)\n",
        "\n",
        "    train_losses = []\n",
        "    val_accuracies = []\n",
        "\n",
        "    for epoch in range(num_epochs):\n",
        "        # Training\n",
        "        model.train()\n",
        "        train_loss = 0.0\n",
        "\n",
        "        for audio_feat, text_feat, labels in tqdm(train_loader, desc=f'Epoch {epoch+1}/{num_epochs}'):\n",
        "            audio_feat, text_feat, labels = audio_feat.to(device), text_feat.to(device), labels.to(device)\n",
        "            labels = labels.squeeze()\n",
        "\n",
        "            optimizer.zero_grad()\n",
        "            outputs = model(audio_feat, text_feat)\n",
        "            loss = criterion(outputs, labels)\n",
        "            loss.backward()\n",
        "            optimizer.step()\n",
        "\n",
        "            train_loss += loss.item()\n",
        "\n",
        "        # Validation\n",
        "        model.eval()\n",
        "        val_correct = 0\n",
        "        val_total = 0\n",
        "\n",
        "        with torch.no_grad():\n",
        "            for audio_feat, text_feat, labels in val_loader:\n",
        "                audio_feat, text_feat, labels = audio_feat.to(device), text_feat.to(device), labels.to(device)\n",
        "                labels = labels.squeeze()\n",
        "\n",
        "                outputs = model(audio_feat, text_feat)\n",
        "                _, predicted = torch.max(outputs.data, 1)\n",
        "                val_total += labels.size(0)\n",
        "                val_correct += (predicted == labels).sum().item()\n",
        "\n",
        "        val_accuracy = 100 * val_correct / val_total\n",
        "        avg_train_loss = train_loss / len(train_loader)\n",
        "\n",
        "        train_losses.append(avg_train_loss)\n",
        "        val_accuracies.append(val_accuracy)\n",
        "\n",
        "        print(f'Epoch [{epoch+1}/{num_epochs}], Loss: {avg_train_loss:.4f}, Val Accuracy: {val_accuracy:.2f}%')\n",
        "\n",
        "        scheduler.step()\n",
        "\n",
        "    return train_losses, val_accuracies\n",
        "\n",
        "# Step 10: Main Execution Function\n",
        "def main():\n",
        "    print(\"Starting Multimodal AD Detection Model Training...\")\n",
        "\n",
        "    # Initialize components\n",
        "    dataset_loader = ADReSSoDatasetLoader()\n",
        "    audio_extractor = AudioFeatureExtractor()\n",
        "    text_processor = SpeechToTextProcessor()\n",
        "    bert_processor = BERTProcessor()\n",
        "\n",
        "    # Load data\n",
        "    print(\"Loading audio files...\")\n",
        "    audio_files, labels = dataset_loader.load_audio_files()\n",
        "\n",
        "    if len(audio_files) == 0:\n",
        "        print(\"No audio files found. Please check dataset paths.\")\n",
        "        return\n",
        "\n",
        "    print(f\"Found {len(audio_files)} audio files\")\n",
        "\n",
        "    # Split data\n",
        "    train_files, val_files, train_labels, val_labels = train_test_split(\n",
        "        audio_files, labels, test_size=0.2, random_state=42, stratify=labels\n",
        "    )\n",
        "\n",
        "    # Create datasets\n",
        "    print(\"Creating datasets...\")\n",
        "    train_dataset = ADReSSoDataset(train_files, train_labels, audio_extractor, text_processor, bert_processor)\n",
        "    val_dataset = ADReSSoDataset(val_files, val_labels, audio_extractor, text_processor, bert_processor)\n",
        "\n",
        "    # Create data loaders\n",
        "    train_loader = DataLoader(train_dataset, batch_size=8, shuffle=True)\n",
        "    val_loader = DataLoader(val_dataset, batch_size=8, shuffle=False)\n",
        "\n",
        "    # Get feature dimensions\n",
        "    audio_dim = len(train_dataset.audio_features[0])\n",
        "    text_dim = train_dataset.text_features[0].shape[0]\n",
        "\n",
        "    print(f\"Audio feature dimension: {audio_dim}\")\n",
        "    print(f\"Text feature dimension: {text_dim}\")\n",
        "\n",
        "    # Initialize model\n",
        "    model = MultimodalFusionModel(audio_dim=audio_dim, text_dim=text_dim)\n",
        "\n",
        "    # Train model\n",
        "    print(\"Starting training...\")\n",
        "    train_losses, val_accuracies = train_model(model, train_loader, val_loader)\n",
        "\n",
        "    # Plot training curves\n",
        "    plt.figure(figsize=(12, 4))\n",
        "\n",
        "    plt.subplot(1, 2, 1)\n",
        "    plt.plot(train_losses)\n",
        "    plt.title('Training Loss')\n",
        "    plt.xlabel('Epoch')\n",
        "    plt.ylabel('Loss')\n",
        "\n",
        "    plt.subplot(1, 2, 2)\n",
        "    plt.plot(val_accuracies)\n",
        "    plt.title('Validation Accuracy')\n",
        "    plt.xlabel('Epoch')\n",
        "    plt.ylabel('Accuracy (%)')\n",
        "\n",
        "    plt.tight_layout()\n",
        "    plt.show()\n",
        "\n",
        "    # Save model\n",
        "    torch.save(model.state_dict(), '/content/drive/MyDrive/Voice/multimodal_ad_model.pth')\n",
        "    print(\"Model saved successfully!\")\n",
        "\n",
        "    return model, train_loader, val_loader\n",
        "\n",
        "# Usage\n",
        "if __name__ == \"__main__\":\n",
        "    # Install dependencies first\n",
        "    install_dependencies()\n",
        "\n",
        "    # Run main function\n",
        "    model, train_loader, val_loader = main()"
      ],
      "metadata": {
        "colab": {
          "base_uri": "https://localhost:8080/",
          "height": 1000,
          "referenced_widgets": [
            "7bf06daf7ef343fa8c2b375431b7af36",
            "9b530f1b74054a8fa35bc2ac517fe3fb",
            "d3df08063e094052b1f5f47c22772e8f",
            "f0e990dd85344c68966eeef2b5d7cf87",
            "b10f7f1d33bb44c6af55445d5eebfa9b",
            "c9bacee7f786439bbdcbeb8e1f54b1a2",
            "4168ef5d074941dba8fe2e54ec58fe2a",
            "c60c110815304064bb2666e3f99adb79",
            "18fefffee8a64763b4a607c855cf31cd",
            "3ecec58d85be4c8a85b68eb8e3306b2e",
            "c30ecbf53c3c4ac486701a557e57110f",
            "83aa8a6596e244a3abb864fc6ad754f4",
            "8c167186174d47d78cf1e5ed9f3de24f",
            "759200fcf6c349cda87bd7af2495d5ae",
            "cb894524e6884943b59bc3785856c4e6",
            "5459ae5e6ba348d396f50d58854db8ab",
            "3c3c1297cbb74ab59f00ba2061d4bcd1",
            "63d9755a4afb4c8c8fa979a2af20ef0e",
            "ea9cce16349a41e38ce186fb619564b1",
            "8fe5c9d35a44424db31afec4617819e3",
            "b6f0f9b5734c4350b446f8701ca9a950",
            "3fd9245e09614e738da9b8a23f87e45f",
            "bd37c3f7ea09403f80d22ce18342b081",
            "120830e90b684f0ba009538fd1484dc5",
            "c16fea3ee442475e943e8344e4fc12b4",
            "211d60e410a04d2aac64f8f9dc7a8720",
            "1cab200c311c4f669221ee0417a3d9ab",
            "bce161a6fd364bf193572322e7f551d9",
            "5684f080ea23494cb048c7ab26c21b94",
            "bbb7e6ebdad3440aabadca01d0901c5a",
            "22cef289a4e44b54ba32fc4fa99f52e3",
            "1a8de18c03734dc48e1056e870fea32e",
            "7ed222a9238a4d41bca5d8012bcf69e9",
            "087fb7b4b0e5423188d3a88f68deae5c",
            "965648fa43f044169b95c11f4f95afb8",
            "6802598135ae484d85b2434cd23e3d3a",
            "dbe8184cf37a4a9b9c2312bb5e639115",
            "23d17f19a7bb40f8887d6bfa69944cc2",
            "04ffc5a1c406499a9d49070578a584c0",
            "5afc1676a8324843b909a51eb4e98b6f",
            "5574e1731db247a9ba1f24aef9eaf73d",
            "6a9de8952b294ad99b6758263aa046c8",
            "4a31c8c724bf44578defc5b61297ecef",
            "b66976d5e779456a84a378fb6efa22bf",
            "d8fb59d637e34960a7fa06b743b23a87",
            "d3a9526f2c734d79beb72b7a8c0d8cfa",
            "03a46c1d36294f689cd929c0a26ac322",
            "3a99e6f19901430e9ed69254515eab2d",
            "474386d1004f4d7a90a047f60bef4505",
            "9d5d9c486520445285788c3f2f20c3c9",
            "ab262d42ec32455283e6a985115e09dc",
            "83dc802c05dd4cb4b9b61b23e754e545",
            "e14d0945463f4b1285d3c17261ec55ee",
            "11d17caaeed84714842faf6f3f625044",
            "38a9401f685942009f34e6b3e66e09da"
          ]
        },
        "id": "DoTpYKb2QVBw",
        "outputId": "e8b1e184-391d-4ffa-b620-76fff914adf9"
      },
      "execution_count": null,
      "outputs": [
        {
          "output_type": "stream",
          "name": "stdout",
          "text": [
            "Failed to install torch torchvision torchaudio\n",
            "Starting Multimodal AD Detection Model Training...\n",
            "Extracting /content/drive/MyDrive/Voice/ADReSSo21-diagnosis-train.tgz...\n",
            "Extracted to /content/drive/MyDrive/Voice/diagnosis_train\n",
            "Extracting /content/drive/MyDrive/Voice/ADReSSo21-progression-train.tgz...\n",
            "Extracted to /content/drive/MyDrive/Voice/progression_train\n",
            "Extracting /content/drive/MyDrive/Voice/ADReSSo21-progression-test.tgz...\n",
            "Extracted to /content/drive/MyDrive/Voice/progression_test\n"
          ]
        },
        {
          "output_type": "display_data",
          "data": {
            "text/plain": [
              "tokenizer_config.json:   0%|          | 0.00/48.0 [00:00<?, ?B/s]"
            ],
            "application/vnd.jupyter.widget-view+json": {
              "version_major": 2,
              "version_minor": 0,
              "model_id": "7bf06daf7ef343fa8c2b375431b7af36"
            }
          },
          "metadata": {}
        },
        {
          "output_type": "display_data",
          "data": {
            "text/plain": [
              "vocab.txt:   0%|          | 0.00/232k [00:00<?, ?B/s]"
            ],
            "application/vnd.jupyter.widget-view+json": {
              "version_major": 2,
              "version_minor": 0,
              "model_id": "83aa8a6596e244a3abb864fc6ad754f4"
            }
          },
          "metadata": {}
        },
        {
          "output_type": "display_data",
          "data": {
            "text/plain": [
              "tokenizer.json:   0%|          | 0.00/466k [00:00<?, ?B/s]"
            ],
            "application/vnd.jupyter.widget-view+json": {
              "version_major": 2,
              "version_minor": 0,
              "model_id": "bd37c3f7ea09403f80d22ce18342b081"
            }
          },
          "metadata": {}
        },
        {
          "output_type": "display_data",
          "data": {
            "text/plain": [
              "config.json:   0%|          | 0.00/570 [00:00<?, ?B/s]"
            ],
            "application/vnd.jupyter.widget-view+json": {
              "version_major": 2,
              "version_minor": 0,
              "model_id": "087fb7b4b0e5423188d3a88f68deae5c"
            }
          },
          "metadata": {}
        },
        {
          "output_type": "stream",
          "name": "stderr",
          "text": [
            "Xet Storage is enabled for this repo, but the 'hf_xet' package is not installed. Falling back to regular HTTP download. For better performance, install the package with: `pip install huggingface_hub[hf_xet]` or `pip install hf_xet`\n",
            "WARNING:huggingface_hub.file_download:Xet Storage is enabled for this repo, but the 'hf_xet' package is not installed. Falling back to regular HTTP download. For better performance, install the package with: `pip install huggingface_hub[hf_xet]` or `pip install hf_xet`\n"
          ]
        },
        {
          "output_type": "display_data",
          "data": {
            "text/plain": [
              "model.safetensors:   0%|          | 0.00/440M [00:00<?, ?B/s]"
            ],
            "application/vnd.jupyter.widget-view+json": {
              "version_major": 2,
              "version_minor": 0,
              "model_id": "d8fb59d637e34960a7fa06b743b23a87"
            }
          },
          "metadata": {}
        },
        {
          "output_type": "stream",
          "name": "stdout",
          "text": [
            "Loading audio files...\n",
            "Found 166 audio files\n",
            "Creating datasets...\n",
            "Extracting features...\n"
          ]
        },
        {
          "output_type": "stream",
          "name": "stderr",
          "text": [
            "\r  0%|          | 0/132 [00:00<?, ?it/s]"
          ]
        },
        {
          "output_type": "stream",
          "name": "stdout",
          "text": [
            "Speech recognition failed for /content/drive/MyDrive/Voice/diagnosis_train/ADReSSo21/diagnosis/train/audio/cn/adrso257.wav: No librosa attribute output\n"
          ]
        },
        {
          "output_type": "stream",
          "name": "stderr",
          "text": [
            "\r  1%|          | 1/132 [00:21<47:55, 21.95s/it]"
          ]
        },
        {
          "output_type": "stream",
          "name": "stdout",
          "text": [
            "Speech recognition failed for /content/drive/MyDrive/Voice/diagnosis_train/ADReSSo21/diagnosis/train/audio/cn/adrso183.wav: No librosa attribute output\n"
          ]
        },
        {
          "output_type": "stream",
          "name": "stderr",
          "text": [
            "\r  2%|▏         | 2/132 [00:30<30:47, 14.21s/it]"
          ]
        },
        {
          "output_type": "stream",
          "name": "stdout",
          "text": [
            "Speech recognition failed for /content/drive/MyDrive/Voice/diagnosis_train/ADReSSo21/diagnosis/train/audio/cn/adrso178.wav: No librosa attribute output\n"
          ]
        },
        {
          "output_type": "stream",
          "name": "stderr",
          "text": [
            "\r  2%|▏         | 3/132 [00:35<21:07,  9.83s/it]"
          ]
        },
        {
          "output_type": "stream",
          "name": "stdout",
          "text": [
            "Speech recognition failed for /content/drive/MyDrive/Voice/diagnosis_train/ADReSSo21/diagnosis/train/audio/ad/adrso125.wav: No librosa attribute output\n"
          ]
        },
        {
          "output_type": "stream",
          "name": "stderr",
          "text": [
            "\r  3%|▎         | 4/132 [00:41<17:31,  8.21s/it]"
          ]
        },
        {
          "output_type": "stream",
          "name": "stdout",
          "text": [
            "Speech recognition failed for /content/drive/MyDrive/Voice/diagnosis_train/ADReSSo21/diagnosis/train/audio/cn/adrso268.wav: No librosa attribute output\n"
          ]
        },
        {
          "output_type": "stream",
          "name": "stderr",
          "text": [
            "\r  4%|▍         | 5/132 [00:47<15:48,  7.47s/it]"
          ]
        },
        {
          "output_type": "stream",
          "name": "stdout",
          "text": [
            "Speech recognition failed for /content/drive/MyDrive/Voice/diagnosis_train/ADReSSo21/diagnosis/train/audio/cn/adrso262.wav: No librosa attribute output\n"
          ]
        },
        {
          "output_type": "stream",
          "name": "stderr",
          "text": [
            "\r  5%|▍         | 6/132 [00:52<13:58,  6.66s/it]"
          ]
        },
        {
          "output_type": "stream",
          "name": "stdout",
          "text": [
            "Speech recognition failed for /content/drive/MyDrive/Voice/diagnosis_train/ADReSSo21/diagnosis/train/audio/cn/adrso274.wav: No librosa attribute output\n"
          ]
        },
        {
          "output_type": "stream",
          "name": "stderr",
          "text": [
            "\r  5%|▌         | 7/132 [01:03<16:59,  8.16s/it]"
          ]
        },
        {
          "output_type": "stream",
          "name": "stdout",
          "text": [
            "Speech recognition failed for /content/drive/MyDrive/Voice/diagnosis_train/ADReSSo21/diagnosis/train/audio/ad/adrso248.wav: No librosa attribute output\n"
          ]
        },
        {
          "output_type": "stream",
          "name": "stderr",
          "text": [
            "\r  6%|▌         | 8/132 [01:10<16:11,  7.83s/it]"
          ]
        },
        {
          "output_type": "stream",
          "name": "stdout",
          "text": [
            "Speech recognition failed for /content/drive/MyDrive/Voice/diagnosis_train/ADReSSo21/diagnosis/train/audio/ad/adrso192.wav: No librosa attribute output\n"
          ]
        },
        {
          "output_type": "stream",
          "name": "stderr",
          "text": [
            "\r  7%|▋         | 9/132 [01:20<17:30,  8.54s/it]"
          ]
        },
        {
          "output_type": "stream",
          "name": "stdout",
          "text": [
            "Speech recognition failed for /content/drive/MyDrive/Voice/diagnosis_train/ADReSSo21/diagnosis/train/audio/cn/adrso177.wav: No librosa attribute output\n"
          ]
        },
        {
          "output_type": "stream",
          "name": "stderr",
          "text": [
            "\r  8%|▊         | 10/132 [01:27<16:01,  7.88s/it]"
          ]
        },
        {
          "output_type": "stream",
          "name": "stdout",
          "text": [
            "Speech recognition failed for /content/drive/MyDrive/Voice/diagnosis_train/ADReSSo21/diagnosis/train/audio/cn/adrso160.wav: No librosa attribute output\n"
          ]
        },
        {
          "output_type": "stream",
          "name": "stderr",
          "text": [
            "\r  8%|▊         | 11/132 [01:31<13:48,  6.85s/it]"
          ]
        },
        {
          "output_type": "stream",
          "name": "stdout",
          "text": [
            "Speech recognition failed for /content/drive/MyDrive/Voice/diagnosis_train/ADReSSo21/diagnosis/train/audio/cn/adrso156.wav: No librosa attribute output\n"
          ]
        },
        {
          "output_type": "stream",
          "name": "stderr",
          "text": [
            "\r  9%|▉         | 12/132 [01:38<13:36,  6.80s/it]"
          ]
        },
        {
          "output_type": "stream",
          "name": "stdout",
          "text": [
            "Speech recognition failed for /content/drive/MyDrive/Voice/diagnosis_train/ADReSSo21/diagnosis/train/audio/cn/adrso180.wav: No librosa attribute output\n"
          ]
        },
        {
          "output_type": "stream",
          "name": "stderr",
          "text": [
            "\r 10%|▉         | 13/132 [01:43<12:27,  6.28s/it]"
          ]
        },
        {
          "output_type": "stream",
          "name": "stdout",
          "text": [
            "Speech recognition failed for /content/drive/MyDrive/Voice/diagnosis_train/ADReSSo21/diagnosis/train/audio/cn/adrso157.wav: No librosa attribute output\n"
          ]
        },
        {
          "output_type": "stream",
          "name": "stderr",
          "text": [
            "\r 11%|█         | 14/132 [01:50<12:35,  6.41s/it]"
          ]
        },
        {
          "output_type": "stream",
          "name": "stdout",
          "text": [
            "Speech recognition failed for /content/drive/MyDrive/Voice/diagnosis_train/ADReSSo21/diagnosis/train/audio/ad/adrso110.wav: No librosa attribute output\n"
          ]
        },
        {
          "output_type": "stream",
          "name": "stderr",
          "text": [
            "\r 11%|█▏        | 15/132 [01:56<12:26,  6.38s/it]"
          ]
        },
        {
          "output_type": "stream",
          "name": "stdout",
          "text": [
            "Speech recognition failed for /content/drive/MyDrive/Voice/diagnosis_train/ADReSSo21/diagnosis/train/audio/ad/adrso106.wav: No librosa attribute output\n"
          ]
        },
        {
          "output_type": "stream",
          "name": "stderr",
          "text": [
            "\r 12%|█▏        | 16/132 [02:03<12:54,  6.68s/it]"
          ]
        },
        {
          "output_type": "stream",
          "name": "stdout",
          "text": [
            "Speech recognition failed for /content/drive/MyDrive/Voice/diagnosis_train/ADReSSo21/diagnosis/train/audio/ad/adrso028.wav: No librosa attribute output\n"
          ]
        },
        {
          "output_type": "stream",
          "name": "stderr",
          "text": [
            "\r 13%|█▎        | 17/132 [02:09<12:02,  6.28s/it]"
          ]
        },
        {
          "output_type": "stream",
          "name": "stdout",
          "text": [
            "Speech recognition failed for /content/drive/MyDrive/Voice/diagnosis_train/ADReSSo21/diagnosis/train/audio/cn/adrso316.wav: No librosa attribute output\n"
          ]
        },
        {
          "output_type": "stream",
          "name": "stderr",
          "text": [
            "\r 14%|█▎        | 18/132 [02:15<11:59,  6.31s/it]"
          ]
        },
        {
          "output_type": "stream",
          "name": "stdout",
          "text": [
            "Speech recognition failed for /content/drive/MyDrive/Voice/diagnosis_train/ADReSSo21/diagnosis/train/audio/ad/adrso093.wav: No librosa attribute output\n"
          ]
        },
        {
          "output_type": "stream",
          "name": "stderr",
          "text": [
            "\r 14%|█▍        | 19/132 [02:21<11:41,  6.20s/it]"
          ]
        },
        {
          "output_type": "stream",
          "name": "stdout",
          "text": [
            "Speech recognition failed for /content/drive/MyDrive/Voice/diagnosis_train/ADReSSo21/diagnosis/train/audio/cn/adrso010.wav: No librosa attribute output\n"
          ]
        },
        {
          "output_type": "stream",
          "name": "stderr",
          "text": [
            "\r 15%|█▌        | 20/132 [02:24<09:45,  5.22s/it]"
          ]
        },
        {
          "output_type": "stream",
          "name": "stdout",
          "text": [
            "Speech recognition failed for /content/drive/MyDrive/Voice/diagnosis_train/ADReSSo21/diagnosis/train/audio/cn/adrso259.wav: No librosa attribute output\n"
          ]
        },
        {
          "output_type": "stream",
          "name": "stderr",
          "text": [
            "\r 16%|█▌        | 21/132 [02:32<10:59,  5.94s/it]"
          ]
        },
        {
          "output_type": "stream",
          "name": "stdout",
          "text": [
            "Speech recognition failed for /content/drive/MyDrive/Voice/diagnosis_train/ADReSSo21/diagnosis/train/audio/ad/adrso197.wav: No librosa attribute output\n"
          ]
        },
        {
          "output_type": "stream",
          "name": "stderr",
          "text": [
            "\r 17%|█▋        | 22/132 [02:39<11:25,  6.23s/it]"
          ]
        },
        {
          "output_type": "stream",
          "name": "stdout",
          "text": [
            "Speech recognition failed for /content/drive/MyDrive/Voice/diagnosis_train/ADReSSo21/diagnosis/train/audio/cn/adrso273.wav: No librosa attribute output\n"
          ]
        },
        {
          "output_type": "stream",
          "name": "stderr",
          "text": [
            "\r 17%|█▋        | 23/132 [02:45<11:14,  6.19s/it]"
          ]
        },
        {
          "output_type": "stream",
          "name": "stdout",
          "text": [
            "Speech recognition failed for /content/drive/MyDrive/Voice/diagnosis_train/ADReSSo21/diagnosis/train/audio/ad/adrso232.wav: No librosa attribute output\n"
          ]
        },
        {
          "output_type": "stream",
          "name": "stderr",
          "text": [
            "\r 18%|█▊        | 24/132 [02:51<11:22,  6.32s/it]"
          ]
        },
        {
          "output_type": "stream",
          "name": "stdout",
          "text": [
            "Speech recognition failed for /content/drive/MyDrive/Voice/diagnosis_train/ADReSSo21/diagnosis/train/audio/ad/adrso046.wav: No librosa attribute output\n"
          ]
        },
        {
          "output_type": "stream",
          "name": "stderr",
          "text": [
            "\r 19%|█▉        | 25/132 [03:00<12:45,  7.15s/it]"
          ]
        },
        {
          "output_type": "stream",
          "name": "stdout",
          "text": [
            "Speech recognition failed for /content/drive/MyDrive/Voice/diagnosis_train/ADReSSo21/diagnosis/train/audio/ad/adrso043.wav: No librosa attribute output\n"
          ]
        },
        {
          "output_type": "stream",
          "name": "stderr",
          "text": [
            "\r 20%|█▉        | 26/132 [03:11<14:21,  8.13s/it]"
          ]
        },
        {
          "output_type": "stream",
          "name": "stdout",
          "text": [
            "Speech recognition failed for /content/drive/MyDrive/Voice/diagnosis_train/ADReSSo21/diagnosis/train/audio/cn/adrso016.wav: No librosa attribute output\n"
          ]
        },
        {
          "output_type": "stream",
          "name": "stderr",
          "text": [
            "\r 20%|██        | 27/132 [03:15<12:12,  6.97s/it]"
          ]
        },
        {
          "output_type": "stream",
          "name": "stdout",
          "text": [
            "Speech recognition failed for /content/drive/MyDrive/Voice/diagnosis_train/ADReSSo21/diagnosis/train/audio/ad/adrso039.wav: No librosa attribute output\n"
          ]
        },
        {
          "output_type": "stream",
          "name": "stderr",
          "text": [
            "\r 21%|██        | 28/132 [03:21<11:35,  6.69s/it]"
          ]
        },
        {
          "output_type": "stream",
          "name": "stdout",
          "text": [
            "Speech recognition failed for /content/drive/MyDrive/Voice/diagnosis_train/ADReSSo21/diagnosis/train/audio/cn/adrso266.wav: No librosa attribute output\n"
          ]
        },
        {
          "output_type": "stream",
          "name": "stderr",
          "text": [
            "\r 22%|██▏       | 29/132 [03:27<11:09,  6.50s/it]"
          ]
        },
        {
          "output_type": "stream",
          "name": "stdout",
          "text": [
            "Speech recognition failed for /content/drive/MyDrive/Voice/diagnosis_train/ADReSSo21/diagnosis/train/audio/ad/adrso109.wav: No librosa attribute output\n"
          ]
        },
        {
          "output_type": "stream",
          "name": "stderr",
          "text": [
            "\r 23%|██▎       | 30/132 [03:34<11:23,  6.70s/it]"
          ]
        },
        {
          "output_type": "stream",
          "name": "stdout",
          "text": [
            "Speech recognition failed for /content/drive/MyDrive/Voice/diagnosis_train/ADReSSo21/diagnosis/train/audio/cn/adrso002.wav: No librosa attribute output\n"
          ]
        },
        {
          "output_type": "stream",
          "name": "stderr",
          "text": [
            "\r 23%|██▎       | 31/132 [03:41<11:29,  6.82s/it]"
          ]
        },
        {
          "output_type": "stream",
          "name": "stdout",
          "text": [
            "Speech recognition failed for /content/drive/MyDrive/Voice/diagnosis_train/ADReSSo21/diagnosis/train/audio/cn/adrso292.wav: No librosa attribute output\n"
          ]
        },
        {
          "output_type": "stream",
          "name": "stderr",
          "text": [
            "\r 24%|██▍       | 32/132 [03:46<10:05,  6.06s/it]"
          ]
        },
        {
          "output_type": "stream",
          "name": "stdout",
          "text": [
            "Speech recognition failed for /content/drive/MyDrive/Voice/diagnosis_train/ADReSSo21/diagnosis/train/audio/ad/adrso144.wav: No librosa attribute output\n"
          ]
        },
        {
          "output_type": "stream",
          "name": "stderr",
          "text": [
            "\r 25%|██▌       | 33/132 [03:53<10:35,  6.42s/it]"
          ]
        },
        {
          "output_type": "stream",
          "name": "stdout",
          "text": [
            "Speech recognition failed for /content/drive/MyDrive/Voice/diagnosis_train/ADReSSo21/diagnosis/train/audio/cn/adrso173.wav: No librosa attribute output\n"
          ]
        },
        {
          "output_type": "stream",
          "name": "stderr",
          "text": [
            "\r 26%|██▌       | 34/132 [03:59<10:23,  6.37s/it]"
          ]
        },
        {
          "output_type": "stream",
          "name": "stdout",
          "text": [
            "Speech recognition failed for /content/drive/MyDrive/Voice/diagnosis_train/ADReSSo21/diagnosis/train/audio/ad/adrso053.wav: No librosa attribute output\n"
          ]
        },
        {
          "output_type": "stream",
          "name": "stderr",
          "text": [
            "\r 27%|██▋       | 35/132 [04:14<14:24,  8.91s/it]"
          ]
        },
        {
          "output_type": "stream",
          "name": "stdout",
          "text": [
            "Speech recognition failed for /content/drive/MyDrive/Voice/diagnosis_train/ADReSSo21/diagnosis/train/audio/cn/adrso312.wav: No librosa attribute output\n"
          ]
        },
        {
          "output_type": "stream",
          "name": "stderr",
          "text": [
            "\r 27%|██▋       | 36/132 [04:21<13:28,  8.43s/it]"
          ]
        },
        {
          "output_type": "stream",
          "name": "stdout",
          "text": [
            "Speech recognition failed for /content/drive/MyDrive/Voice/diagnosis_train/ADReSSo21/diagnosis/train/audio/ad/adrso033.wav: No librosa attribute output\n"
          ]
        },
        {
          "output_type": "stream",
          "name": "stderr",
          "text": [
            "\r 28%|██▊       | 37/132 [04:28<12:27,  7.87s/it]"
          ]
        },
        {
          "output_type": "stream",
          "name": "stdout",
          "text": [
            "Speech recognition failed for /content/drive/MyDrive/Voice/diagnosis_train/ADReSSo21/diagnosis/train/audio/cn/adrso291.wav: No librosa attribute output\n"
          ]
        },
        {
          "output_type": "stream",
          "name": "stderr",
          "text": [
            "\r 29%|██▉       | 38/132 [04:35<12:09,  7.76s/it]"
          ]
        },
        {
          "output_type": "stream",
          "name": "stdout",
          "text": [
            "Speech recognition failed for /content/drive/MyDrive/Voice/diagnosis_train/ADReSSo21/diagnosis/train/audio/cn/adrso018.wav: No librosa attribute output\n"
          ]
        },
        {
          "output_type": "stream",
          "name": "stderr",
          "text": [
            "\r 30%|██▉       | 39/132 [04:41<10:50,  7.00s/it]"
          ]
        },
        {
          "output_type": "stream",
          "name": "stdout",
          "text": [
            "Speech recognition failed for /content/drive/MyDrive/Voice/diagnosis_train/ADReSSo21/diagnosis/train/audio/cn/adrso300.wav: No librosa attribute output\n"
          ]
        },
        {
          "output_type": "stream",
          "name": "stderr",
          "text": [
            "\r 30%|███       | 40/132 [04:44<09:18,  6.07s/it]"
          ]
        },
        {
          "output_type": "stream",
          "name": "stdout",
          "text": [
            "Speech recognition failed for /content/drive/MyDrive/Voice/diagnosis_train/ADReSSo21/diagnosis/train/audio/ad/adrso027.wav: No librosa attribute output\n"
          ]
        },
        {
          "output_type": "stream",
          "name": "stderr",
          "text": [
            "\r 31%|███       | 41/132 [04:52<09:55,  6.55s/it]"
          ]
        },
        {
          "output_type": "stream",
          "name": "stdout",
          "text": [
            "Speech recognition failed for /content/drive/MyDrive/Voice/diagnosis_train/ADReSSo21/diagnosis/train/audio/cn/adrso170.wav: No librosa attribute output\n"
          ]
        },
        {
          "output_type": "stream",
          "name": "stderr",
          "text": [
            "\r 32%|███▏      | 42/132 [04:56<08:43,  5.81s/it]"
          ]
        },
        {
          "output_type": "stream",
          "name": "stdout",
          "text": [
            "Speech recognition failed for /content/drive/MyDrive/Voice/diagnosis_train/ADReSSo21/diagnosis/train/audio/cn/adrso003.wav: No librosa attribute output\n"
          ]
        },
        {
          "output_type": "stream",
          "name": "stderr",
          "text": [
            "\r 33%|███▎      | 43/132 [05:01<07:59,  5.38s/it]"
          ]
        },
        {
          "output_type": "stream",
          "name": "stdout",
          "text": [
            "Speech recognition failed for /content/drive/MyDrive/Voice/diagnosis_train/ADReSSo21/diagnosis/train/audio/ad/adrso035.wav: No librosa attribute output\n"
          ]
        },
        {
          "output_type": "stream",
          "name": "stderr",
          "text": [
            "\r 33%|███▎      | 44/132 [05:07<08:32,  5.82s/it]"
          ]
        },
        {
          "output_type": "stream",
          "name": "stdout",
          "text": [
            "Speech recognition failed for /content/drive/MyDrive/Voice/diagnosis_train/ADReSSo21/diagnosis/train/audio/ad/adrso070.wav: No librosa attribute output\n"
          ]
        },
        {
          "output_type": "stream",
          "name": "stderr",
          "text": [
            "\r 34%|███▍      | 45/132 [05:13<08:25,  5.81s/it]"
          ]
        },
        {
          "output_type": "stream",
          "name": "stdout",
          "text": [
            "Speech recognition failed for /content/drive/MyDrive/Voice/diagnosis_train/ADReSSo21/diagnosis/train/audio/cn/adrso276.wav: No librosa attribute output\n"
          ]
        },
        {
          "output_type": "stream",
          "name": "stderr",
          "text": [
            "\r 35%|███▍      | 46/132 [05:26<11:28,  8.01s/it]"
          ]
        },
        {
          "output_type": "stream",
          "name": "stdout",
          "text": [
            "Speech recognition failed for /content/drive/MyDrive/Voice/diagnosis_train/ADReSSo21/diagnosis/train/audio/ad/adrso078.wav: No librosa attribute output\n"
          ]
        },
        {
          "output_type": "stream",
          "name": "stderr",
          "text": [
            "\r 36%|███▌      | 47/132 [05:38<12:43,  8.98s/it]"
          ]
        },
        {
          "output_type": "stream",
          "name": "stdout",
          "text": [
            "Speech recognition failed for /content/drive/MyDrive/Voice/diagnosis_train/ADReSSo21/diagnosis/train/audio/ad/adrso072.wav: No librosa attribute output\n"
          ]
        },
        {
          "output_type": "stream",
          "name": "stderr",
          "text": [
            "\r 36%|███▋      | 48/132 [05:43<10:59,  7.85s/it]"
          ]
        },
        {
          "output_type": "stream",
          "name": "stdout",
          "text": [
            "Speech recognition failed for /content/drive/MyDrive/Voice/diagnosis_train/ADReSSo21/diagnosis/train/audio/ad/adrso098.wav: No librosa attribute output\n"
          ]
        },
        {
          "output_type": "stream",
          "name": "stderr",
          "text": [
            "\r 37%|███▋      | 49/132 [05:49<10:16,  7.43s/it]"
          ]
        },
        {
          "output_type": "stream",
          "name": "stdout",
          "text": [
            "Speech recognition failed for /content/drive/MyDrive/Voice/diagnosis_train/ADReSSo21/diagnosis/train/audio/cn/adrso280.wav: No librosa attribute output\n"
          ]
        },
        {
          "output_type": "stream",
          "name": "stderr",
          "text": [
            "\r 38%|███▊      | 50/132 [05:58<10:42,  7.83s/it]"
          ]
        },
        {
          "output_type": "stream",
          "name": "stdout",
          "text": [
            "Speech recognition failed for /content/drive/MyDrive/Voice/diagnosis_train/ADReSSo21/diagnosis/train/audio/ad/adrso122.wav: No librosa attribute output\n"
          ]
        },
        {
          "output_type": "stream",
          "name": "stderr",
          "text": [
            "\r 39%|███▊      | 51/132 [06:03<09:18,  6.89s/it]"
          ]
        },
        {
          "output_type": "stream",
          "name": "stdout",
          "text": [
            "Speech recognition failed for /content/drive/MyDrive/Voice/diagnosis_train/ADReSSo21/diagnosis/train/audio/cn/adrso289.wav: No librosa attribute output\n"
          ]
        },
        {
          "output_type": "stream",
          "name": "stderr",
          "text": [
            "\r 39%|███▉      | 52/132 [06:10<09:07,  6.84s/it]"
          ]
        },
        {
          "output_type": "stream",
          "name": "stdout",
          "text": [
            "Speech recognition failed for /content/drive/MyDrive/Voice/diagnosis_train/ADReSSo21/diagnosis/train/audio/cn/adrso159.wav: No librosa attribute output\n"
          ]
        },
        {
          "output_type": "stream",
          "name": "stderr",
          "text": [
            "\r 40%|████      | 53/132 [06:14<08:16,  6.29s/it]"
          ]
        },
        {
          "output_type": "stream",
          "name": "stdout",
          "text": [
            "Speech recognition failed for /content/drive/MyDrive/Voice/diagnosis_train/ADReSSo21/diagnosis/train/audio/cn/adrso148.wav: No librosa attribute output\n"
          ]
        },
        {
          "output_type": "stream",
          "name": "stderr",
          "text": [
            "\r 41%|████      | 54/132 [06:23<08:56,  6.88s/it]"
          ]
        },
        {
          "output_type": "stream",
          "name": "stdout",
          "text": [
            "Speech recognition failed for /content/drive/MyDrive/Voice/diagnosis_train/ADReSSo21/diagnosis/train/audio/cn/adrso019.wav: No librosa attribute output\n"
          ]
        },
        {
          "output_type": "stream",
          "name": "stderr",
          "text": [
            "\r 42%|████▏     | 55/132 [06:28<08:05,  6.31s/it]"
          ]
        },
        {
          "output_type": "stream",
          "name": "stdout",
          "text": [
            "Speech recognition failed for /content/drive/MyDrive/Voice/diagnosis_train/ADReSSo21/diagnosis/train/audio/cn/adrso315.wav: No librosa attribute output\n"
          ]
        },
        {
          "output_type": "stream",
          "name": "stderr",
          "text": [
            "\r 42%|████▏     | 56/132 [06:33<07:41,  6.08s/it]"
          ]
        },
        {
          "output_type": "stream",
          "name": "stdout",
          "text": [
            "Speech recognition failed for /content/drive/MyDrive/Voice/diagnosis_train/ADReSSo21/diagnosis/train/audio/cn/adrso310.wav: No librosa attribute output\n"
          ]
        },
        {
          "output_type": "stream",
          "name": "stderr",
          "text": [
            "\r 43%|████▎     | 57/132 [06:39<07:33,  6.05s/it]"
          ]
        },
        {
          "output_type": "stream",
          "name": "stdout",
          "text": [
            "Speech recognition failed for /content/drive/MyDrive/Voice/diagnosis_train/ADReSSo21/diagnosis/train/audio/cn/adrso307.wav: No librosa attribute output\n"
          ]
        },
        {
          "output_type": "stream",
          "name": "stderr",
          "text": [
            "\r 44%|████▍     | 58/132 [06:45<07:19,  5.94s/it]"
          ]
        },
        {
          "output_type": "stream",
          "name": "stdout",
          "text": [
            "Speech recognition failed for /content/drive/MyDrive/Voice/diagnosis_train/ADReSSo21/diagnosis/train/audio/cn/adrso264.wav: No librosa attribute output\n"
          ]
        },
        {
          "output_type": "stream",
          "name": "stderr",
          "text": [
            "\r 45%|████▍     | 59/132 [06:52<07:48,  6.42s/it]"
          ]
        },
        {
          "output_type": "stream",
          "name": "stdout",
          "text": [
            "Speech recognition failed for /content/drive/MyDrive/Voice/diagnosis_train/ADReSSo21/diagnosis/train/audio/cn/adrso165.wav: No librosa attribute output\n"
          ]
        },
        {
          "output_type": "stream",
          "name": "stderr",
          "text": [
            "\r 45%|████▌     | 60/132 [06:57<07:10,  5.98s/it]"
          ]
        },
        {
          "output_type": "stream",
          "name": "stdout",
          "text": [
            "Speech recognition failed for /content/drive/MyDrive/Voice/diagnosis_train/ADReSSo21/diagnosis/train/audio/cn/adrso168.wav: No librosa attribute output\n"
          ]
        },
        {
          "output_type": "stream",
          "name": "stderr",
          "text": [
            "\r 46%|████▌     | 61/132 [07:06<07:51,  6.64s/it]"
          ]
        },
        {
          "output_type": "stream",
          "name": "stdout",
          "text": [
            "Speech recognition failed for /content/drive/MyDrive/Voice/diagnosis_train/ADReSSo21/diagnosis/train/audio/cn/adrso299.wav: No librosa attribute output\n"
          ]
        },
        {
          "output_type": "stream",
          "name": "stderr",
          "text": [
            "\r 47%|████▋     | 62/132 [07:18<09:44,  8.35s/it]"
          ]
        },
        {
          "output_type": "stream",
          "name": "stdout",
          "text": [
            "Speech recognition failed for /content/drive/MyDrive/Voice/diagnosis_train/ADReSSo21/diagnosis/train/audio/ad/adrso222.wav: No librosa attribute output\n"
          ]
        },
        {
          "output_type": "stream",
          "name": "stderr",
          "text": [
            "\r 48%|████▊     | 63/132 [07:24<08:46,  7.64s/it]"
          ]
        },
        {
          "output_type": "stream",
          "name": "stdout",
          "text": [
            "Speech recognition failed for /content/drive/MyDrive/Voice/diagnosis_train/ADReSSo21/diagnosis/train/audio/cn/adrso308.wav: No librosa attribute output\n"
          ]
        },
        {
          "output_type": "stream",
          "name": "stderr",
          "text": [
            "\r 48%|████▊     | 64/132 [07:30<08:14,  7.27s/it]"
          ]
        },
        {
          "output_type": "stream",
          "name": "stdout",
          "text": [
            "Speech recognition failed for /content/drive/MyDrive/Voice/diagnosis_train/ADReSSo21/diagnosis/train/audio/cn/adrso267.wav: No librosa attribute output\n"
          ]
        },
        {
          "output_type": "stream",
          "name": "stderr",
          "text": [
            "\r 49%|████▉     | 65/132 [07:36<07:34,  6.79s/it]"
          ]
        },
        {
          "output_type": "stream",
          "name": "stdout",
          "text": [
            "Speech recognition failed for /content/drive/MyDrive/Voice/diagnosis_train/ADReSSo21/diagnosis/train/audio/cn/adrso309.wav: No librosa attribute output\n"
          ]
        },
        {
          "output_type": "stream",
          "name": "stderr",
          "text": [
            "\r 50%|█████     | 66/132 [07:41<06:50,  6.22s/it]"
          ]
        },
        {
          "output_type": "stream",
          "name": "stdout",
          "text": [
            "Speech recognition failed for /content/drive/MyDrive/Voice/diagnosis_train/ADReSSo21/diagnosis/train/audio/cn/adrso265.wav: No librosa attribute output\n"
          ]
        },
        {
          "output_type": "stream",
          "name": "stderr",
          "text": [
            "\r 51%|█████     | 67/132 [07:50<07:49,  7.22s/it]"
          ]
        },
        {
          "output_type": "stream",
          "name": "stdout",
          "text": [
            "Speech recognition failed for /content/drive/MyDrive/Voice/diagnosis_train/ADReSSo21/diagnosis/train/audio/ad/adrso188.wav: No librosa attribute output\n"
          ]
        },
        {
          "output_type": "stream",
          "name": "stderr",
          "text": [
            "\r 52%|█████▏    | 68/132 [07:57<07:25,  6.96s/it]"
          ]
        },
        {
          "output_type": "stream",
          "name": "stdout",
          "text": [
            "Speech recognition failed for /content/drive/MyDrive/Voice/diagnosis_train/ADReSSo21/diagnosis/train/audio/ad/adrso190.wav: No librosa attribute output\n"
          ]
        },
        {
          "output_type": "stream",
          "name": "stderr",
          "text": [
            "\r 52%|█████▏    | 69/132 [08:07<08:10,  7.79s/it]"
          ]
        },
        {
          "output_type": "stream",
          "name": "stdout",
          "text": [
            "Speech recognition failed for /content/drive/MyDrive/Voice/diagnosis_train/ADReSSo21/diagnosis/train/audio/ad/adrso123.wav: No librosa attribute output\n"
          ]
        },
        {
          "output_type": "stream",
          "name": "stderr",
          "text": [
            "\r 53%|█████▎    | 70/132 [08:12<07:17,  7.05s/it]"
          ]
        },
        {
          "output_type": "stream",
          "name": "stdout",
          "text": [
            "Speech recognition failed for /content/drive/MyDrive/Voice/diagnosis_train/ADReSSo21/diagnosis/train/audio/ad/adrso112.wav: No librosa attribute output\n"
          ]
        },
        {
          "output_type": "stream",
          "name": "stderr",
          "text": [
            "\r 54%|█████▍    | 71/132 [08:18<06:53,  6.77s/it]"
          ]
        },
        {
          "output_type": "stream",
          "name": "stdout",
          "text": [
            "Speech recognition failed for /content/drive/MyDrive/Voice/diagnosis_train/ADReSSo21/diagnosis/train/audio/ad/adrso211.wav: No librosa attribute output\n"
          ]
        },
        {
          "output_type": "stream",
          "name": "stderr",
          "text": [
            "\r 55%|█████▍    | 72/132 [08:24<06:25,  6.42s/it]"
          ]
        },
        {
          "output_type": "stream",
          "name": "stdout",
          "text": [
            "Speech recognition failed for /content/drive/MyDrive/Voice/diagnosis_train/ADReSSo21/diagnosis/train/audio/cn/adrso296.wav: No librosa attribute output\n"
          ]
        },
        {
          "output_type": "stream",
          "name": "stderr",
          "text": [
            "\r 55%|█████▌    | 73/132 [08:33<07:19,  7.45s/it]"
          ]
        },
        {
          "output_type": "stream",
          "name": "stdout",
          "text": [
            "Speech recognition failed for /content/drive/MyDrive/Voice/diagnosis_train/ADReSSo21/diagnosis/train/audio/ad/adrso206.wav: No librosa attribute output\n"
          ]
        },
        {
          "output_type": "stream",
          "name": "stderr",
          "text": [
            "\r 56%|█████▌    | 74/132 [08:40<06:58,  7.22s/it]"
          ]
        },
        {
          "output_type": "stream",
          "name": "stdout",
          "text": [
            "Speech recognition failed for /content/drive/MyDrive/Voice/diagnosis_train/ADReSSo21/diagnosis/train/audio/ad/adrso128.wav: No librosa attribute output\n"
          ]
        },
        {
          "output_type": "stream",
          "name": "stderr",
          "text": [
            "\r 57%|█████▋    | 75/132 [08:48<07:09,  7.54s/it]"
          ]
        },
        {
          "output_type": "stream",
          "name": "stdout",
          "text": [
            "Speech recognition failed for /content/drive/MyDrive/Voice/diagnosis_train/ADReSSo21/diagnosis/train/audio/ad/adrso092.wav: No librosa attribute output\n"
          ]
        },
        {
          "output_type": "stream",
          "name": "stderr",
          "text": [
            "\r 58%|█████▊    | 76/132 [08:52<06:00,  6.43s/it]"
          ]
        },
        {
          "output_type": "stream",
          "name": "stdout",
          "text": [
            "Speech recognition failed for /content/drive/MyDrive/Voice/diagnosis_train/ADReSSo21/diagnosis/train/audio/ad/adrso116.wav: No librosa attribute output\n"
          ]
        },
        {
          "output_type": "stream",
          "name": "stderr",
          "text": [
            "\r 58%|█████▊    | 77/132 [09:02<06:44,  7.35s/it]"
          ]
        },
        {
          "output_type": "stream",
          "name": "stdout",
          "text": [
            "Speech recognition failed for /content/drive/MyDrive/Voice/diagnosis_train/ADReSSo21/diagnosis/train/audio/cn/adrso278.wav: No librosa attribute output\n"
          ]
        },
        {
          "output_type": "stream",
          "name": "stderr",
          "text": [
            "\r 59%|█████▉    | 78/132 [09:05<05:31,  6.13s/it]"
          ]
        },
        {
          "output_type": "stream",
          "name": "stdout",
          "text": [
            "Speech recognition failed for /content/drive/MyDrive/Voice/diagnosis_train/ADReSSo21/diagnosis/train/audio/ad/adrso045.wav: No librosa attribute output\n"
          ]
        },
        {
          "output_type": "stream",
          "name": "stderr",
          "text": [
            "\r 60%|█████▉    | 79/132 [09:21<08:05,  9.17s/it]"
          ]
        },
        {
          "output_type": "stream",
          "name": "stdout",
          "text": [
            "Speech recognition failed for /content/drive/MyDrive/Voice/diagnosis_train/ADReSSo21/diagnosis/train/audio/ad/adrso209.wav: No librosa attribute output\n"
          ]
        },
        {
          "output_type": "stream",
          "name": "stderr",
          "text": [
            "\r 61%|██████    | 80/132 [09:32<08:22,  9.66s/it]"
          ]
        },
        {
          "output_type": "stream",
          "name": "stdout",
          "text": [
            "Speech recognition failed for /content/drive/MyDrive/Voice/diagnosis_train/ADReSSo21/diagnosis/train/audio/ad/adrso049.wav: No librosa attribute output\n"
          ]
        },
        {
          "output_type": "stream",
          "name": "stderr",
          "text": [
            "\r 61%|██████▏   | 81/132 [09:45<08:57, 10.54s/it]"
          ]
        },
        {
          "output_type": "stream",
          "name": "stdout",
          "text": [
            "Speech recognition failed for /content/drive/MyDrive/Voice/diagnosis_train/ADReSSo21/diagnosis/train/audio/cn/adrso277.wav: No librosa attribute output\n"
          ]
        },
        {
          "output_type": "stream",
          "name": "stderr",
          "text": [
            "\r 62%|██████▏   | 82/132 [09:51<07:39,  9.20s/it]"
          ]
        },
        {
          "output_type": "stream",
          "name": "stdout",
          "text": [
            "Speech recognition failed for /content/drive/MyDrive/Voice/diagnosis_train/ADReSSo21/diagnosis/train/audio/cn/adrso161.wav: No librosa attribute output\n"
          ]
        },
        {
          "output_type": "stream",
          "name": "stderr",
          "text": [
            "\r 63%|██████▎   | 83/132 [09:55<06:24,  7.84s/it]"
          ]
        },
        {
          "output_type": "stream",
          "name": "stdout",
          "text": [
            "Speech recognition failed for /content/drive/MyDrive/Voice/diagnosis_train/ADReSSo21/diagnosis/train/audio/ad/adrso142.wav: No librosa attribute output\n"
          ]
        },
        {
          "output_type": "stream",
          "name": "stderr",
          "text": [
            "\r 64%|██████▎   | 84/132 [09:59<05:15,  6.58s/it]"
          ]
        },
        {
          "output_type": "stream",
          "name": "stdout",
          "text": [
            "Speech recognition failed for /content/drive/MyDrive/Voice/diagnosis_train/ADReSSo21/diagnosis/train/audio/cn/adrso164.wav: No librosa attribute output\n"
          ]
        },
        {
          "output_type": "stream",
          "name": "stderr",
          "text": [
            "\r 64%|██████▍   | 85/132 [10:09<05:52,  7.50s/it]"
          ]
        },
        {
          "output_type": "stream",
          "name": "stdout",
          "text": [
            "Speech recognition failed for /content/drive/MyDrive/Voice/diagnosis_train/ADReSSo21/diagnosis/train/audio/cn/adrso021.wav: No librosa attribute output\n"
          ]
        },
        {
          "output_type": "stream",
          "name": "stderr",
          "text": [
            "\r 65%|██████▌   | 86/132 [10:15<05:25,  7.08s/it]"
          ]
        },
        {
          "output_type": "stream",
          "name": "stdout",
          "text": [
            "Speech recognition failed for /content/drive/MyDrive/Voice/diagnosis_train/ADReSSo21/diagnosis/train/audio/cn/adrso172.wav: No librosa attribute output\n"
          ]
        },
        {
          "output_type": "stream",
          "name": "stderr",
          "text": [
            "\r 66%|██████▌   | 87/132 [10:23<05:35,  7.45s/it]"
          ]
        },
        {
          "output_type": "stream",
          "name": "stdout",
          "text": [
            "Speech recognition failed for /content/drive/MyDrive/Voice/diagnosis_train/ADReSSo21/diagnosis/train/audio/cn/adrso154.wav: No librosa attribute output\n"
          ]
        },
        {
          "output_type": "stream",
          "name": "stderr",
          "text": [
            "\r 67%|██████▋   | 88/132 [10:28<04:52,  6.64s/it]"
          ]
        },
        {
          "output_type": "stream",
          "name": "stdout",
          "text": [
            "Speech recognition failed for /content/drive/MyDrive/Voice/diagnosis_train/ADReSSo21/diagnosis/train/audio/ad/adrso054.wav: No librosa attribute output\n"
          ]
        },
        {
          "output_type": "stream",
          "name": "stderr",
          "text": [
            "\r 67%|██████▋   | 89/132 [10:41<06:04,  8.48s/it]"
          ]
        },
        {
          "output_type": "stream",
          "name": "stdout",
          "text": [
            "Speech recognition failed for /content/drive/MyDrive/Voice/diagnosis_train/ADReSSo21/diagnosis/train/audio/cn/adrso286.wav: No librosa attribute output\n"
          ]
        },
        {
          "output_type": "stream",
          "name": "stderr",
          "text": [
            "\r 68%|██████▊   | 90/132 [10:46<05:11,  7.41s/it]"
          ]
        },
        {
          "output_type": "stream",
          "name": "stdout",
          "text": [
            "Speech recognition failed for /content/drive/MyDrive/Voice/diagnosis_train/ADReSSo21/diagnosis/train/audio/cn/adrso153.wav: No librosa attribute output\n"
          ]
        },
        {
          "output_type": "stream",
          "name": "stderr",
          "text": [
            "\r 69%|██████▉   | 91/132 [10:54<05:22,  7.87s/it]"
          ]
        },
        {
          "output_type": "stream",
          "name": "stdout",
          "text": [
            "Speech recognition failed for /content/drive/MyDrive/Voice/diagnosis_train/ADReSSo21/diagnosis/train/audio/cn/adrso298.wav: No librosa attribute output\n"
          ]
        },
        {
          "output_type": "stream",
          "name": "stderr",
          "text": [
            "\r 70%|██████▉   | 92/132 [11:01<05:01,  7.53s/it]"
          ]
        },
        {
          "output_type": "stream",
          "name": "stdout",
          "text": [
            "Speech recognition failed for /content/drive/MyDrive/Voice/diagnosis_train/ADReSSo21/diagnosis/train/audio/ad/adrso134.wav: No librosa attribute output\n"
          ]
        },
        {
          "output_type": "stream",
          "name": "stderr",
          "text": [
            "\r 70%|███████   | 93/132 [11:06<04:21,  6.70s/it]"
          ]
        },
        {
          "output_type": "stream",
          "name": "stdout",
          "text": [
            "Speech recognition failed for /content/drive/MyDrive/Voice/diagnosis_train/ADReSSo21/diagnosis/train/audio/cn/adrso283.wav: No librosa attribute output\n"
          ]
        },
        {
          "output_type": "stream",
          "name": "stderr",
          "text": [
            "\r 71%|███████   | 94/132 [11:13<04:15,  6.72s/it]"
          ]
        },
        {
          "output_type": "stream",
          "name": "stdout",
          "text": [
            "Speech recognition failed for /content/drive/MyDrive/Voice/diagnosis_train/ADReSSo21/diagnosis/train/audio/ad/adrso202.wav: No librosa attribute output\n"
          ]
        },
        {
          "output_type": "stream",
          "name": "stderr",
          "text": [
            "\r 72%|███████▏  | 95/132 [11:26<05:26,  8.83s/it]"
          ]
        },
        {
          "output_type": "stream",
          "name": "stdout",
          "text": [
            "Speech recognition failed for /content/drive/MyDrive/Voice/diagnosis_train/ADReSSo21/diagnosis/train/audio/ad/adrso234.wav: No librosa attribute output\n"
          ]
        },
        {
          "output_type": "stream",
          "name": "stderr",
          "text": [
            "\r 73%|███████▎  | 96/132 [11:33<04:57,  8.27s/it]"
          ]
        },
        {
          "output_type": "stream",
          "name": "stdout",
          "text": [
            "Speech recognition failed for /content/drive/MyDrive/Voice/diagnosis_train/ADReSSo21/diagnosis/train/audio/ad/adrso223.wav: No librosa attribute output\n"
          ]
        },
        {
          "output_type": "stream",
          "name": "stderr",
          "text": [
            "\r 73%|███████▎  | 97/132 [11:41<04:43,  8.11s/it]"
          ]
        },
        {
          "output_type": "stream",
          "name": "stdout",
          "text": [
            "Speech recognition failed for /content/drive/MyDrive/Voice/diagnosis_train/ADReSSo21/diagnosis/train/audio/ad/adrso200.wav: No librosa attribute output\n"
          ]
        },
        {
          "output_type": "stream",
          "name": "stderr",
          "text": [
            "\r 74%|███████▍  | 98/132 [11:53<05:12,  9.19s/it]"
          ]
        },
        {
          "output_type": "stream",
          "name": "stdout",
          "text": [
            "Speech recognition failed for /content/drive/MyDrive/Voice/diagnosis_train/ADReSSo21/diagnosis/train/audio/ad/adrso245.wav: No librosa attribute output\n"
          ]
        },
        {
          "output_type": "stream",
          "name": "stderr",
          "text": [
            "\r 75%|███████▌  | 99/132 [11:57<04:14,  7.70s/it]"
          ]
        },
        {
          "output_type": "stream",
          "name": "stdout",
          "text": [
            "Speech recognition failed for /content/drive/MyDrive/Voice/diagnosis_train/ADReSSo21/diagnosis/train/audio/ad/adrso233.wav: No librosa attribute output\n"
          ]
        },
        {
          "output_type": "stream",
          "name": "stderr",
          "text": [
            "\r 76%|███████▌  | 100/132 [12:05<04:08,  7.77s/it]"
          ]
        },
        {
          "output_type": "stream",
          "name": "stdout",
          "text": [
            "Speech recognition failed for /content/drive/MyDrive/Voice/diagnosis_train/ADReSSo21/diagnosis/train/audio/cn/adrso162.wav: No librosa attribute output\n"
          ]
        },
        {
          "output_type": "stream",
          "name": "stderr",
          "text": [
            "\r 77%|███████▋  | 101/132 [12:11<03:45,  7.26s/it]"
          ]
        },
        {
          "output_type": "stream",
          "name": "stdout",
          "text": [
            "Speech recognition failed for /content/drive/MyDrive/Voice/diagnosis_train/ADReSSo21/diagnosis/train/audio/ad/adrso249.wav: No librosa attribute output\n"
          ]
        },
        {
          "output_type": "stream",
          "name": "stderr",
          "text": [
            "\r 77%|███████▋  | 102/132 [12:16<03:18,  6.62s/it]"
          ]
        },
        {
          "output_type": "stream",
          "name": "stdout",
          "text": [
            "Speech recognition failed for /content/drive/MyDrive/Voice/diagnosis_train/ADReSSo21/diagnosis/train/audio/ad/adrso056.wav: No librosa attribute output\n"
          ]
        },
        {
          "output_type": "stream",
          "name": "stderr",
          "text": [
            "\r 78%|███████▊  | 103/132 [12:38<05:20, 11.05s/it]"
          ]
        },
        {
          "output_type": "stream",
          "name": "stdout",
          "text": [
            "Speech recognition failed for /content/drive/MyDrive/Voice/diagnosis_train/ADReSSo21/diagnosis/train/audio/ad/adrso055.wav: No librosa attribute output\n"
          ]
        },
        {
          "output_type": "stream",
          "name": "stderr",
          "text": [
            "\r 79%|███████▉  | 104/132 [12:46<04:46, 10.22s/it]"
          ]
        },
        {
          "output_type": "stream",
          "name": "stdout",
          "text": [
            "Speech recognition failed for /content/drive/MyDrive/Voice/diagnosis_train/ADReSSo21/diagnosis/train/audio/ad/adrso059.wav: No librosa attribute output\n"
          ]
        },
        {
          "output_type": "stream",
          "name": "stderr",
          "text": [
            "\r 80%|███████▉  | 105/132 [12:50<03:47,  8.42s/it]"
          ]
        },
        {
          "output_type": "stream",
          "name": "stdout",
          "text": [
            "Speech recognition failed for /content/drive/MyDrive/Voice/diagnosis_train/ADReSSo21/diagnosis/train/audio/cn/adrso023.wav: No librosa attribute output\n"
          ]
        },
        {
          "output_type": "stream",
          "name": "stderr",
          "text": [
            "\r 80%|████████  | 106/132 [12:56<03:18,  7.63s/it]"
          ]
        },
        {
          "output_type": "stream",
          "name": "stdout",
          "text": [
            "Speech recognition failed for /content/drive/MyDrive/Voice/diagnosis_train/ADReSSo21/diagnosis/train/audio/ad/adrso253.wav: No librosa attribute output\n"
          ]
        },
        {
          "output_type": "stream",
          "name": "stderr",
          "text": [
            "\r 81%|████████  | 107/132 [13:02<02:57,  7.09s/it]"
          ]
        },
        {
          "output_type": "stream",
          "name": "stdout",
          "text": [
            "Speech recognition failed for /content/drive/MyDrive/Voice/diagnosis_train/ADReSSo21/diagnosis/train/audio/cn/adrso186.wav: No librosa attribute output\n"
          ]
        },
        {
          "output_type": "stream",
          "name": "stderr",
          "text": [
            "\r 82%|████████▏ | 108/132 [13:06<02:27,  6.15s/it]"
          ]
        },
        {
          "output_type": "stream",
          "name": "stdout",
          "text": [
            "Speech recognition failed for /content/drive/MyDrive/Voice/diagnosis_train/ADReSSo21/diagnosis/train/audio/ad/adrso031.wav: No librosa attribute output\n"
          ]
        },
        {
          "output_type": "stream",
          "name": "stderr",
          "text": [
            "\r 83%|████████▎ | 109/132 [13:13<02:31,  6.59s/it]"
          ]
        },
        {
          "output_type": "stream",
          "name": "stdout",
          "text": [
            "Speech recognition failed for /content/drive/MyDrive/Voice/diagnosis_train/ADReSSo21/diagnosis/train/audio/ad/adrso224.wav: No librosa attribute output\n"
          ]
        },
        {
          "output_type": "stream",
          "name": "stderr",
          "text": [
            "\r 83%|████████▎ | 110/132 [13:19<02:17,  6.26s/it]"
          ]
        },
        {
          "output_type": "stream",
          "name": "stdout",
          "text": [
            "Speech recognition failed for /content/drive/MyDrive/Voice/diagnosis_train/ADReSSo21/diagnosis/train/audio/ad/adrso036.wav: No librosa attribute output\n"
          ]
        },
        {
          "output_type": "stream",
          "name": "stderr",
          "text": [
            "\r 84%|████████▍ | 111/132 [13:24<02:04,  5.94s/it]"
          ]
        },
        {
          "output_type": "stream",
          "name": "stdout",
          "text": [
            "Speech recognition failed for /content/drive/MyDrive/Voice/diagnosis_train/ADReSSo21/diagnosis/train/audio/cn/adrso158.wav: No librosa attribute output\n"
          ]
        },
        {
          "output_type": "stream",
          "name": "stderr",
          "text": [
            "\r 85%|████████▍ | 112/132 [13:30<01:58,  5.91s/it]"
          ]
        },
        {
          "output_type": "stream",
          "name": "stdout",
          "text": [
            "Speech recognition failed for /content/drive/MyDrive/Voice/diagnosis_train/ADReSSo21/diagnosis/train/audio/ad/adrso090.wav: No librosa attribute output\n"
          ]
        },
        {
          "output_type": "stream",
          "name": "stderr",
          "text": [
            "\r 86%|████████▌ | 113/132 [13:38<02:05,  6.63s/it]"
          ]
        },
        {
          "output_type": "stream",
          "name": "stdout",
          "text": [
            "Speech recognition failed for /content/drive/MyDrive/Voice/diagnosis_train/ADReSSo21/diagnosis/train/audio/cn/adrso302.wav: No librosa attribute output\n"
          ]
        },
        {
          "output_type": "stream",
          "name": "stderr",
          "text": [
            "\r 86%|████████▋ | 114/132 [13:45<02:02,  6.79s/it]"
          ]
        },
        {
          "output_type": "stream",
          "name": "stdout",
          "text": [
            "Speech recognition failed for /content/drive/MyDrive/Voice/diagnosis_train/ADReSSo21/diagnosis/train/audio/ad/adrso060.wav: No librosa attribute output\n"
          ]
        },
        {
          "output_type": "stream",
          "name": "stderr",
          "text": [
            "\r 87%|████████▋ | 115/132 [13:52<01:53,  6.66s/it]"
          ]
        },
        {
          "output_type": "stream",
          "name": "stdout",
          "text": [
            "Speech recognition failed for /content/drive/MyDrive/Voice/diagnosis_train/ADReSSo21/diagnosis/train/audio/ad/adrso068.wav: No librosa attribute output\n"
          ]
        },
        {
          "output_type": "stream",
          "name": "stderr",
          "text": [
            "\r 88%|████████▊ | 116/132 [13:56<01:36,  6.01s/it]"
          ]
        },
        {
          "output_type": "stream",
          "name": "stdout",
          "text": [
            "Speech recognition failed for /content/drive/MyDrive/Voice/diagnosis_train/ADReSSo21/diagnosis/train/audio/ad/adrso071.wav: No librosa attribute output\n"
          ]
        },
        {
          "output_type": "stream",
          "name": "stderr",
          "text": [
            "\r 89%|████████▊ | 117/132 [14:02<01:27,  5.81s/it]"
          ]
        },
        {
          "output_type": "stream",
          "name": "stdout",
          "text": [
            "Speech recognition failed for /content/drive/MyDrive/Voice/diagnosis_train/ADReSSo21/diagnosis/train/audio/ad/adrso025.wav: No librosa attribute output\n"
          ]
        },
        {
          "output_type": "stream",
          "name": "stderr",
          "text": [
            "\r 89%|████████▉ | 118/132 [14:17<02:03,  8.84s/it]"
          ]
        },
        {
          "output_type": "stream",
          "name": "stdout",
          "text": [
            "Speech recognition failed for /content/drive/MyDrive/Voice/diagnosis_train/ADReSSo21/diagnosis/train/audio/ad/adrso215.wav: No librosa attribute output\n"
          ]
        },
        {
          "output_type": "stream",
          "name": "stderr",
          "text": [
            "\r 90%|█████████ | 119/132 [14:25<01:48,  8.33s/it]"
          ]
        },
        {
          "output_type": "stream",
          "name": "stdout",
          "text": [
            "Speech recognition failed for /content/drive/MyDrive/Voice/diagnosis_train/ADReSSo21/diagnosis/train/audio/cn/adrso005.wav: No librosa attribute output\n"
          ]
        },
        {
          "output_type": "stream",
          "name": "stderr",
          "text": [
            "\r 91%|█████████ | 120/132 [14:31<01:31,  7.64s/it]"
          ]
        },
        {
          "output_type": "stream",
          "name": "stdout",
          "text": [
            "Speech recognition failed for /content/drive/MyDrive/Voice/diagnosis_train/ADReSSo21/diagnosis/train/audio/ad/adrso032.wav: No librosa attribute output\n"
          ]
        },
        {
          "output_type": "stream",
          "name": "stderr",
          "text": [
            "\r 92%|█████████▏| 121/132 [14:38<01:22,  7.51s/it]"
          ]
        },
        {
          "output_type": "stream",
          "name": "stdout",
          "text": [
            "Speech recognition failed for /content/drive/MyDrive/Voice/diagnosis_train/ADReSSo21/diagnosis/train/audio/ad/adrso074.wav: No librosa attribute output\n"
          ]
        },
        {
          "output_type": "stream",
          "name": "stderr",
          "text": [
            "\r 92%|█████████▏| 122/132 [14:47<01:18,  7.87s/it]"
          ]
        },
        {
          "output_type": "stream",
          "name": "stdout",
          "text": [
            "Speech recognition failed for /content/drive/MyDrive/Voice/diagnosis_train/ADReSSo21/diagnosis/train/audio/ad/adrso075.wav: No librosa attribute output\n"
          ]
        },
        {
          "output_type": "stream",
          "name": "stderr",
          "text": [
            "\r 93%|█████████▎| 123/132 [14:51<01:00,  6.71s/it]"
          ]
        },
        {
          "output_type": "stream",
          "name": "stdout",
          "text": [
            "Speech recognition failed for /content/drive/MyDrive/Voice/diagnosis_train/ADReSSo21/diagnosis/train/audio/ad/adrso077.wav: No librosa attribute output\n"
          ]
        },
        {
          "output_type": "stream",
          "name": "stderr",
          "text": [
            "\r 94%|█████████▍| 124/132 [14:55<00:48,  6.10s/it]"
          ]
        },
        {
          "output_type": "stream",
          "name": "stdout",
          "text": [
            "Speech recognition failed for /content/drive/MyDrive/Voice/diagnosis_train/ADReSSo21/diagnosis/train/audio/cn/adrso012.wav: No librosa attribute output\n"
          ]
        },
        {
          "output_type": "stream",
          "name": "stderr",
          "text": [
            "\r 95%|█████████▍| 125/132 [15:02<00:43,  6.23s/it]"
          ]
        },
        {
          "output_type": "stream",
          "name": "stdout",
          "text": [
            "Speech recognition failed for /content/drive/MyDrive/Voice/diagnosis_train/ADReSSo21/diagnosis/train/audio/cn/adrso167.wav: No librosa attribute output\n"
          ]
        },
        {
          "output_type": "stream",
          "name": "stderr",
          "text": [
            "\r 95%|█████████▌| 126/132 [15:09<00:38,  6.41s/it]"
          ]
        },
        {
          "output_type": "stream",
          "name": "stdout",
          "text": [
            "Speech recognition failed for /content/drive/MyDrive/Voice/diagnosis_train/ADReSSo21/diagnosis/train/audio/ad/adrso220.wav: No librosa attribute output\n"
          ]
        },
        {
          "output_type": "stream",
          "name": "stderr",
          "text": [
            "\r 96%|█████████▌| 127/132 [15:19<00:38,  7.75s/it]"
          ]
        },
        {
          "output_type": "stream",
          "name": "stdout",
          "text": [
            "Speech recognition failed for /content/drive/MyDrive/Voice/diagnosis_train/ADReSSo21/diagnosis/train/audio/ad/adrso047.wav: No librosa attribute output\n"
          ]
        },
        {
          "output_type": "stream",
          "name": "stderr",
          "text": [
            "\r 97%|█████████▋| 128/132 [15:25<00:28,  7.00s/it]"
          ]
        },
        {
          "output_type": "stream",
          "name": "stdout",
          "text": [
            "Speech recognition failed for /content/drive/MyDrive/Voice/diagnosis_train/ADReSSo21/diagnosis/train/audio/ad/adrso189.wav: No librosa attribute output\n"
          ]
        },
        {
          "output_type": "stream",
          "name": "stderr",
          "text": [
            "\r 98%|█████████▊| 129/132 [15:31<00:20,  6.70s/it]"
          ]
        },
        {
          "output_type": "stream",
          "name": "stdout",
          "text": [
            "Speech recognition failed for /content/drive/MyDrive/Voice/diagnosis_train/ADReSSo21/diagnosis/train/audio/cn/adrso007.wav: No librosa attribute output\n"
          ]
        },
        {
          "output_type": "stream",
          "name": "stderr",
          "text": [
            "\r 98%|█████████▊| 130/132 [15:34<00:11,  5.62s/it]"
          ]
        },
        {
          "output_type": "stream",
          "name": "stdout",
          "text": [
            "Speech recognition failed for /content/drive/MyDrive/Voice/diagnosis_train/ADReSSo21/diagnosis/train/audio/ad/adrso216.wav: No librosa attribute output\n"
          ]
        },
        {
          "output_type": "stream",
          "name": "stderr",
          "text": [
            "\r 99%|█████████▉| 131/132 [15:51<00:09,  9.10s/it]"
          ]
        },
        {
          "output_type": "stream",
          "name": "stdout",
          "text": [
            "Speech recognition failed for /content/drive/MyDrive/Voice/diagnosis_train/ADReSSo21/diagnosis/train/audio/cn/adrso263.wav: No librosa attribute output\n"
          ]
        },
        {
          "output_type": "stream",
          "name": "stderr",
          "text": [
            "100%|██████████| 132/132 [15:57<00:00,  7.25s/it]\n"
          ]
        },
        {
          "output_type": "stream",
          "name": "stdout",
          "text": [
            "Extracting features...\n"
          ]
        },
        {
          "output_type": "stream",
          "name": "stderr",
          "text": [
            "\r  0%|          | 0/34 [00:00<?, ?it/s]"
          ]
        },
        {
          "output_type": "stream",
          "name": "stdout",
          "text": [
            "Speech recognition failed for /content/drive/MyDrive/Voice/diagnosis_train/ADReSSo21/diagnosis/train/audio/ad/adrso246.wav: No librosa attribute output\n"
          ]
        },
        {
          "output_type": "stream",
          "name": "stderr",
          "text": [
            "\r  3%|▎         | 1/34 [00:04<02:44,  4.97s/it]"
          ]
        },
        {
          "output_type": "stream",
          "name": "stdout",
          "text": [
            "Speech recognition failed for /content/drive/MyDrive/Voice/diagnosis_train/ADReSSo21/diagnosis/train/audio/cn/adrso260.wav: No librosa attribute output\n"
          ]
        },
        {
          "output_type": "stream",
          "name": "stderr",
          "text": [
            "\r  6%|▌         | 2/34 [00:10<02:46,  5.21s/it]"
          ]
        },
        {
          "output_type": "stream",
          "name": "stdout",
          "text": [
            "Speech recognition failed for /content/drive/MyDrive/Voice/diagnosis_train/ADReSSo21/diagnosis/train/audio/ad/adrso244.wav: No librosa attribute output\n"
          ]
        },
        {
          "output_type": "stream",
          "name": "stderr",
          "text": [
            "\r  9%|▉         | 3/34 [00:17<03:12,  6.20s/it]"
          ]
        },
        {
          "output_type": "stream",
          "name": "stdout",
          "text": [
            "Speech recognition failed for /content/drive/MyDrive/Voice/diagnosis_train/ADReSSo21/diagnosis/train/audio/ad/adrso228.wav: No librosa attribute output\n"
          ]
        },
        {
          "output_type": "stream",
          "name": "stderr",
          "text": [
            "\r 12%|█▏        | 4/34 [00:23<03:05,  6.18s/it]"
          ]
        },
        {
          "output_type": "stream",
          "name": "stdout",
          "text": [
            "Speech recognition failed for /content/drive/MyDrive/Voice/diagnosis_train/ADReSSo21/diagnosis/train/audio/ad/adrso198.wav: No librosa attribute output\n"
          ]
        },
        {
          "output_type": "stream",
          "name": "stderr",
          "text": [
            "\r 15%|█▍        | 5/34 [00:33<03:37,  7.50s/it]"
          ]
        },
        {
          "output_type": "stream",
          "name": "stdout",
          "text": [
            "Speech recognition failed for /content/drive/MyDrive/Voice/diagnosis_train/ADReSSo21/diagnosis/train/audio/ad/adrso141.wav: No librosa attribute output\n"
          ]
        },
        {
          "output_type": "stream",
          "name": "stderr",
          "text": [
            "\r 18%|█▊        | 6/34 [00:38<03:05,  6.64s/it]"
          ]
        },
        {
          "output_type": "stream",
          "name": "stdout",
          "text": [
            "Speech recognition failed for /content/drive/MyDrive/Voice/diagnosis_train/ADReSSo21/diagnosis/train/audio/cn/adrso281.wav: No librosa attribute output\n"
          ]
        },
        {
          "output_type": "stream",
          "name": "stderr",
          "text": [
            "\r 21%|██        | 7/34 [00:45<02:58,  6.61s/it]"
          ]
        },
        {
          "output_type": "stream",
          "name": "stdout",
          "text": [
            "Speech recognition failed for /content/drive/MyDrive/Voice/diagnosis_train/ADReSSo21/diagnosis/train/audio/ad/adrso130.wav: No librosa attribute output\n"
          ]
        },
        {
          "output_type": "stream",
          "name": "stderr",
          "text": [
            "\r 24%|██▎       | 8/34 [00:48<02:27,  5.66s/it]"
          ]
        },
        {
          "output_type": "stream",
          "name": "stdout",
          "text": [
            "Speech recognition failed for /content/drive/MyDrive/Voice/diagnosis_train/ADReSSo21/diagnosis/train/audio/ad/adrso089.wav: No librosa attribute output\n"
          ]
        },
        {
          "output_type": "stream",
          "name": "stderr",
          "text": [
            "\r 26%|██▋       | 9/34 [00:54<02:20,  5.60s/it]"
          ]
        },
        {
          "output_type": "stream",
          "name": "stdout",
          "text": [
            "Speech recognition failed for /content/drive/MyDrive/Voice/diagnosis_train/ADReSSo21/diagnosis/train/audio/cn/adrso151.wav: No librosa attribute output\n"
          ]
        },
        {
          "output_type": "stream",
          "name": "stderr",
          "text": [
            "\r 29%|██▉       | 10/34 [00:59<02:12,  5.53s/it]"
          ]
        },
        {
          "output_type": "stream",
          "name": "stdout",
          "text": [
            "Speech recognition failed for /content/drive/MyDrive/Voice/diagnosis_train/ADReSSo21/diagnosis/train/audio/ad/adrso237.wav: No librosa attribute output\n"
          ]
        },
        {
          "output_type": "stream",
          "name": "stderr",
          "text": [
            "\r 32%|███▏      | 11/34 [01:05<02:06,  5.50s/it]"
          ]
        },
        {
          "output_type": "stream",
          "name": "stdout",
          "text": [
            "Speech recognition failed for /content/drive/MyDrive/Voice/diagnosis_train/ADReSSo21/diagnosis/train/audio/ad/adrso205.wav: No librosa attribute output\n"
          ]
        },
        {
          "output_type": "stream",
          "name": "stderr",
          "text": [
            "\r 35%|███▌      | 12/34 [01:11<02:08,  5.82s/it]"
          ]
        },
        {
          "output_type": "stream",
          "name": "stdout",
          "text": [
            "Speech recognition failed for /content/drive/MyDrive/Voice/diagnosis_train/ADReSSo21/diagnosis/train/audio/cn/adrso152.wav: No librosa attribute output\n"
          ]
        },
        {
          "output_type": "stream",
          "name": "stderr",
          "text": [
            "\r 38%|███▊      | 13/34 [01:17<01:59,  5.71s/it]"
          ]
        },
        {
          "output_type": "stream",
          "name": "stdout",
          "text": [
            "Speech recognition failed for /content/drive/MyDrive/Voice/diagnosis_train/ADReSSo21/diagnosis/train/audio/ad/adrso126.wav: No librosa attribute output\n"
          ]
        },
        {
          "output_type": "stream",
          "name": "stderr",
          "text": [
            "\r 41%|████      | 14/34 [01:24<02:05,  6.27s/it]"
          ]
        },
        {
          "output_type": "stream",
          "name": "stdout",
          "text": [
            "Speech recognition failed for /content/drive/MyDrive/Voice/diagnosis_train/ADReSSo21/diagnosis/train/audio/cn/adrso261.wav: No librosa attribute output\n"
          ]
        },
        {
          "output_type": "stream",
          "name": "stderr",
          "text": [
            "\r 44%|████▍     | 15/34 [01:35<02:24,  7.60s/it]"
          ]
        },
        {
          "output_type": "stream",
          "name": "stdout",
          "text": [
            "Speech recognition failed for /content/drive/MyDrive/Voice/diagnosis_train/ADReSSo21/diagnosis/train/audio/cn/adrso182.wav: No librosa attribute output\n"
          ]
        },
        {
          "output_type": "stream",
          "name": "stderr",
          "text": [
            "\r 47%|████▋     | 16/34 [01:42<02:11,  7.33s/it]"
          ]
        },
        {
          "output_type": "stream",
          "name": "stdout",
          "text": [
            "Speech recognition failed for /content/drive/MyDrive/Voice/diagnosis_train/ADReSSo21/diagnosis/train/audio/ad/adrso236.wav: No librosa attribute output\n"
          ]
        },
        {
          "output_type": "stream",
          "name": "stderr",
          "text": [
            "\r 50%|█████     | 17/34 [01:47<01:56,  6.83s/it]"
          ]
        },
        {
          "output_type": "stream",
          "name": "stdout",
          "text": [
            "Speech recognition failed for /content/drive/MyDrive/Voice/diagnosis_train/ADReSSo21/diagnosis/train/audio/ad/adrso250.wav: No librosa attribute output\n"
          ]
        },
        {
          "output_type": "stream",
          "name": "stderr",
          "text": [
            "\r 53%|█████▎    | 18/34 [01:54<01:50,  6.91s/it]"
          ]
        },
        {
          "output_type": "stream",
          "name": "stdout",
          "text": [
            "Speech recognition failed for /content/drive/MyDrive/Voice/diagnosis_train/ADReSSo21/diagnosis/train/audio/cn/adrso015.wav: No librosa attribute output\n"
          ]
        },
        {
          "output_type": "stream",
          "name": "stderr",
          "text": [
            "\r 56%|█████▌    | 19/34 [02:02<01:46,  7.09s/it]"
          ]
        },
        {
          "output_type": "stream",
          "name": "stdout",
          "text": [
            "Speech recognition failed for /content/drive/MyDrive/Voice/diagnosis_train/ADReSSo21/diagnosis/train/audio/cn/adrso270.wav: No librosa attribute output\n"
          ]
        },
        {
          "output_type": "stream",
          "name": "stderr",
          "text": [
            "\r 59%|█████▉    | 20/34 [02:08<01:37,  6.95s/it]"
          ]
        },
        {
          "output_type": "stream",
          "name": "stdout",
          "text": [
            "Speech recognition failed for /content/drive/MyDrive/Voice/diagnosis_train/ADReSSo21/diagnosis/train/audio/ad/adrso218.wav: No librosa attribute output\n"
          ]
        },
        {
          "output_type": "stream",
          "name": "stderr",
          "text": [
            "\r 62%|██████▏   | 21/34 [02:15<01:27,  6.76s/it]"
          ]
        },
        {
          "output_type": "stream",
          "name": "stdout",
          "text": [
            "Speech recognition failed for /content/drive/MyDrive/Voice/diagnosis_train/ADReSSo21/diagnosis/train/audio/cn/adrso008.wav: No librosa attribute output\n"
          ]
        },
        {
          "output_type": "stream",
          "name": "stderr",
          "text": [
            "\r 65%|██████▍   | 22/34 [02:20<01:14,  6.21s/it]"
          ]
        },
        {
          "output_type": "stream",
          "name": "stdout",
          "text": [
            "Speech recognition failed for /content/drive/MyDrive/Voice/diagnosis_train/ADReSSo21/diagnosis/train/audio/ad/adrso138.wav: No librosa attribute output\n"
          ]
        },
        {
          "output_type": "stream",
          "name": "stderr",
          "text": [
            "\r 68%|██████▊   | 23/34 [02:26<01:06,  6.07s/it]"
          ]
        },
        {
          "output_type": "stream",
          "name": "stdout",
          "text": [
            "Speech recognition failed for /content/drive/MyDrive/Voice/diagnosis_train/ADReSSo21/diagnosis/train/audio/ad/adrso063.wav: No librosa attribute output\n"
          ]
        },
        {
          "output_type": "stream",
          "name": "stderr",
          "text": [
            "\r 71%|███████   | 24/34 [02:31<01:00,  6.04s/it]"
          ]
        },
        {
          "output_type": "stream",
          "name": "stdout",
          "text": [
            "Speech recognition failed for /content/drive/MyDrive/Voice/diagnosis_train/ADReSSo21/diagnosis/train/audio/ad/adrso024.wav: No librosa attribute output\n"
          ]
        },
        {
          "output_type": "stream",
          "name": "stderr",
          "text": [
            "\r 74%|███████▎  | 25/34 [02:49<01:26,  9.56s/it]"
          ]
        },
        {
          "output_type": "stream",
          "name": "stdout",
          "text": [
            "Speech recognition failed for /content/drive/MyDrive/Voice/diagnosis_train/ADReSSo21/diagnosis/train/audio/ad/adrso229.wav: No librosa attribute output\n"
          ]
        },
        {
          "output_type": "stream",
          "name": "stderr",
          "text": [
            "\r 76%|███████▋  | 26/34 [02:58<01:15,  9.43s/it]"
          ]
        },
        {
          "output_type": "stream",
          "name": "stdout",
          "text": [
            "Speech recognition failed for /content/drive/MyDrive/Voice/diagnosis_train/ADReSSo21/diagnosis/train/audio/cn/adrso169.wav: No librosa attribute output\n"
          ]
        },
        {
          "output_type": "stream",
          "name": "stderr",
          "text": [
            "\r 79%|███████▉  | 27/34 [03:02<00:54,  7.80s/it]"
          ]
        },
        {
          "output_type": "stream",
          "name": "stdout",
          "text": [
            "Speech recognition failed for /content/drive/MyDrive/Voice/diagnosis_train/ADReSSo21/diagnosis/train/audio/cn/adrso285.wav: No librosa attribute output\n"
          ]
        },
        {
          "output_type": "stream",
          "name": "stderr",
          "text": [
            "\r 82%|████████▏ | 28/34 [03:07<00:41,  6.85s/it]"
          ]
        },
        {
          "output_type": "stream",
          "name": "stdout",
          "text": [
            "Speech recognition failed for /content/drive/MyDrive/Voice/diagnosis_train/ADReSSo21/diagnosis/train/audio/ad/adrso187.wav: No librosa attribute output\n"
          ]
        },
        {
          "output_type": "stream",
          "name": "stderr",
          "text": [
            "\r 85%|████████▌ | 29/34 [03:14<00:35,  7.03s/it]"
          ]
        },
        {
          "output_type": "stream",
          "name": "stdout",
          "text": [
            "Speech recognition failed for /content/drive/MyDrive/Voice/diagnosis_train/ADReSSo21/diagnosis/train/audio/cn/adrso017.wav: No librosa attribute output\n"
          ]
        },
        {
          "output_type": "stream",
          "name": "stderr",
          "text": [
            "\r 88%|████████▊ | 30/34 [03:20<00:26,  6.64s/it]"
          ]
        },
        {
          "output_type": "stream",
          "name": "stdout",
          "text": [
            "Speech recognition failed for /content/drive/MyDrive/Voice/diagnosis_train/ADReSSo21/diagnosis/train/audio/cn/adrso022.wav: No librosa attribute output\n"
          ]
        },
        {
          "output_type": "stream",
          "name": "stderr",
          "text": [
            "\r 91%|█████████ | 31/34 [03:25<00:18,  6.08s/it]"
          ]
        },
        {
          "output_type": "stream",
          "name": "stdout",
          "text": [
            "Speech recognition failed for /content/drive/MyDrive/Voice/diagnosis_train/ADReSSo21/diagnosis/train/audio/cn/adrso014.wav: No librosa attribute output\n"
          ]
        },
        {
          "output_type": "stream",
          "name": "stderr",
          "text": [
            "\r 94%|█████████▍| 32/34 [03:30<00:11,  5.92s/it]"
          ]
        },
        {
          "output_type": "stream",
          "name": "stdout",
          "text": [
            "Speech recognition failed for /content/drive/MyDrive/Voice/diagnosis_train/ADReSSo21/diagnosis/train/audio/ad/adrso247.wav: No librosa attribute output\n"
          ]
        },
        {
          "output_type": "stream",
          "name": "stderr",
          "text": [
            "\r 97%|█████████▋| 33/34 [03:37<00:06,  6.24s/it]"
          ]
        },
        {
          "output_type": "stream",
          "name": "stdout",
          "text": [
            "Speech recognition failed for /content/drive/MyDrive/Voice/diagnosis_train/ADReSSo21/diagnosis/train/audio/ad/adrso212.wav: No librosa attribute output\n"
          ]
        },
        {
          "output_type": "stream",
          "name": "stderr",
          "text": [
            "100%|██████████| 34/34 [03:47<00:00,  6.69s/it]\n"
          ]
        },
        {
          "output_type": "stream",
          "name": "stdout",
          "text": [
            "Audio feature dimension: 141\n",
            "Text feature dimension: 768\n",
            "Starting training...\n"
          ]
        },
        {
          "output_type": "stream",
          "name": "stderr",
          "text": [
            "Epoch 1/50: 100%|██████████| 17/17 [00:00<00:00, 19.30it/s]\n"
          ]
        },
        {
          "output_type": "stream",
          "name": "stdout",
          "text": [
            "Epoch [1/50], Loss: 0.3956, Val Accuracy: 100.00%\n"
          ]
        },
        {
          "output_type": "stream",
          "name": "stderr",
          "text": [
            "Epoch 2/50: 100%|██████████| 17/17 [00:00<00:00, 38.84it/s]\n"
          ]
        },
        {
          "output_type": "stream",
          "name": "stdout",
          "text": [
            "Epoch [2/50], Loss: 0.0000, Val Accuracy: 100.00%\n"
          ]
        },
        {
          "output_type": "stream",
          "name": "stderr",
          "text": [
            "Epoch 3/50: 100%|██████████| 17/17 [00:00<00:00, 39.97it/s]\n"
          ]
        },
        {
          "output_type": "stream",
          "name": "stdout",
          "text": [
            "Epoch [3/50], Loss: 0.0000, Val Accuracy: 100.00%\n"
          ]
        },
        {
          "output_type": "stream",
          "name": "stderr",
          "text": [
            "Epoch 4/50: 100%|██████████| 17/17 [00:00<00:00, 26.54it/s]\n"
          ]
        },
        {
          "output_type": "stream",
          "name": "stdout",
          "text": [
            "Epoch [4/50], Loss: 0.0000, Val Accuracy: 100.00%\n"
          ]
        },
        {
          "output_type": "stream",
          "name": "stderr",
          "text": [
            "Epoch 5/50: 100%|██████████| 17/17 [00:00<00:00, 29.81it/s]\n"
          ]
        },
        {
          "output_type": "stream",
          "name": "stdout",
          "text": [
            "Epoch [5/50], Loss: 0.0000, Val Accuracy: 100.00%\n"
          ]
        },
        {
          "output_type": "stream",
          "name": "stderr",
          "text": [
            "Epoch 6/50: 100%|██████████| 17/17 [00:00<00:00, 26.44it/s]\n"
          ]
        },
        {
          "output_type": "stream",
          "name": "stdout",
          "text": [
            "Epoch [6/50], Loss: 0.0000, Val Accuracy: 100.00%\n"
          ]
        },
        {
          "output_type": "stream",
          "name": "stderr",
          "text": [
            "Epoch 7/50: 100%|██████████| 17/17 [00:00<00:00, 27.67it/s]\n"
          ]
        },
        {
          "output_type": "stream",
          "name": "stdout",
          "text": [
            "Epoch [7/50], Loss: 0.0000, Val Accuracy: 100.00%\n"
          ]
        },
        {
          "output_type": "stream",
          "name": "stderr",
          "text": [
            "Epoch 8/50: 100%|██████████| 17/17 [00:00<00:00, 27.89it/s]\n"
          ]
        },
        {
          "output_type": "stream",
          "name": "stdout",
          "text": [
            "Epoch [8/50], Loss: 0.0000, Val Accuracy: 100.00%\n"
          ]
        },
        {
          "output_type": "stream",
          "name": "stderr",
          "text": [
            "Epoch 9/50: 100%|██████████| 17/17 [00:00<00:00, 27.00it/s]\n"
          ]
        },
        {
          "output_type": "stream",
          "name": "stdout",
          "text": [
            "Epoch [9/50], Loss: 0.0000, Val Accuracy: 100.00%\n"
          ]
        },
        {
          "output_type": "stream",
          "name": "stderr",
          "text": [
            "Epoch 10/50: 100%|██████████| 17/17 [00:00<00:00, 40.61it/s]\n"
          ]
        },
        {
          "output_type": "stream",
          "name": "stdout",
          "text": [
            "Epoch [10/50], Loss: 0.0000, Val Accuracy: 100.00%\n"
          ]
        },
        {
          "output_type": "stream",
          "name": "stderr",
          "text": [
            "Epoch 11/50: 100%|██████████| 17/17 [00:00<00:00, 40.90it/s]\n"
          ]
        },
        {
          "output_type": "stream",
          "name": "stdout",
          "text": [
            "Epoch [11/50], Loss: 0.0000, Val Accuracy: 100.00%\n"
          ]
        },
        {
          "output_type": "stream",
          "name": "stderr",
          "text": [
            "Epoch 12/50: 100%|██████████| 17/17 [00:00<00:00, 39.88it/s]\n"
          ]
        },
        {
          "output_type": "stream",
          "name": "stdout",
          "text": [
            "Epoch [12/50], Loss: 0.0000, Val Accuracy: 100.00%\n"
          ]
        },
        {
          "output_type": "stream",
          "name": "stderr",
          "text": [
            "Epoch 13/50: 100%|██████████| 17/17 [00:00<00:00, 40.11it/s]\n"
          ]
        },
        {
          "output_type": "stream",
          "name": "stdout",
          "text": [
            "Epoch [13/50], Loss: 0.0000, Val Accuracy: 100.00%\n"
          ]
        },
        {
          "output_type": "stream",
          "name": "stderr",
          "text": [
            "Epoch 14/50: 100%|██████████| 17/17 [00:00<00:00, 38.86it/s]\n"
          ]
        },
        {
          "output_type": "stream",
          "name": "stdout",
          "text": [
            "Epoch [14/50], Loss: 0.0000, Val Accuracy: 100.00%\n"
          ]
        },
        {
          "output_type": "stream",
          "name": "stderr",
          "text": [
            "Epoch 15/50: 100%|██████████| 17/17 [00:00<00:00, 38.65it/s]\n"
          ]
        },
        {
          "output_type": "stream",
          "name": "stdout",
          "text": [
            "Epoch [15/50], Loss: 0.0000, Val Accuracy: 100.00%\n"
          ]
        },
        {
          "output_type": "stream",
          "name": "stderr",
          "text": [
            "Epoch 16/50: 100%|██████████| 17/17 [00:00<00:00, 38.69it/s]\n"
          ]
        },
        {
          "output_type": "stream",
          "name": "stdout",
          "text": [
            "Epoch [16/50], Loss: 0.0000, Val Accuracy: 100.00%\n"
          ]
        },
        {
          "output_type": "stream",
          "name": "stderr",
          "text": [
            "Epoch 17/50: 100%|██████████| 17/17 [00:00<00:00, 39.40it/s]\n"
          ]
        },
        {
          "output_type": "stream",
          "name": "stdout",
          "text": [
            "Epoch [17/50], Loss: 0.0000, Val Accuracy: 100.00%\n"
          ]
        },
        {
          "output_type": "stream",
          "name": "stderr",
          "text": [
            "Epoch 18/50: 100%|██████████| 17/17 [00:00<00:00, 39.22it/s]\n"
          ]
        },
        {
          "output_type": "stream",
          "name": "stdout",
          "text": [
            "Epoch [18/50], Loss: 0.0000, Val Accuracy: 100.00%\n"
          ]
        },
        {
          "output_type": "stream",
          "name": "stderr",
          "text": [
            "Epoch 19/50: 100%|██████████| 17/17 [00:00<00:00, 39.69it/s]\n"
          ]
        },
        {
          "output_type": "stream",
          "name": "stdout",
          "text": [
            "Epoch [19/50], Loss: 0.0000, Val Accuracy: 100.00%\n"
          ]
        },
        {
          "output_type": "stream",
          "name": "stderr",
          "text": [
            "Epoch 20/50: 100%|██████████| 17/17 [00:00<00:00, 40.58it/s]\n"
          ]
        },
        {
          "output_type": "stream",
          "name": "stdout",
          "text": [
            "Epoch [20/50], Loss: 0.0000, Val Accuracy: 100.00%\n"
          ]
        },
        {
          "output_type": "stream",
          "name": "stderr",
          "text": [
            "Epoch 21/50: 100%|██████████| 17/17 [00:00<00:00, 38.66it/s]\n"
          ]
        },
        {
          "output_type": "stream",
          "name": "stdout",
          "text": [
            "Epoch [21/50], Loss: 0.0000, Val Accuracy: 100.00%\n"
          ]
        },
        {
          "output_type": "stream",
          "name": "stderr",
          "text": [
            "Epoch 22/50: 100%|██████████| 17/17 [00:00<00:00, 40.14it/s]\n"
          ]
        },
        {
          "output_type": "stream",
          "name": "stdout",
          "text": [
            "Epoch [22/50], Loss: 0.0000, Val Accuracy: 100.00%\n"
          ]
        },
        {
          "output_type": "stream",
          "name": "stderr",
          "text": [
            "Epoch 23/50: 100%|██████████| 17/17 [00:00<00:00, 37.86it/s]\n"
          ]
        },
        {
          "output_type": "stream",
          "name": "stdout",
          "text": [
            "Epoch [23/50], Loss: 0.0000, Val Accuracy: 100.00%\n"
          ]
        },
        {
          "output_type": "stream",
          "name": "stderr",
          "text": [
            "Epoch 24/50: 100%|██████████| 17/17 [00:00<00:00, 40.52it/s]\n"
          ]
        },
        {
          "output_type": "stream",
          "name": "stdout",
          "text": [
            "Epoch [24/50], Loss: 0.0000, Val Accuracy: 100.00%\n"
          ]
        },
        {
          "output_type": "stream",
          "name": "stderr",
          "text": [
            "Epoch 25/50: 100%|██████████| 17/17 [00:00<00:00, 39.15it/s]\n"
          ]
        },
        {
          "output_type": "stream",
          "name": "stdout",
          "text": [
            "Epoch [25/50], Loss: 0.0000, Val Accuracy: 100.00%\n"
          ]
        },
        {
          "output_type": "stream",
          "name": "stderr",
          "text": [
            "Epoch 26/50: 100%|██████████| 17/17 [00:00<00:00, 40.05it/s]\n"
          ]
        },
        {
          "output_type": "stream",
          "name": "stdout",
          "text": [
            "Epoch [26/50], Loss: 0.0000, Val Accuracy: 100.00%\n"
          ]
        },
        {
          "output_type": "stream",
          "name": "stderr",
          "text": [
            "Epoch 27/50: 100%|██████████| 17/17 [00:00<00:00, 39.55it/s]\n"
          ]
        },
        {
          "output_type": "stream",
          "name": "stdout",
          "text": [
            "Epoch [27/50], Loss: 0.0000, Val Accuracy: 100.00%\n"
          ]
        },
        {
          "output_type": "stream",
          "name": "stderr",
          "text": [
            "Epoch 28/50: 100%|██████████| 17/17 [00:00<00:00, 39.15it/s]\n"
          ]
        },
        {
          "output_type": "stream",
          "name": "stdout",
          "text": [
            "Epoch [28/50], Loss: 0.0000, Val Accuracy: 100.00%\n"
          ]
        },
        {
          "output_type": "stream",
          "name": "stderr",
          "text": [
            "Epoch 29/50: 100%|██████████| 17/17 [00:00<00:00, 40.39it/s]\n"
          ]
        },
        {
          "output_type": "stream",
          "name": "stdout",
          "text": [
            "Epoch [29/50], Loss: 0.0000, Val Accuracy: 100.00%\n"
          ]
        },
        {
          "output_type": "stream",
          "name": "stderr",
          "text": [
            "Epoch 30/50: 100%|██████████| 17/17 [00:00<00:00, 36.92it/s]\n"
          ]
        },
        {
          "output_type": "stream",
          "name": "stdout",
          "text": [
            "Epoch [30/50], Loss: 0.0000, Val Accuracy: 100.00%\n"
          ]
        },
        {
          "output_type": "stream",
          "name": "stderr",
          "text": [
            "Epoch 31/50: 100%|██████████| 17/17 [00:00<00:00, 31.43it/s]\n"
          ]
        },
        {
          "output_type": "stream",
          "name": "stdout",
          "text": [
            "Epoch [31/50], Loss: 0.0000, Val Accuracy: 100.00%\n"
          ]
        },
        {
          "output_type": "stream",
          "name": "stderr",
          "text": [
            "Epoch 32/50: 100%|██████████| 17/17 [00:00<00:00, 26.38it/s]\n"
          ]
        },
        {
          "output_type": "stream",
          "name": "stdout",
          "text": [
            "Epoch [32/50], Loss: 0.0000, Val Accuracy: 100.00%\n"
          ]
        },
        {
          "output_type": "stream",
          "name": "stderr",
          "text": [
            "Epoch 33/50: 100%|██████████| 17/17 [00:00<00:00, 25.99it/s]\n"
          ]
        },
        {
          "output_type": "stream",
          "name": "stdout",
          "text": [
            "Epoch [33/50], Loss: 0.0000, Val Accuracy: 100.00%\n"
          ]
        },
        {
          "output_type": "stream",
          "name": "stderr",
          "text": [
            "Epoch 34/50: 100%|██████████| 17/17 [00:00<00:00, 27.61it/s]\n"
          ]
        },
        {
          "output_type": "stream",
          "name": "stdout",
          "text": [
            "Epoch [34/50], Loss: 0.0000, Val Accuracy: 100.00%\n"
          ]
        },
        {
          "output_type": "stream",
          "name": "stderr",
          "text": [
            "Epoch 35/50: 100%|██████████| 17/17 [00:00<00:00, 25.60it/s]\n"
          ]
        },
        {
          "output_type": "stream",
          "name": "stdout",
          "text": [
            "Epoch [35/50], Loss: 0.0000, Val Accuracy: 100.00%\n"
          ]
        },
        {
          "output_type": "stream",
          "name": "stderr",
          "text": [
            "Epoch 36/50: 100%|██████████| 17/17 [00:00<00:00, 26.79it/s]\n"
          ]
        },
        {
          "output_type": "stream",
          "name": "stdout",
          "text": [
            "Epoch [36/50], Loss: 0.0000, Val Accuracy: 100.00%\n"
          ]
        },
        {
          "output_type": "stream",
          "name": "stderr",
          "text": [
            "Epoch 37/50: 100%|██████████| 17/17 [00:00<00:00, 36.93it/s]\n"
          ]
        },
        {
          "output_type": "stream",
          "name": "stdout",
          "text": [
            "Epoch [37/50], Loss: 0.0000, Val Accuracy: 100.00%\n"
          ]
        },
        {
          "output_type": "stream",
          "name": "stderr",
          "text": [
            "Epoch 38/50: 100%|██████████| 17/17 [00:00<00:00, 32.32it/s]\n"
          ]
        },
        {
          "output_type": "stream",
          "name": "stdout",
          "text": [
            "Epoch [38/50], Loss: 0.0000, Val Accuracy: 100.00%\n"
          ]
        },
        {
          "output_type": "stream",
          "name": "stderr",
          "text": [
            "Epoch 39/50: 100%|██████████| 17/17 [00:00<00:00, 29.13it/s]\n"
          ]
        },
        {
          "output_type": "stream",
          "name": "stdout",
          "text": [
            "Epoch [39/50], Loss: 0.0000, Val Accuracy: 100.00%\n"
          ]
        },
        {
          "output_type": "stream",
          "name": "stderr",
          "text": [
            "Epoch 40/50: 100%|██████████| 17/17 [00:00<00:00, 25.23it/s]\n"
          ]
        },
        {
          "output_type": "stream",
          "name": "stdout",
          "text": [
            "Epoch [40/50], Loss: 0.0000, Val Accuracy: 100.00%\n"
          ]
        },
        {
          "output_type": "stream",
          "name": "stderr",
          "text": [
            "Epoch 41/50: 100%|██████████| 17/17 [00:00<00:00, 22.76it/s]\n"
          ]
        },
        {
          "output_type": "stream",
          "name": "stdout",
          "text": [
            "Epoch [41/50], Loss: 0.0000, Val Accuracy: 100.00%\n"
          ]
        },
        {
          "output_type": "stream",
          "name": "stderr",
          "text": [
            "Epoch 42/50: 100%|██████████| 17/17 [00:00<00:00, 22.50it/s]\n"
          ]
        },
        {
          "output_type": "stream",
          "name": "stdout",
          "text": [
            "Epoch [42/50], Loss: 0.0000, Val Accuracy: 100.00%\n"
          ]
        },
        {
          "output_type": "stream",
          "name": "stderr",
          "text": [
            "Epoch 43/50: 100%|██████████| 17/17 [00:00<00:00, 21.24it/s]\n"
          ]
        },
        {
          "output_type": "stream",
          "name": "stdout",
          "text": [
            "Epoch [43/50], Loss: 0.0000, Val Accuracy: 100.00%\n"
          ]
        },
        {
          "output_type": "stream",
          "name": "stderr",
          "text": [
            "Epoch 44/50: 100%|██████████| 17/17 [00:00<00:00, 20.68it/s]\n"
          ]
        },
        {
          "output_type": "stream",
          "name": "stdout",
          "text": [
            "Epoch [44/50], Loss: 0.0000, Val Accuracy: 100.00%\n"
          ]
        },
        {
          "output_type": "stream",
          "name": "stderr",
          "text": [
            "Epoch 45/50: 100%|██████████| 17/17 [00:00<00:00, 19.57it/s]\n"
          ]
        },
        {
          "output_type": "stream",
          "name": "stdout",
          "text": [
            "Epoch [45/50], Loss: 0.0000, Val Accuracy: 100.00%\n"
          ]
        },
        {
          "output_type": "stream",
          "name": "stderr",
          "text": [
            "Epoch 46/50: 100%|██████████| 17/17 [00:00<00:00, 19.04it/s]\n"
          ]
        },
        {
          "output_type": "stream",
          "name": "stdout",
          "text": [
            "Epoch [46/50], Loss: 0.0000, Val Accuracy: 100.00%\n"
          ]
        },
        {
          "output_type": "stream",
          "name": "stderr",
          "text": [
            "Epoch 47/50: 100%|██████████| 17/17 [00:00<00:00, 18.89it/s]\n"
          ]
        },
        {
          "output_type": "stream",
          "name": "stdout",
          "text": [
            "Epoch [47/50], Loss: 0.0000, Val Accuracy: 100.00%\n"
          ]
        },
        {
          "output_type": "stream",
          "name": "stderr",
          "text": [
            "Epoch 48/50: 100%|██████████| 17/17 [00:00<00:00, 19.63it/s]\n"
          ]
        },
        {
          "output_type": "stream",
          "name": "stdout",
          "text": [
            "Epoch [48/50], Loss: 0.0000, Val Accuracy: 100.00%\n"
          ]
        },
        {
          "output_type": "stream",
          "name": "stderr",
          "text": [
            "Epoch 49/50: 100%|██████████| 17/17 [00:00<00:00, 19.18it/s]\n"
          ]
        },
        {
          "output_type": "stream",
          "name": "stdout",
          "text": [
            "Epoch [49/50], Loss: 0.0000, Val Accuracy: 100.00%\n"
          ]
        },
        {
          "output_type": "stream",
          "name": "stderr",
          "text": [
            "Epoch 50/50: 100%|██████████| 17/17 [00:01<00:00, 15.64it/s]\n"
          ]
        },
        {
          "output_type": "stream",
          "name": "stdout",
          "text": [
            "Epoch [50/50], Loss: 0.0000, Val Accuracy: 100.00%\n"
          ]
        },
        {
          "output_type": "display_data",
          "data": {
            "text/plain": [
              "<Figure size 1200x400 with 2 Axes>"
            ],
            "image/png": "[encoded data removed]"
          },
          "metadata": {}
        },
        {
          "output_type": "stream",
          "name": "stdout",
          "text": [
            "Model saved successfully!\n"
          ]
        }
      ]
    }
  ]
}