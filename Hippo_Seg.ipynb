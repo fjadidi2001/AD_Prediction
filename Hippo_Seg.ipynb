{
  "nbformat": 4,
  "nbformat_minor": 0,
  "metadata": {
    "colab": {
      "provenance": [],
      "authorship_tag": "ABX9TyNCEZaBEZUyYfyVKgUf+KDx",
      "include_colab_link": true
    },
    "kernelspec": {
      "name": "python3",
      "display_name": "Python 3"
    },
    "language_info": {
      "name": "python"
    }
  },
  "cells": [
    {
      "cell_type": "markdown",
      "metadata": {
        "id": "view-in-github",
        "colab_type": "text"
      },
      "source": [
        "<a href=\"https://colab.research.google.com/github/fjadidi2001/AD_Prediction/blob/main/Hippo_Seg.ipynb\" target=\"_parent\"><img src=\"https://colab.research.google.com/assets/colab-badge.svg\" alt=\"Open In Colab\"/></a>"
      ]
    },
    {
      "cell_type": "markdown",
      "source": [
        "# Import Libraries\n"
      ],
      "metadata": {
        "id": "tsVSgzEDyrXx"
      }
    },
    {
      "cell_type": "code",
      "execution_count": 1,
      "metadata": {
        "id": "eMLXEIKKkYJk"
      },
      "outputs": [],
      "source": [
        "# Purpose: Import necessary libraries for data processing, model building, and visualization.\n",
        "import os\n",
        "import random\n",
        "import numpy as np\n",
        "import matplotlib.pyplot as plt\n",
        "import tensorflow as tf\n",
        "from tensorflow import keras\n",
        "from skimage.io import imread, imshow\n",
        "from skimage.transform import resize\n",
        "from tqdm import tqdm\n",
        "from sklearn.utils import shuffle\n",
        "from tensorflow.keras import backend as K\n",
        "import seaborn as sns\n",
        "from sklearn.metrics import confusion_matrix\n",
        "import shutil\n",
        "from google.colab import drive\n",
        "import pandas as pd\n",
        "\n",
        "# Set random seed for reproducibility\n",
        "seed = 2019\n",
        "random.seed(seed)\n",
        "np.random.seed(seed)\n",
        "tf.random.set_seed(seed)"
      ]
    },
    {
      "cell_type": "markdown",
      "source": [
        "# Google Drive Setup\n"
      ],
      "metadata": {
        "id": "rGN3IDO0zD-9"
      }
    },
    {
      "cell_type": "code",
      "source": [
        "# Purpose: Mount Google Drive, set paths for dataset and models, and copy dataset if not already present.\n",
        "drive.mount('/content/drive')\n",
        "\n",
        "# Define Drive paths\n",
        "drive_dataset_path = '/content/drive/MyDrive/Hippocampus_Dataset'\n",
        "drive_model_path = '/content/drive/MyDrive/Hippocampus_Models'\n",
        "local_dataset_path = '/content/hippocampus_dataset'\n",
        "\n",
        "# Create directories if they don't exist\n",
        "os.makedirs(drive_dataset_path, exist_ok=True)\n",
        "os.makedirs(drive_model_path, exist_ok=True)\n",
        "\n",
        "# Check if dataset exists in Drive\n",
        "if not os.path.exists(os.path.join(drive_dataset_path, 'aug')):\n",
        "    print(\"Copying dataset to Google Drive...\")\n",
        "    shutil.copy('/content/hippocampus segmentation dataset.zip', drive_dataset_path)\n",
        "    !unzip -q \"{os.path.join(drive_dataset_path, 'hippocampus segmentation dataset.zip')}\" -d \"{local_dataset_path}\"\n",
        "    shutil.copytree(local_dataset_path, os.path.join(drive_dataset_path, 'hippocampus_dataset'))\n",
        "else:\n",
        "    print(\"Loading dataset from Google Drive...\")\n",
        "    shutil.copytree(os.path.join(drive_dataset_path, 'hippocampus_dataset'), local_dataset_path)\n",
        "\n",
        "# Debug: Check dataset contents\n",
        "print(\"Dataset contents:\")\n",
        "!ls {local_dataset_path}\n",
        "print(\"Images folder:\")\n",
        "!ls {os.path.join(local_dataset_path, 'aug/images')}\n",
        "print(\"Left masks folder:\")\n",
        "!ls {os.path.join(local_dataset_path, 'aug/masks/left')}\n",
        "print(\"Right masks folder:\")\n",
        "!ls {os.path.join(local_dataset_path, 'aug/masks/right')}"
      ],
      "metadata": {
        "id": "ERfyMrG-yyic"
      },
      "execution_count": null,
      "outputs": []
    }
  ]
}